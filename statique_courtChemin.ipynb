{
 "cells": [
  {
   "cell_type": "code",
   "execution_count": 10,
   "metadata": {},
   "outputs": [],
   "source": [
    "using JuMP\n",
    "using CPLEX;"
   ]
  },
  {
   "cell_type": "code",
   "execution_count": 9,
   "metadata": {},
   "outputs": [
    {
     "data": {
      "text/plain": [
       "readfile (generic function with 1 method)"
      ]
     },
     "metadata": {},
     "output_type": "display_data"
    }
   ],
   "source": [
    "function extraire_array(str)\n",
    "    matches = match(r\"\\[([\\d,\\s]+)\\]\", str)\n",
    "# Если нашли совпадение, извлекаем числа и преобразуем их в массив\n",
    "    if matches !== nothing\n",
    "        p_values = parse.(Int64, split(matches.captures[1], \",\"))\n",
    "        return p_values;\n",
    "    end\n",
    "end\n",
    "\n",
    "function readfile(namefile::String)\n",
    "\n",
    "    n=0;\n",
    "    s=0;\n",
    "    t=0;\n",
    "    S=0;\n",
    "    d1=0;\n",
    "    d2=0;\n",
    "    p=[];\n",
    "    ph=[];\n",
    "    flag = false;\n",
    "    AdjMat=[];\n",
    "\n",
    "    d=[];\n",
    "    D=[];\n",
    "\n",
    "    if isfile(namefile)\n",
    "        file=open(namefile,\"r\")\n",
    "        data=readlines(file);\n",
    "        for line in data\n",
    "            str=split(line,\" \")\n",
    "            if (flag) ## on lit matrice d'adjeccance\n",
    "                str[end]=chop(str[4])\n",
    "                numbers = parse.(Int64,str[1:3]);\n",
    "                d[numbers[1],numbers[2]]=numbers[3];\n",
    "                AdjMat[numbers[1],numbers[2]]=1;\n",
    "                D[numbers[1],numbers[2]]=parse(Float64,str[4]);\n",
    "            end\n",
    "            if (str[1]==\"n\")\n",
    "                n=parse(Int64,str[3]);\n",
    "                d=zeros(Int64,n,n);\n",
    "                D=zeros(Float64,n,n);\n",
    "                AdjMat=zeros(Int64,n,n);\n",
    "            end\n",
    "\n",
    "            if (str[1]==\"s\")\n",
    "                s=parse(Int64,str[3]);\n",
    "            end\n",
    "            \n",
    "            if (str[1]==\"t\")\n",
    "                t=parse(Int64,str[3]);\n",
    "            end\n",
    "            if (str[1]==\"S\")\n",
    "                S=parse(Int64,str[3])\n",
    "            end\n",
    "\n",
    "            if (str[1]==\"d1\" )\n",
    "                d1=parse(Int64,str[3]);\n",
    "            end\n",
    "            if (str[1]==\"d2\")\n",
    "                d2=parse(Int64,str[3]);\n",
    "            end\n",
    "            \n",
    "            if (str[1]==\"p\")\n",
    "                p=extraire_array(join(str[3:end], \" \"))\n",
    "            end\n",
    "\n",
    "            if (str[1]==\"ph\")\n",
    "                ph=extraire_array(join(str[3:end], \" \"))\n",
    "            end\n",
    "\n",
    "            if (str[1]==\"Mat\")\n",
    "                flag= true;\n",
    "            end\n",
    "        end\n",
    "    end\n",
    "    return(n,s,t,S,d1,d2,p,ph,d,D,AdjMat)\n",
    "end"
   ]
  },
  {
   "cell_type": "code",
   "execution_count": 8,
   "metadata": {},
   "outputs": [
    {
     "data": {
      "text/plain": [
       "dataFiles (generic function with 1 method)"
      ]
     },
     "metadata": {},
     "output_type": "display_data"
    }
   ],
   "source": [
    "function dataFiles(dirName::String) #ecrit tous les noms des fichoer qu ont .gr \n",
    "    names=[]\n",
    "    for file in readdir(dirName)\n",
    "        if occursin(\".gr\",file)\n",
    "            push!(names,file)\n",
    "        end\n",
    "    end\n",
    "    return names\n",
    "end"
   ]
  },
  {
   "cell_type": "code",
   "execution_count": null,
   "metadata": {},
   "outputs": [],
   "source": []
  },
  {
   "cell_type": "code",
   "execution_count": 10,
   "metadata": {},
   "outputs": [
    {
     "data": {
      "text/plain": [
       "StatModel (generic function with 1 method)"
      ]
     },
     "metadata": {},
     "output_type": "display_data"
    }
   ],
   "source": [
    "#statique function \n",
    "function StatModel(n,s,t,S,d1,d2,p,ph,d,D,AdjMat) #return obj value\n",
    "\n",
    "    model=Model(CPLEX.Optimizer)\n",
    "    set_optimizer_attribute(model, \"CPX_PARAM_SCRIND\", 0)\n",
    "    start = time()\n",
    "    \n",
    "    #Variables\n",
    "    @variable(model,x[i in 1:n,j in 1:n;AdjMat[i,j]==1],Bin)\n",
    "    @variable(model,y[1:n],Bin)\n",
    "\n",
    "    #Constraintes\n",
    "    @constraint(model,sum(p[i]*y[i] for i in 1:n)<=S)\n",
    "    @constraint(model,[i in 1:n;i!=t], y[i]==sum(x[i,j] for j in 1:n if AdjMat[i,j]==1))\n",
    "    @constraint(model,y[t]==sum(x[i,t] for i in 1:n if AdjMat[i,t]==1))\n",
    "    @constraint(model,[i in 1:n;i!=s&&i!=t], \n",
    "        sum(x[j,i] for j in 1:n if AdjMat[j,i]==1) - sum(x[i,j] for j in 1:n if AdjMat[i,j]==1)==0)\n",
    "    @constraint(model,sum(x[s,j] for j in 1:n if AdjMat[s,j]==1) - sum(x[j,s] for j in 1:n if AdjMat[j,s]==1)==1)\n",
    "    @constraint(model,sum(x[t,j] for j in 1:n if AdjMat[t,j]==1) - sum(x[j,t] for j in 1:n if AdjMat[j,t]==1)==-1)\n",
    "\n",
    "    #objectif\n",
    "    @objective(model,Min,sum(d[i,j]*x[i,j] for i in 1:n,j in 1:n if AdjMat[i,j]==1))\n",
    "\n",
    "    optimize!(model)\n",
    "    computation_time = time() - start\n",
    "\n",
    "    # Récupération du status de la résolution\n",
    "    feasibleSolutionFound = primal_status(model) == MOI.FEASIBLE_POINT\n",
    "    isOptimal = termination_status(model) == MOI.OPTIMAL\n",
    "    if feasibleSolutionFound\n",
    "        println(\"Probleme resolu:\")\n",
    "        #Valeur objectif\n",
    "        if isOptimal \n",
    "            println(\"Valeur de l'objectif : \",JuMP.objective_value(model))\n",
    "            return JuMP.objective_value(model), computation_time;\n",
    "        end\n",
    "    end\n",
    "    \n",
    "\n",
    "end"
   ]
  },
  {
   "cell_type": "code",
   "execution_count": 11,
   "metadata": {},
   "outputs": [
    {
     "name": "stdout",
     "output_type": "stream",
     "text": [
      "2300_USA-road-d.COL.gr\n",
      "Probleme resolu:"
     ]
    },
    {
     "name": "stdout",
     "output_type": "stream",
     "text": [
      "\n"
     ]
    },
    {
     "name": "stdout",
     "output_type": "stream",
     "text": [
      "Valeur de l'objectif : 40803.0"
     ]
    },
    {
     "name": "stdout",
     "output_type": "stream",
     "text": [
      "\n",
      "1800_USA-road-d.COL.gr\n"
     ]
    },
    {
     "name": "stdout",
     "output_type": "stream",
     "text": [
      "Probleme resolu:\n",
      "Valeur de l'objectif : 34075.0\n"
     ]
    }
   ],
   "source": [
    "# Resoltion du probleme statique\n",
    "\n",
    "outFile=\"statique_result4.csv\"\n",
    "\n",
    "\n",
    "filesNames=[\"2300_USA-road-d.COL.gr\",\n",
    "\"1800_USA-road-d.COL.gr\"\n",
    "]\n",
    "\n",
    "for name in filesNames\n",
    "    println(name)\n",
    "    fout=open(outFile,\"a\")\n",
    "    n,s,t,S,d1,d2,p,ph,d,D,AdjMat=readfile(\"Data_project\\\\data\\\\processed\\\\\"*name)\n",
    "    objValue,time=StatModel(n,s,t,S,d1,d2,p,ph,d,D,AdjMat)\n",
    "    println(fout,name*\",\",objValue,\",\",time)\n",
    "    close(fout)\n",
    "end\n"
   ]
  },
  {
   "cell_type": "code",
   "execution_count": 11,
   "metadata": {},
   "outputs": [
    {
     "data": {
      "text/plain": [
       "SP2 (generic function with 1 method)"
      ]
     },
     "metadata": {},
     "output_type": "display_data"
    }
   ],
   "source": [
    "function SP2(y, n,s,t,S,d1,d2,p,ph,d,D,AdjMat)# return (objective_value, delta2, flag)\n",
    "\n",
    "    m2=Model(CPLEX.Optimizer)\n",
    "    set_optimizer_attribute(m2, \"CPX_PARAM_TILIM\", 10)\n",
    "    set_optimizer_attribute(m2, \"CPX_PARAM_SCRIND\", 0)\n",
    "    #variable delta_ij\n",
    "    @variable(m2,delta2[i in 1:n]>=0)\n",
    "\n",
    "    #Contraintes\n",
    "    @constraint(m2, [i in 1:n], delta2[i]<=2);\n",
    "    @constraint(m2,sum(delta2[i] for i in 1:n)<=d2)\n",
    "\n",
    "    #Objectif\n",
    "    @objective(m2,Max,sum(y[i]*(p[i]+delta2[i]*ph[i]) for i in 1:n));\n",
    "\n",
    "    optimize!(m2)\n",
    "\n",
    "    # Récupération du status de la résolution\n",
    "    feasibleSolutionFound = primal_status(m2) == MOI.FEASIBLE_POINT\n",
    "    isOptimal = termination_status(m2) == MOI.OPTIMAL\n",
    "    if feasibleSolutionFound\n",
    "        #println(\"Sous-Probleme1 resolu:\")\n",
    "        #Valeur objectif\n",
    "        #println(\"Valeur de l'objectif : \",JuMP.objective_value(m2))\n",
    "        return (JuMP.objective_value(m2),JuMP.value.(delta2),1)\n",
    "    else\n",
    "        return (-1,[],0)\n",
    "    end\n",
    "    \n",
    "end"
   ]
  },
  {
   "cell_type": "code",
   "execution_count": 12,
   "metadata": {},
   "outputs": [
    {
     "data": {
      "text/plain": [
       "SP1 (generic function with 1 method)"
      ]
     },
     "metadata": {},
     "output_type": "display_data"
    }
   ],
   "source": [
    "#return (obj_value, delta1, flag) - flag=1 si on a trouver la solution ot, 0 sinon\n",
    "function SP1(x, n,s,t,S,d1,d2,p,ph,d,D,AdjMat)\n",
    "\n",
    "    m1=Model(CPLEX.Optimizer)\n",
    "    set_optimizer_attribute(m1, \"CPX_PARAM_TILIM\", 10)\n",
    "    set_optimizer_attribute(m1, \"CPX_PARAM_SCRIND\", 0)\n",
    "    #variable delta_ij\n",
    "    @variable(m1,delta1[i in 1:n, j in 1:n;AdjMat[i,j]==1]>=0)\n",
    "\n",
    "    #Contraintes\n",
    "    @constraint(m1, [i in 1:n, j in 1:n; AdjMat[i,j]==1], delta1[i,j]<=D[i,j] )\n",
    "    @constraint(m1,sum(delta1[i,j] for i in 1:n, j in 1:n if AdjMat[i,j]==1)<=d1)\n",
    "\n",
    "    #Objectif\n",
    "    @objective(m1,Max,sum(x[i,j]*d[i,j]*(1+delta1[i,j]) for i in 1:n, j in 1:n if AdjMat[i,j]==1))\n",
    "\n",
    "    optimize!(m1)\n",
    "\n",
    "    # Récupération du status de la résolution\n",
    "    feasibleSolutionFound = primal_status(m1) == MOI.FEASIBLE_POINT\n",
    "    isOptimal = termination_status(m1) == MOI.OPTIMAL\n",
    "    if feasibleSolutionFound \n",
    "        #println(\"Sous-Probleme1 resolu:\")\n",
    "        #Valeur objectif\n",
    "        #println(\"Valeur de l'objectif : \",JuMP.objective_value(m1))\n",
    "        return (JuMP.objective_value(m1),JuMP.value.(delta1[:,:]),1)\n",
    "    else\n",
    "        return (-1,-1,0)\n",
    "    end\n",
    "\n",
    "end"
   ]
  },
  {
   "cell_type": "code",
   "execution_count": 14,
   "metadata": {},
   "outputs": [
    {
     "data": {
      "text/plain": [
       "1-element Vector{String}:\n",
       " \"1600_USA-road-d.BAY.gr\""
      ]
     },
     "metadata": {},
     "output_type": "display_data"
    }
   ],
   "source": []
  },
  {
   "cell_type": "code",
   "execution_count": 14,
   "metadata": {},
   "outputs": [],
   "source": [
    "# On précise que le modèle doit utiliser notre fonction de callback\n",
    "resoudre=0\n",
    "filesNames=dataFiles(\"Data_project\\\\data\\\\processed\\\\\")\n",
    "for name in filesNames\n",
    "     n,s,t,S,d1,d2,p,ph,d,D,AdjMat=readfile(\"Data_project\\\\data\\\\processed\\\\\"*name)\n",
    "\n",
    "     model_BC=Model(CPLEX.Optimizer)\n",
    "     MOI.set(model_BC, MOI.NumberOfThreads(), 1)\n",
    "     set_optimizer_attribute(model_BC, \"CPX_PARAM_TILIM\", 100)\n",
    "     set_optimizer_attribute(model_BC, \"CPX_PARAM_SCRIND\", 0)\n",
    "\n",
    "\n",
    "     function mon_callback(cb_data::CPLEX.CallbackContext, context_id::Clong)\n",
    "          # On teste d’abord si c’est l’obtention d’une solution entière\n",
    "          # qui a entraîné l’appel du callback\n",
    "          # (cette fonction isIntegerPoint est définie ci-dessous mais son\n",
    "          # contenu n’est pas très important)\n",
    "      \n",
    "          if isIntegerPoint(cb_data, context_id)\n",
    "              # Cette ligne doit être appelée avant de pouvoir récupérer la\n",
    "              # solution entière ayant entraîné l’appel du callback\n",
    "              CPLEX.load_callback_variable_primal(cb_data, context_id)\n",
    "              # On récupère la valeur de x\n",
    "              x_val = callback_value.(cb_data, model_BC[:x][:,:])\n",
    "              z_val = callback_value(cb_data, z)\n",
    "              y_val = callback_value.(cb_data, model_BC[:y])\n",
    "      \n",
    "              z_1,delta1,flag1=SP1(x_val, n,s,t,S,d1,d2,p,ph,d,D,AdjMat);\n",
    "      \n",
    "              z_2,delta2,flag2=SP2(y_val, n,s,t,S,d1,d2,p,ph,d,D,AdjMat);\n",
    "      \n",
    "              if flag1!=1 || flag2!=1\n",
    "                  println(\"Don't know what to do\")\n",
    "              end\n",
    "      \n",
    "              # on ajoute epsilon 1e-5\n",
    "                  if abs(z_1-z_val)> 1e-5\n",
    "                      cstr = @build_constraint(model_BC[:z] >= sum(d[i,j]*(delta1[i,j]+1)*(model_BC[:x])[i,j] for i in 1:n, j in 1:n if AdjMat[i,j]==1))\n",
    "                      MOI.submit(model_BC, MOI.LazyConstraint(cb_data), cstr)\n",
    "          \n",
    "                      #println(\"Add constraint type 1\")\n",
    "                  end\n",
    "                  if (z_2> S+1e-5)\n",
    "                      cstr=@build_constraint(S>= sum((model_BC[:y])[i]*(delta2[i]*ph[i]+p[i]) for i in 1:n))\n",
    "                      MOI.submit(model_BC,MOI.LazyConstraint(cb_data),cstr)\n",
    "      \n",
    "                     # println(\"Add constraint type 2\")\n",
    "                  end\n",
    "              \n",
    "          end\n",
    "      end\n",
    "      \n",
    "      # Fonction permettant de déterminer si c’est l’obtention d’une\n",
    "      # solution entière qui a entraîné l’appel d’un callback\n",
    "      # (il n’est pas nécessaire d’en comprendre le fonctionnement)1\n",
    "          function isIntegerPoint(cb_data::CPLEX.CallbackContext, context_id::Clong)\n",
    "          # context_id == CPX_CALLBACKCONTEXT_CANDIDATE si le callback est\n",
    "          # appelé dans un des deux cas suivants :\n",
    "          # cas 1 - une solution entière a été obtenue; ou\n",
    "          # cas 2 - une relaxation non bornée a été obtenue\n",
    "          if context_id != CPX_CALLBACKCONTEXT_CANDIDATE\n",
    "              return false\n",
    "          end\n",
    "          # Pour déterminer si on est dans le cas 1 ou 2, on essaie de récupérer la\n",
    "          # solution entière courante\n",
    "          ispoint_p = Ref{Cint}()\n",
    "          ret = CPXcallbackcandidateispoint(cb_data, ispoint_p)\n",
    "          # S’il n’y a pas de solution entière\n",
    "          if ret != 0 || ispoint_p[] == 0\n",
    "              return false\n",
    "          else\n",
    "              return true\n",
    "          end\n",
    "      end\n",
    "              \n",
    "\n",
    "     @variable(model_BC,x[1:n ,1:n], Bin)\n",
    "     @variable(model_BC,y[1:n], Bin)\n",
    "     @variable(model_BC,z>=0)\n",
    "\n",
    "     # Contraint de base\n",
    "     @constraint(model_BC,[j in 1:n; j!=t], y[j]==sum( x[i,j] for i in 1:n if AdjMat[i,j]==1))\n",
    "     @constraint(model_BC,y[t]==sum(x[j,t] for j in 1:n if AdjMat[j,t]==1))\n",
    "     @constraint(model_BC,sum(x[s,j] for j in 1:n if AdjMat[s,j]==1) - sum(x[j,s] for j in 1:n if AdjMat[j,s]==1) ==1)\n",
    "     @constraint(model_BC,sum(x[t,j] for j in 1:n if AdjMat[t,j]==1) - sum(x[j,t] for j in 1:n if AdjMat[j,t]==1) == -1)\n",
    "\n",
    "     @constraint(model_BC, [i in 1:n;i != s && i != t],sum(x[i,j] for j in 1:n if AdjMat[i,j]== 1)\n",
    "          - sum(x[j, i] for j in 1:n if AdjMat[j,i]==1) == 0)\n",
    "     \n",
    "\n",
    "     #Contrainte de Master Probleme\n",
    "     @constraint(model_BC, sum(x[i,j]*d[i,j] for i in 1:n, j in 1:n if AdjMat[i,j]==1)<=z)\n",
    "     @constraint(model_BC, sum(y[i]*p[i] for i in 1:n)<=S)\n",
    "\n",
    "     # objectif function\n",
    "     @objective(model_BC,Min,z)\n",
    "\n",
    "     MOI.set(model_BC, CPLEX.CallbackFunction(), mon_callback)\n",
    "     optimize!(model_BC)\n",
    "\n",
    "     feasibleSolutionFound = primal_status(model_BC) == MOI.FEASIBLE_POINT\n",
    "     isOptimal = termination_status(model_BC) == MOI.OPTIMAL\n",
    "     if feasibleSolutionFound\n",
    "          if isOptimal\n",
    "            resoudre = rsoudre +1\n",
    "               println(JuMP.objective_value(model_BC),\",optimal,\")\n",
    "          #Valeur objectif\n",
    "          else\n",
    "               println(JuMP.objective_value(model_BC),\",feasible,\")\n",
    "          end\n",
    "    else\n",
    "        print(name,\",-1,not find,\")\n",
    "     end\n",
    "     \n",
    "end\n",
    "\n",
    "println(resoudre, \" 100s\")"
   ]
  },
  {
   "cell_type": "code",
   "execution_count": 42,
   "metadata": {},
   "outputs": [],
   "source": [
    "#Heuristique\n",
    "\n",
    "#1 On resous dans le pire cas\n",
    "\n",
    "function Heurist1(n,s,t,S,d1,d2,p,ph,d,D,AdjMat)\n",
    "\n",
    "    h1=Model(CPLEX.Optimizer)\n",
    "\n",
    "    delta_values = zeros(n, n)\n",
    "\n",
    "        # Loop over each pair (i, j) and randomly choose a value for delta_ij\n",
    "    for i in 1:n\n",
    "        for j in 1:n\n",
    "            if AdjMat[i,j]==1\n",
    "            # Generate a random value for delta_ij in the range [0, D_ij]\n",
    "                delta_values[i, j] = rand() * D[i, j]\n",
    "            end\n",
    "        end\n",
    "    end\n",
    "\n",
    "    if sum(delta_values) <= d1\n",
    "        println(\"Randomly chosen values satisfy the constraint.\")\n",
    "    else\n",
    "        println(\"Randomly chosen values do not satisfy the constraint.\")\n",
    "    end\n",
    "\n",
    "\n",
    "    delta2_r=[rand()*2 for i in 1:n]\n",
    "    if sum(delta2_r)<=d2\n",
    "        println(\"delta2 bon\")\n",
    "    else\n",
    "        println(\"We need retry delta2\")\n",
    "    end\n",
    "\n",
    "\n",
    "    \n",
    "    #Solve with these delta1 et delta_2 \n",
    "\n",
    "end"
   ]
  },
  {
   "attachments": {},
   "cell_type": "markdown",
   "metadata": {},
   "source": [
    "## Resulting table and Plots\n"
   ]
  },
  {
   "cell_type": "code",
   "execution_count": 1,
   "metadata": {},
   "outputs": [
    {
     "name": "stderr",
     "output_type": "stream",
     "text": [
      "┌ Warning: attempting to remove probably stale pidfile\n",
      "│   path = C:\\Users\\Boss\\.julia\\registries\\.pid\n",
      "└ @ FileWatching.Pidfile C:\\Users\\Boss\\AppData\\Local\\Programs\\Julia-1.9.3\\share\\julia\\stdlib\\v1.9\\FileWatching\\src\\pidfile.jl:244\n"
     ]
    },
    {
     "name": "stderr",
     "output_type": "stream",
     "text": [
      "\u001b[32m\u001b[1m    Updating\u001b[22m\u001b[39m registry at `C:\\Users\\Boss\\.julia\\registries\\General.toml`\n"
     ]
    },
    {
     "name": "stderr",
     "output_type": "stream",
     "text": [
      "\u001b[32m\u001b[1m   Resolving\u001b[22m\u001b[39m package versions...\n"
     ]
    },
    {
     "name": "stderr",
     "output_type": "stream",
     "text": [
      "\u001b[32m\u001b[1m   Installed\u001b[22m\u001b[39m JpegTurbo ───────────── v0.1.5\n"
     ]
    },
    {
     "name": "stderr",
     "output_type": "stream",
     "text": [
      "\u001b[32m\u001b[1m   Installed\u001b[22m\u001b[39m FFTW ────────────────── v1.8.0\n",
      "\u001b[32m\u001b[1m   Installed\u001b[22m\u001b[39m Permutations ────────── v0.4.20\n"
     ]
    },
    {
     "name": "stderr",
     "output_type": "stream",
     "text": [
      "\u001b[32m\u001b[1m   Installed\u001b[22m\u001b[39m StableHashTraits ────── v1.1.6\n",
      "\u001b[32m\u001b[1m   Installed\u001b[22m\u001b[39m Accessors ───────────── v0.1.35\n",
      "\u001b[32m\u001b[1m   Installed\u001b[22m\u001b[39m PNGFiles ────────────── v0.4.3\n",
      "\u001b[32m\u001b[1m   Installed\u001b[22m\u001b[39m OffsetArrays ────────── v1.13.0\n",
      "\u001b[32m\u001b[1m   Installed\u001b[22m\u001b[39m PDMats ──────────────── v0.11.31\n",
      "\u001b[32m\u001b[1m   Installed\u001b[22m\u001b[39m DoubleFloats ────────── v1.3.3\n"
     ]
    },
    {
     "name": "stderr",
     "output_type": "stream",
     "text": [
      "\u001b[32m\u001b[1m   Installed\u001b[22m\u001b[39m IntelOpenMP_jll ─────── v2024.0.2+0\n"
     ]
    },
    {
     "name": "stderr",
     "output_type": "stream",
     "text": [
      "\u001b[32m\u001b[1m   Installed\u001b[22m\u001b[39m Mods ────────────────── v2.2.4\n",
      "\u001b[32m\u001b[1m   Installed\u001b[22m\u001b[39m PlotUtils ───────────── v1.4.0\n"
     ]
    },
    {
     "name": "stderr",
     "output_type": "stream",
     "text": [
      "\u001b[32m\u001b[1m   Installed\u001b[22m\u001b[39m Static ──────────────── v0.8.9\n",
      "\u001b[32m\u001b[1m   Installed\u001b[22m\u001b[39m NearestNeighbors ────── v0.4.16\n"
     ]
    },
    {
     "name": "stderr",
     "output_type": "stream",
     "text": [
      "\u001b[32m\u001b[1m   Installed\u001b[22m\u001b[39m Roots ───────────────── v2.1.2\n"
     ]
    },
    {
     "name": "stderr",
     "output_type": "stream",
     "text": [
      "\u001b[32m\u001b[1m   Installed\u001b[22m\u001b[39m StaticArrays ────────── v1.9.2\n"
     ]
    },
    {
     "name": "stderr",
     "output_type": "stream",
     "text": [
      "\u001b[32m\u001b[1m   Installed\u001b[22m\u001b[39m FileIO ──────────────── v1.16.2\n"
     ]
    },
    {
     "name": "stderr",
     "output_type": "stream",
     "text": [
      "\u001b[32m\u001b[1m   Installed\u001b[22m\u001b[39m FiniteDiff ──────────── v2.22.0\n"
     ]
    },
    {
     "name": "stderr",
     "output_type": "stream",
     "text": [
      "\u001b[32m\u001b[1m   Installed\u001b[22m\u001b[39m JLD2 ────────────────── v0.4.45\n"
     ]
    },
    {
     "name": "stderr",
     "output_type": "stream",
     "text": [
      "\u001b[32m\u001b[1m   Installed\u001b[22m\u001b[39m Bzip2_jll ───────────── v1.0.8+1\n",
      "\u001b[32m\u001b[1m   Installed\u001b[22m\u001b[39m CodecBzip2 ──────────── v0.8.2\n"
     ]
    },
    {
     "name": "stderr",
     "output_type": "stream",
     "text": [
      "\u001b[32m\u001b[1m   Installed\u001b[22m\u001b[39m MsgPack ─────────────── v1.2.1\n",
      "\u001b[32m\u001b[1m   Installed\u001b[22m\u001b[39m PikaParser ──────────── v0.6.1\n"
     ]
    },
    {
     "name": "stderr",
     "output_type": "stream",
     "text": [
      "\u001b[32m\u001b[1m   Installed\u001b[22m\u001b[39m Clustering ──────────── v0.15.7\n",
      "\u001b[32m\u001b[1m   Installed\u001b[22m\u001b[39m GLFW_jll ────────────── v3.3.9+0\n"
     ]
    },
    {
     "name": "stderr",
     "output_type": "stream",
     "text": [
      "\u001b[32m\u001b[1m   Installed\u001b[22m\u001b[39m FreeType ────────────── v4.1.1\n",
      "\u001b[32m\u001b[1m   Installed\u001b[22m\u001b[39m TranscodingStreams ──── v0.10.3\n",
      "\u001b[32m\u001b[1m   Installed\u001b[22m\u001b[39m DataStructures ──────── v0.18.16\n",
      "\u001b[32m\u001b[1m   Installed\u001b[22m\u001b[39m LinearAlgebraX ──────── v0.2.7\n"
     ]
    },
    {
     "name": "stderr",
     "output_type": "stream",
     "text": [
      "\u001b[32m\u001b[1m   Installed\u001b[22m\u001b[39m Compat ──────────────── v4.12.0\n"
     ]
    },
    {
     "name": "stderr",
     "output_type": "stream",
     "text": [
      "\u001b[32m\u001b[1m   Installed\u001b[22m\u001b[39m ExceptionUnwrapping ─── v0.1.10\n",
      "\u001b[32m\u001b[1m   Installed\u001b[22m\u001b[39m CodecZlib ───────────── v0.7.4\n",
      "\u001b[32m\u001b[1m   Installed\u001b[22m\u001b[39m Automa ──────────────── v1.0.3\n",
      "\u001b[32m\u001b[1m   Installed\u001b[22m\u001b[39m ImageTransformations ── v0.10.1\n",
      "\u001b[32m\u001b[1m   Installed\u001b[22m\u001b[39m StaticArrayInterface ── v1.5.0\n"
     ]
    },
    {
     "name": "stderr",
     "output_type": "stream",
     "text": [
      "\u001b[32m\u001b[1m   Installed\u001b[22m\u001b[39m MathOptInterface ────── v1.25.2\n",
      "\u001b[32m\u001b[1m   Installed\u001b[22m\u001b[39m JSON3 ───────────────── v1.14.0\n",
      "\u001b[32m\u001b[1m   Installed\u001b[22m\u001b[39m ImageCore ───────────── v0.10.2\n"
     ]
    },
    {
     "name": "stderr",
     "output_type": "stream",
     "text": [
      "\u001b[32m\u001b[1m   Installed\u001b[22m\u001b[39m MKL_jll ─────────────── v2024.0.0+0\n",
      "\u001b[32m\u001b[1m   Installed\u001b[22m\u001b[39m ExactPredicates ─────── v2.2.8\n",
      "\u001b[32m\u001b[1m   Installed\u001b[22m\u001b[39m FreeTypeAbstraction ─── v0.10.1\n"
     ]
    },
    {
     "name": "stderr",
     "output_type": "stream",
     "text": [
      "\u001b[32m\u001b[1m   Installed\u001b[22m\u001b[39m Parsers ─────────────── v2.8.1\n",
      "\u001b[32m\u001b[1m   Installed\u001b[22m\u001b[39m ArrayInterface ──────── v7.7.0\n",
      "\u001b[32m\u001b[1m   Installed\u001b[22m\u001b[39m Quaternions ─────────── v0.7.6\n",
      "\u001b[32m\u001b[1m   Installed\u001b[22m\u001b[39m ChainRulesCore ──────── v1.21.0\n"
     ]
    },
    {
     "name": "stderr",
     "output_type": "stream",
     "text": [
      "\u001b[32m\u001b[1m   Installed\u001b[22m\u001b[39m GPUArraysCore ───────── v0.1.6\n"
     ]
    },
    {
     "name": "stderr",
     "output_type": "stream",
     "text": [
      "\u001b[32m\u001b[1m   Installed\u001b[22m\u001b[39m InverseFunctions ────── v0.1.12\n",
      "\u001b[32m\u001b[1m   Installed\u001b[22m\u001b[39m Wayland_protocols_jll ─ v1.31.0+0\n",
      "\u001b[32m\u001b[1m   Installed\u001b[22m\u001b[39m MacroTools ──────────── v0.5.13\n"
     ]
    },
    {
     "name": "stderr",
     "output_type": "stream",
     "text": [
      "\u001b[32m\u001b[1m   Installed\u001b[22m\u001b[39m Rotations ───────────── v1.7.0\n"
     ]
    },
    {
     "name": "stderr",
     "output_type": "stream",
     "text": [
      "\u001b[32m\u001b[1m   Installed\u001b[22m\u001b[39m IntervalArithmetic ──── v0.22.7\n"
     ]
    },
    {
     "name": "stderr",
     "output_type": "stream",
     "text": [
      "\u001b[32m\u001b[1m   Installed\u001b[22m\u001b[39m Adapt ───────────────── v4.0.1\n"
     ]
    },
    {
     "name": "stderr",
     "output_type": "stream",
     "text": [
      "\u001b[32m\u001b[1m   Installed\u001b[22m\u001b[39m GeometryBasics ──────── v0.4.10\n",
      "\u001b[32m\u001b[1m   Installed\u001b[22m\u001b[39m IntervalSets ────────── v0.7.9\n",
      "\u001b[32m\u001b[1m   Installed\u001b[22m\u001b[39m IterTools ───────────── v1.10.0\n",
      "\u001b[32m\u001b[1m   Installed\u001b[22m\u001b[39m Interpolations ──────── v0.14.0\n"
     ]
    },
    {
     "name": "stderr",
     "output_type": "stream",
     "text": [
      "\u001b[32m\u001b[1m   Installed\u001b[22m\u001b[39m DataAPI ─────────────── v1.16.0\n"
     ]
    },
    {
     "name": "stderr",
     "output_type": "stream",
     "text": [
      "\u001b[32m\u001b[1m   Installed\u001b[22m\u001b[39m LLVMOpenMP_jll ──────── v15.0.7+0\n"
     ]
    },
    {
     "name": "stderr",
     "output_type": "stream",
     "text": [
      "\u001b[32m\u001b[1m   Installed\u001b[22m\u001b[39m ShaderAbstractions ──── v0.4.1\n",
      "\u001b[32m\u001b[1m   Installed\u001b[22m\u001b[39m TZJData ─────────────── v1.1.0+2023d\n",
      "\u001b[32m\u001b[1m   Installed\u001b[22m\u001b[39m FillArrays ──────────── v1.9.3\n"
     ]
    },
    {
     "name": "stderr",
     "output_type": "stream",
     "text": [
      "\u001b[32m\u001b[1m   Installed\u001b[22m\u001b[39m StructArrays ────────── v0.6.17\n",
      "\u001b[32m\u001b[1m   Installed\u001b[22m\u001b[39m QuadGK ──────────────── v2.9.4\n",
      "\u001b[32m\u001b[1m   Installed\u001b[22m\u001b[39m Optim ───────────────── v1.9.2\n",
      "\u001b[32m\u001b[1m   Installed\u001b[22m\u001b[39m DelaunayTriangulation ─ v0.8.12\n"
     ]
    },
    {
     "name": "stderr",
     "output_type": "stream",
     "text": [
      "\u001b[32m\u001b[1m   Installed\u001b[22m\u001b[39m GeoInterface ────────── v1.3.3\n",
      "\u001b[32m\u001b[1m   Installed\u001b[22m\u001b[39m SortingAlgorithms ───── v1.2.1\n"
     ]
    },
    {
     "name": "stderr",
     "output_type": "stream",
     "text": [
      "\u001b[32m\u001b[1m  No Changes\u001b[22m\u001b[39m to `C:\\Users\\Boss\\.julia\\environments\\v1.9\\Project.toml`\n",
      "\u001b[32m\u001b[1m    Updating\u001b[22m\u001b[39m `C:\\Users\\Boss\\.julia\\environments\\v1.9\\Manifest.toml`\n"
     ]
    },
    {
     "name": "stderr",
     "output_type": "stream",
     "text": [
      "  \u001b[90m[7d9f7c33] \u001b[39m\u001b[92m+ Accessors v0.1.35\u001b[39m\n",
      "  \u001b[90m[79e6a3ab] \u001b[39m\u001b[93m↑ Adapt v3.7.1 ⇒ v4.0.1\u001b[39m\n",
      "  \u001b[90m[4fba245c] \u001b[39m\u001b[93m↑ ArrayInterface v7.6.1 ⇒ v7.7.0\u001b[39m\n",
      "  \u001b[90m[67c07d97] \u001b[39m\u001b[93m↑ Automa v1.0.2 ⇒ v1.0.3\u001b[39m\n",
      "  \u001b[90m[96374032] \u001b[39m\u001b[91m- CRlibm v1.0.1\u001b[39m\n",
      "  \u001b[90m[d360d2e6] \u001b[39m\u001b[93m↑ ChainRulesCore v1.18.0 ⇒ v1.21.0\u001b[39m\n",
      "  \u001b[90m[aaaa29a8] \u001b[39m\u001b[93m↑ Clustering v0.15.5 ⇒ v0.15.7\u001b[39m\n",
      "  \u001b[90m[523fee87] \u001b[39m\u001b[93m↑ CodecBzip2 v0.8.1 ⇒ v0.8.2\u001b[39m\n",
      "  \u001b[90m[944b1d66] \u001b[39m\u001b[93m↑ CodecZlib v0.7.3 ⇒ v0.7.4\u001b[39m\n",
      "  \u001b[90m[c3611d14] \u001b[39m\u001b[93m↑ ColorVectorSpace v0.9.10 ⇒ v0.10.0\u001b[39m\n",
      "  \u001b[90m[34da2185] \u001b[39m\u001b[93m↑ Compat v4.10.1 ⇒ v4.12.0\u001b[39m\n",
      "  \u001b[90m[a33af91c] \u001b[39m\u001b[92m+ CompositionsBase v0.1.2\u001b[39m\n",
      "  \u001b[90m[9a962f9c] \u001b[39m\u001b[93m↑ DataAPI v1.15.0 ⇒ v1.16.0\u001b[39m\n",
      "  \u001b[90m[864edb3b] \u001b[39m\u001b[93m↑ DataStructures v0.18.15 ⇒ v0.18.16\u001b[39m\n",
      "  \u001b[90m[927a84f5] \u001b[39m\u001b[93m↑ DelaunayTriangulation v0.8.11 ⇒ v0.8.12\u001b[39m\n",
      "  \u001b[90m[497a8b3b] \u001b[39m\u001b[93m↑ DoubleFloats v1.2.6 ⇒ v1.3.3\u001b[39m\n",
      "  \u001b[90m[90fa49ef] \u001b[39m\u001b[91m- ErrorfreeArithmetic v0.5.2\u001b[39m\n",
      "  \u001b[90m[429591f6] \u001b[39m\u001b[93m↑ ExactPredicates v2.2.6 ⇒ v2.2.8\u001b[39m\n",
      "  \u001b[90m[460bff9d] \u001b[39m\u001b[93m↑ ExceptionUnwrapping v0.1.9 ⇒ v0.1.10\u001b[39m\n",
      "  \u001b[90m[7a1cc6ca] \u001b[39m\u001b[93m↑ FFTW v1.7.1 ⇒ v1.8.0\u001b[39m\n",
      "  \u001b[90m[fa42c844] \u001b[39m\u001b[91m- FastRounding v0.3.1\u001b[39m\n",
      "  \u001b[90m[5789e2e9] \u001b[39m\u001b[93m↑ FileIO v1.16.1 ⇒ v1.16.2\u001b[39m\n",
      "  \u001b[90m[1a297f60] \u001b[39m\u001b[93m↑ FillArrays v1.9.2 ⇒ v1.9.3\u001b[39m\n",
      "  \u001b[90m[6a86dc24] \u001b[39m\u001b[93m↑ FiniteDiff v2.21.1 ⇒ v2.22.0\u001b[39m\n",
      "  \u001b[90m[b38be410] \u001b[39m\u001b[93m↑ FreeType v4.1.0 ⇒ v4.1.1\u001b[39m\n",
      "  \u001b[90m[663a7486] \u001b[39m\u001b[93m↑ FreeTypeAbstraction v0.10.0 ⇒ v0.10.1\u001b[39m\n",
      "  \u001b[90m[46192b85] \u001b[39m\u001b[93m↑ GPUArraysCore v0.1.5 ⇒ v0.1.6\u001b[39m\n",
      "  \u001b[90m[cf35fbd7] \u001b[39m\u001b[93m↑ GeoInterface v1.3.2 ⇒ v1.3.3\u001b[39m\n",
      "  \u001b[90m[5c1252a2] \u001b[39m\u001b[93m↑ GeometryBasics v0.4.9 ⇒ v0.4.10\u001b[39m\n",
      "  \u001b[90m[c817782e] \u001b[39m\u001b[93m↑ ImageBase v0.1.5 ⇒ v0.1.7\u001b[39m\n",
      "  \u001b[90m[a09fc81d] \u001b[39m\u001b[93m↑ ImageCore v0.9.4 ⇒ v0.10.2\u001b[39m\n",
      "  \u001b[90m[6a3955dd] \u001b[39m\u001b[93m↑ ImageFiltering v0.7.6 ⇒ v0.7.8\u001b[39m\n",
      "  \u001b[90m[82e4d734] \u001b[39m\u001b[93m↑ ImageIO v0.4.1 ⇒ v0.6.7\u001b[39m\n",
      "  \u001b[90m[80713f31] \u001b[39m\u001b[93m↑ ImageSegmentation v1.8.1 ⇒ v1.8.2\u001b[39m\n",
      "  \u001b[90m[02fcd773] \u001b[39m\u001b[93m↑ ImageTransformations v0.10.0 ⇒ v0.10.1\u001b[39m\n",
      "\u001b[33m⌅\u001b[39m \u001b[90m[a98d9a8b] \u001b[39m\u001b[95m↓ Interpolations v0.14.7 ⇒ v0.14.0\u001b[39m\n",
      "  \u001b[90m[d1acc4aa] \u001b[39m\u001b[93m↑ IntervalArithmetic v0.21.2 ⇒ v0.22.7\u001b[39m\n",
      "  \u001b[90m[8197267c] \u001b[39m\u001b[93m↑ IntervalSets v0.7.8 ⇒ v0.7.9\u001b[39m\n",
      "  \u001b[90m[3587e190] \u001b[39m\u001b[92m+ InverseFunctions v0.1.12\u001b[39m\n",
      "  \u001b[90m[c8e1da08] \u001b[39m\u001b[93m↑ IterTools v1.8.0 ⇒ v1.10.0\u001b[39m\n",
      "  \u001b[90m[033835bb] \u001b[39m\u001b[93m↑ JLD2 v0.4.38 ⇒ v0.4.45\u001b[39m\n",
      "  \u001b[90m[0f8b85d8] \u001b[39m\u001b[93m↑ JSON3 v1.13.2 ⇒ v1.14.0\u001b[39m\n",
      "  \u001b[90m[b835a17e] \u001b[39m\u001b[92m+ JpegTurbo v0.1.5\u001b[39m\n",
      "  \u001b[90m[9b3f67b0] \u001b[39m\u001b[93m↑ LinearAlgebraX v0.2.5 ⇒ v0.2.7\u001b[39m\n",
      "  \u001b[90m[1914dd2f] \u001b[39m\u001b[93m↑ MacroTools v0.5.11 ⇒ v0.5.13\u001b[39m\n",
      "  \u001b[90m[b8f27783] \u001b[39m\u001b[93m↑ MathOptInterface v1.23.0 ⇒ v1.25.2\u001b[39m\n",
      "  \u001b[90m[7475f97c] \u001b[39m\u001b[93m↑ Mods v2.2.0 ⇒ v2.2.4\u001b[39m\n",
      "  \u001b[90m[99f44e22] \u001b[39m\u001b[93m↑ MsgPack v1.2.0 ⇒ v1.2.1\u001b[39m\n",
      "  \u001b[90m[b8a86587] \u001b[39m\u001b[93m↑ NearestNeighbors v0.4.13 ⇒ v0.4.16\u001b[39m\n",
      "  \u001b[90m[6fe1bfb0] \u001b[39m\u001b[93m↑ OffsetArrays v1.12.10 ⇒ v1.13.0\u001b[39m\n",
      "  \u001b[90m[52e1d378] \u001b[39m\u001b[92m+ OpenEXR v0.3.2\u001b[39m\n",
      "  \u001b[90m[429524aa] \u001b[39m\u001b[93m↑ Optim v1.7.8 ⇒ v1.9.2\u001b[39m\n",
      "  \u001b[90m[90014a1f] \u001b[39m\u001b[93m↑ PDMats v0.11.30 ⇒ v0.11.31\u001b[39m\n",
      "  \u001b[90m[f57f5aa1] \u001b[39m\u001b[93m↑ PNGFiles v0.3.17 ⇒ v0.4.3\u001b[39m\n",
      "  \u001b[90m[69de0a69] \u001b[39m\u001b[93m↑ Parsers v2.8.0 ⇒ v2.8.1\u001b[39m\n",
      "  \u001b[90m[2ae35dd2] \u001b[39m\u001b[93m↑ Permutations v0.4.19 ⇒ v0.4.20\u001b[39m\n",
      "  \u001b[90m[3bbf5609] \u001b[39m\u001b[92m+ PikaParser v0.6.1\u001b[39m\n",
      "  \u001b[90m[eebad327] \u001b[39m\u001b[92m+ PkgVersion v0.3.3\u001b[39m\n",
      "  \u001b[90m[995b91a9] \u001b[39m\u001b[93m↑ PlotUtils v1.3.5 ⇒ v1.4.0\u001b[39m\n",
      "  \u001b[90m[92933f4c] \u001b[39m\u001b[92m+ ProgressMeter v1.9.0\u001b[39m\n",
      "  \u001b[90m[4b34888f] \u001b[39m\u001b[92m+ QOI v1.0.0\u001b[39m\n",
      "  \u001b[90m[1fd47b50] \u001b[39m\u001b[93m↑ QuadGK v2.9.1 ⇒ v2.9.4\u001b[39m\n",
      "  \u001b[90m[94ee1d12] \u001b[39m\u001b[93m↑ Quaternions v0.7.5 ⇒ v0.7.6\u001b[39m\n",
      "  \u001b[90m[f2b01f46] \u001b[39m\u001b[93m↑ Roots v2.0.22 ⇒ v2.1.2\u001b[39m\n",
      "  \u001b[90m[6038ab10] \u001b[39m\u001b[93m↑ Rotations v1.6.1 ⇒ v1.7.0\u001b[39m\n",
      "  \u001b[90m[3cc68bcd] \u001b[39m\u001b[91m- SetRounding v0.2.1\u001b[39m\n",
      "  \u001b[90m[65257c39] \u001b[39m\u001b[93m↑ ShaderAbstractions v0.4.0 ⇒ v0.4.1\u001b[39m\n",
      "  \u001b[90m[45858cf5] \u001b[39m\u001b[92m+ Sixel v0.1.3\u001b[39m\n",
      "  \u001b[90m[a2af1166] \u001b[39m\u001b[93m↑ SortingAlgorithms v1.2.0 ⇒ v1.2.1\u001b[39m\n",
      "  \u001b[90m[c5dd0088] \u001b[39m\u001b[93m↑ StableHashTraits v1.1.2 ⇒ v1.1.6\u001b[39m\n",
      "  \u001b[90m[aedffcd0] \u001b[39m\u001b[93m↑ Static v0.8.8 ⇒ v0.8.9\u001b[39m\n",
      "  \u001b[90m[0d7ed370] \u001b[39m\u001b[93m↑ StaticArrayInterface v1.4.1 ⇒ v1.5.0\u001b[39m\n",
      "  \u001b[90m[90137ffa] \u001b[39m\u001b[93m↑ StaticArrays v1.7.0 ⇒ v1.9.2\u001b[39m\n",
      "  \u001b[90m[09ab397b] \u001b[39m\u001b[93m↑ StructArrays v0.6.16 ⇒ v0.6.17\u001b[39m\n",
      "  \u001b[90m[dc5dba14] \u001b[39m\u001b[93m↑ TZJData v1.0.0+2023c ⇒ v1.1.0+2023d\u001b[39m\n",
      "\u001b[33m⌅\u001b[39m \u001b[90m[731e570b] \u001b[39m\u001b[92m+ TiffImages v0.6.8\u001b[39m\n",
      "  \u001b[90m[3bb67fe8] \u001b[39m\u001b[93m↑ TranscodingStreams v0.10.2 ⇒ v0.10.3\u001b[39m\n",
      "  \u001b[90m[6e34b625] \u001b[39m\u001b[93m↑ Bzip2_jll v1.0.8+0 ⇒ v1.0.8+1\u001b[39m\n",
      "  \u001b[90m[0656b61e] \u001b[39m\u001b[93m↑ GLFW_jll v3.3.8+0 ⇒ v3.3.9+0\u001b[39m\n",
      "  \u001b[90m[905a6f67] \u001b[39m\u001b[92m+ Imath_jll v3.1.7+0\u001b[39m\n",
      "  \u001b[90m[1d5cc7b8] \u001b[39m\u001b[93m↑ IntelOpenMP_jll v2024.0.0+0 ⇒ v2024.0.2+0\u001b[39m\n",
      "  \u001b[90m[1d63c593] \u001b[39m\u001b[93m↑ LLVMOpenMP_jll v15.0.4+0 ⇒ v15.0.7+0\u001b[39m\n",
      "  \u001b[90m[856f044c] \u001b[39m\u001b[93m↑ MKL_jll v2023.2.0+0 ⇒ v2024.0.0+0\u001b[39m\n",
      "  \u001b[90m[18a262bb] \u001b[39m\u001b[92m+ OpenEXR_jll v3.1.4+0\u001b[39m\n",
      "  \u001b[90m[2381bf8a] \u001b[39m\u001b[93m↑ Wayland_protocols_jll v1.25.0+0 ⇒ v1.31.0+0\u001b[39m\n",
      "  \u001b[90m[075b6546] \u001b[39m\u001b[92m+ libsixel_jll v1.10.3+0\u001b[39m\n",
      "\u001b[36m\u001b[1m        Info\u001b[22m\u001b[39m Packages marked with \u001b[33m⌅\u001b[39m have new versions available but compatibility constraints restrict them from upgrading. To see why use `status --outdated -m`\n"
     ]
    },
    {
     "name": "stderr",
     "output_type": "stream",
     "text": [
      "\u001b[32m\u001b[1mPrecompiling\u001b[22m\u001b[39m "
     ]
    },
    {
     "name": "stderr",
     "output_type": "stream",
     "text": [
      "project..."
     ]
    },
    {
     "name": "stderr",
     "output_type": "stream",
     "text": [
      "\n"
     ]
    },
    {
     "name": "stderr",
     "output_type": "stream",
     "text": [
      "\u001b[32m  ✓ \u001b[39m\u001b[90mIntervalSets\u001b[39m\n",
      "\u001b[32m  ✓ \u001b[39m\u001b[90mCompat\u001b[39m\n"
     ]
    },
    {
     "name": "stderr",
     "output_type": "stream",
     "text": [
      "\u001b[32m  ✓ \u001b[39m\u001b[90mInverseFunctions\u001b[39m\n"
     ]
    },
    {
     "name": "stderr",
     "output_type": "stream",
     "text": [
      "\u001b[32m  ✓ \u001b[39m\u001b[90mDataAPI\u001b[39m\n",
      "\u001b[32m  ✓ \u001b[39m\u001b[90mOffsetArrays\u001b[39m\n"
     ]
    },
    {
     "name": "stderr",
     "output_type": "stream",
     "text": [
      "\u001b[32m  ✓ \u001b[39m\u001b[90mIterTools\u001b[39m\n"
     ]
    },
    {
     "name": "stderr",
     "output_type": "stream",
     "text": [
      "\u001b[32m  ✓ \u001b[39m\u001b[90mTranscodingStreams\u001b[39m\n"
     ]
    },
    {
     "name": "stderr",
     "output_type": "stream",
     "text": [
      "\u001b[32m  ✓ \u001b[39m\u001b[90mMods\u001b[39m\n"
     ]
    },
    {
     "name": "stderr",
     "output_type": "stream",
     "text": [
      "\u001b[32m  ✓ \u001b[39m\u001b[90mQuaternions\u001b[39m\n"
     ]
    },
    {
     "name": "stderr",
     "output_type": "stream",
     "text": [
      "\u001b[32m  ✓ \u001b[39m\u001b[90mGeoInterface\u001b[39m\n"
     ]
    },
    {
     "name": "stderr",
     "output_type": "stream",
     "text": [
      "\u001b[32m  ✓ \u001b[39m\u001b[90mTZJData\u001b[39m\n"
     ]
    },
    {
     "name": "stderr",
     "output_type": "stream",
     "text": [
      "\u001b[32m  ✓ \u001b[39m\u001b[90mFillArrays\u001b[39m\n"
     ]
    },
    {
     "name": "stderr",
     "output_type": "stream",
     "text": [
      "\u001b[32m  ✓ \u001b[39m\u001b[90mMsgPack\u001b[39m\n",
      "\u001b[32m  ✓ \u001b[39m\u001b[90mExceptionUnwrapping\u001b[39m\n"
     ]
    },
    {
     "name": "stderr",
     "output_type": "stream",
     "text": [
      "\u001b[32m  ✓ \u001b[39m\u001b[90mStatic\u001b[39m\n"
     ]
    },
    {
     "name": "stderr",
     "output_type": "stream",
     "text": [
      "\u001b[32m  ✓ \u001b[39m\u001b[90mPermutations\u001b[39m\n"
     ]
    },
    {
     "name": "stderr",
     "output_type": "stream",
     "text": [
      "\u001b[32m  ✓ \u001b[39m\u001b[90mAdapt\u001b[39m\n"
     ]
    },
    {
     "name": "stderr",
     "output_type": "stream",
     "text": [
      "\u001b[32m  ✓ \u001b[39m\u001b[90mPikaParser\u001b[39m\n"
     ]
    },
    {
     "name": "stderr",
     "output_type": "stream",
     "text": [
      "\u001b[32m  ✓ \u001b[39m\u001b[90mPDMats\u001b[39m\n"
     ]
    },
    {
     "name": "stderr",
     "output_type": "stream",
     "text": [
      "\u001b[32m  ✓ \u001b[39m\u001b[90mMacroTools\u001b[39m\n"
     ]
    },
    {
     "name": "stderr",
     "output_type": "stream",
     "text": [
      "\u001b[32m  ✓ \u001b[39m\u001b[90mColorVectorSpace\u001b[39m\n"
     ]
    },
    {
     "name": "stderr",
     "output_type": "stream",
     "text": [
      "\u001b[32m  ✓ \u001b[39m\u001b[90mFileIO\u001b[39m\n"
     ]
    },
    {
     "name": "stderr",
     "output_type": "stream",
     "text": [
      "\u001b[32m  ✓ \u001b[39m\u001b[90mWayland_protocols_jll\u001b[39m\n"
     ]
    },
    {
     "name": "stderr",
     "output_type": "stream",
     "text": [
      "\u001b[32m  ✓ \u001b[39m\u001b[90mLLVMOpenMP_jll\u001b[39m\n"
     ]
    },
    {
     "name": "stderr",
     "output_type": "stream",
     "text": [
      "\u001b[32m  ✓ \u001b[39m\u001b[90mIntelOpenMP_jll\u001b[39m\n"
     ]
    },
    {
     "name": "stderr",
     "output_type": "stream",
     "text": [
      "\u001b[32m  ✓ \u001b[39m\u001b[90mlibsixel_jll\u001b[39m\n"
     ]
    },
    {
     "name": "stderr",
     "output_type": "stream",
     "text": [
      "\u001b[32m  ✓ \u001b[39m\u001b[90mBzip2_jll\u001b[39m\n"
     ]
    },
    {
     "name": "stderr",
     "output_type": "stream",
     "text": [
      "\u001b[32m  ✓ \u001b[39m\u001b[90mStaticArrays\u001b[39m\n"
     ]
    },
    {
     "name": "stderr",
     "output_type": "stream",
     "text": [
      "\u001b[32m  ✓ \u001b[39m\u001b[90mGLFW_jll\u001b[39m\n"
     ]
    },
    {
     "name": "stderr",
     "output_type": "stream",
     "text": [
      "\u001b[32m  ✓ \u001b[39m\u001b[90mIntervalSets → IntervalSetsRandomExt\u001b[39m\n"
     ]
    },
    {
     "name": "stderr",
     "output_type": "stream",
     "text": [
      "\u001b[32m  ✓ \u001b[39m\u001b[90mIntervalArithmetic\u001b[39m\n"
     ]
    },
    {
     "name": "stderr",
     "output_type": "stream",
     "text": [
      "\u001b[32m  ✓ \u001b[39m\u001b[90mConstructionBase → ConstructionBaseIntervalSetsExt\u001b[39m\n"
     ]
    },
    {
     "name": "stderr",
     "output_type": "stream",
     "text": [
      "\u001b[32m  ✓ \u001b[39m\u001b[90mCompat → CompatLinearAlgebraExt\u001b[39m\n"
     ]
    },
    {
     "name": "stderr",
     "output_type": "stream",
     "text": [
      "\u001b[32m  ✓ \u001b[39m\u001b[90mIntervalSets → IntervalSetsStatisticsExt\u001b[39m\n"
     ]
    },
    {
     "name": "stderr",
     "output_type": "stream",
     "text": [
      "\u001b[32m  ✓ \u001b[39m\u001b[90mQuadmath\u001b[39m\n"
     ]
    },
    {
     "name": "stderr",
     "output_type": "stream",
     "text": [
      "\u001b[32m  ✓ \u001b[39m\u001b[90mMocking\u001b[39m\n"
     ]
    },
    {
     "name": "stderr",
     "output_type": "stream",
     "text": [
      "\u001b[32m  ✓ \u001b[39m\u001b[90mFilePathsBase\u001b[39m\n"
     ]
    },
    {
     "name": "stderr",
     "output_type": "stream",
     "text": [
      "\u001b[32m  ✓ \u001b[39m\u001b[90mChainRulesCore\u001b[39m\n"
     ]
    },
    {
     "name": "stderr",
     "output_type": "stream",
     "text": [
      "\u001b[32m  ✓ \u001b[39m\u001b[90mCompositionsBase → CompositionsBaseInverseFunctionsExt\u001b[39m\n"
     ]
    },
    {
     "name": "stderr",
     "output_type": "stream",
     "text": [
      "\u001b[32m  ✓ \u001b[39m\u001b[90mLogExpFunctions → LogExpFunctionsInverseFunctionsExt\u001b[39m\n"
     ]
    },
    {
     "name": "stderr",
     "output_type": "stream",
     "text": [
      "\u001b[32m  ✓ \u001b[39m\u001b[90mUnitful → InverseFunctionsUnitfulExt\u001b[39m\n"
     ]
    },
    {
     "name": "stderr",
     "output_type": "stream",
     "text": [
      "\u001b[32m  ✓ \u001b[39m\u001b[90mPooledArrays\u001b[39m\n"
     ]
    },
    {
     "name": "stderr",
     "output_type": "stream",
     "text": [
      "\u001b[32m  ✓ \u001b[39m\u001b[90mTables\u001b[39m"
     ]
    },
    {
     "name": "stderr",
     "output_type": "stream",
     "text": [
      "\n"
     ]
    },
    {
     "name": "stderr",
     "output_type": "stream",
     "text": [
      "\u001b[32m  ✓ \u001b[39m\u001b[90mMissings\u001b[39m\n"
     ]
    },
    {
     "name": "stderr",
     "output_type": "stream",
     "text": [
      "\u001b[32m  ✓ \u001b[39m\u001b[90mPaddedViews\u001b[39m\n"
     ]
    },
    {
     "name": "stderr",
     "output_type": "stream",
     "text": [
      "\u001b[32m  ✓ \u001b[39m\u001b[90mCatIndices\u001b[39m\n"
     ]
    },
    {
     "name": "stderr",
     "output_type": "stream",
     "text": [
      "\u001b[32m  ✓ \u001b[39m\u001b[90mStackViews\u001b[39m\n"
     ]
    },
    {
     "name": "stderr",
     "output_type": "stream",
     "text": [
      "\u001b[32m  ✓ \u001b[39m\u001b[90mTranscodingStreams → TestExt\u001b[39m\n"
     ]
    },
    {
     "name": "stderr",
     "output_type": "stream",
     "text": [
      "\u001b[32m  ✓ \u001b[39m\u001b[90mCodecZlib\u001b[39m\n"
     ]
    },
    {
     "name": "stderr",
     "output_type": "stream",
     "text": [
      "\u001b[32m  ✓ \u001b[39m\u001b[90mSimplePolynomials\u001b[39m\n"
     ]
    },
    {
     "name": "stderr",
     "output_type": "stream",
     "text": [
      "\u001b[32m  ✓ \u001b[39m\u001b[90mFillArrays → FillArraysStatisticsExt\u001b[39m\n"
     ]
    },
    {
     "name": "stderr",
     "output_type": "stream",
     "text": [
      "\u001b[32m  ✓ \u001b[39m\u001b[90mFillArrays → FillArraysSparseArraysExt\u001b[39m\n"
     ]
    },
    {
     "name": "stderr",
     "output_type": "stream",
     "text": [
      "\u001b[32m  ✓ \u001b[39m\u001b[90mBitTwiddlingConvenienceFunctions\u001b[39m\n"
     ]
    },
    {
     "name": "stderr",
     "output_type": "stream",
     "text": [
      "\u001b[32m  ✓ \u001b[39m\u001b[90mOffsetArrays → OffsetArraysAdaptExt\u001b[39m\n"
     ]
    },
    {
     "name": "stderr",
     "output_type": "stream",
     "text": [
      "\u001b[32m  ✓ \u001b[39m\u001b[90mCPUSummary\u001b[39m\n"
     ]
    },
    {
     "name": "stderr",
     "output_type": "stream",
     "text": [
      "\u001b[32m  ✓ \u001b[39m\u001b[90mFillArrays → FillArraysPDMatsExt\u001b[39m\n"
     ]
    },
    {
     "name": "stderr",
     "output_type": "stream",
     "text": [
      "\u001b[32m  ✓ \u001b[39m\u001b[90mCommonSubexpressions\u001b[39m\n"
     ]
    },
    {
     "name": "stderr",
     "output_type": "stream",
     "text": [
      "\u001b[32m  ✓ \u001b[39m\u001b[90mSimpleTraits\u001b[39m\n"
     ]
    },
    {
     "name": "stderr",
     "output_type": "stream",
     "text": [
      "\u001b[32m  ✓ \u001b[39m\u001b[90mOpenEXR\u001b[39m\n"
     ]
    },
    {
     "name": "stderr",
     "output_type": "stream",
     "text": [
      "\u001b[32m  ✓ \u001b[39m\u001b[90mLatexify\u001b[39m\n"
     ]
    },
    {
     "name": "stderr",
     "output_type": "stream",
     "text": [
      "\u001b[32m  ✓ \u001b[39m\u001b[90mxkbcommon_jll\u001b[39m\n",
      "\u001b[32m  ✓ \u001b[39m\u001b[90mQOI\u001b[39m\n"
     ]
    },
    {
     "name": "stderr",
     "output_type": "stream",
     "text": [
      "\u001b[32m  ✓ \u001b[39m\u001b[90mParsers\u001b[39m\n"
     ]
    },
    {
     "name": "stderr",
     "output_type": "stream",
     "text": [
      "\u001b[32m  ✓ \u001b[39m\u001b[90mPixman_jll\u001b[39m\n"
     ]
    },
    {
     "name": "stderr",
     "output_type": "stream",
     "text": [
      "\u001b[32m  ✓ \u001b[39m\u001b[90mFreeType2_jll\u001b[39m\n"
     ]
    },
    {
     "name": "stderr",
     "output_type": "stream",
     "text": [
      "\u001b[32m  ✓ \u001b[39m\u001b[90mStaticArrays → StaticArraysStatisticsExt\u001b[39m\n"
     ]
    },
    {
     "name": "stderr",
     "output_type": "stream",
     "text": [
      "\u001b[32m  ✓ \u001b[39m\u001b[90mAutoma\u001b[39m\n"
     ]
    },
    {
     "name": "stderr",
     "output_type": "stream",
     "text": [
      "\u001b[32m  ✓ \u001b[39m\u001b[90mArnoldiMethod\u001b[39m\n"
     ]
    },
    {
     "name": "stderr",
     "output_type": "stream",
     "text": [
      "\u001b[32m  ✓ \u001b[39m\u001b[90mRotations\u001b[39m\n"
     ]
    },
    {
     "name": "stderr",
     "output_type": "stream",
     "text": [
      "\u001b[32m  ✓ \u001b[39m\u001b[90mConstructionBase → ConstructionBaseStaticArraysExt\u001b[39m\n"
     ]
    },
    {
     "name": "stderr",
     "output_type": "stream",
     "text": [
      "\u001b[32m  ✓ \u001b[39m\u001b[90mCoordinateTransformations\u001b[39m\n"
     ]
    },
    {
     "name": "stderr",
     "output_type": "stream",
     "text": [
      "\u001b[32m  ✓ \u001b[39m\u001b[90mAdapt → AdaptStaticArraysExt\u001b[39m\n"
     ]
    },
    {
     "name": "stderr",
     "output_type": "stream",
     "text": [
      "\u001b[32m  ✓ \u001b[39m\u001b[90mIntervalArithmetic → IntervalArithmeticRecipesBaseExt\u001b[39m\n"
     ]
    },
    {
     "name": "stderr",
     "output_type": "stream",
     "text": [
      "\u001b[32m  ✓ \u001b[39m\u001b[90mIntegralArrays\u001b[39m\n"
     ]
    },
    {
     "name": "stderr",
     "output_type": "stream",
     "text": [
      "\u001b[32m  ✓ \u001b[39m\u001b[90mDataStructures\u001b[39m\n"
     ]
    },
    {
     "name": "stderr",
     "output_type": "stream",
     "text": [
      "\u001b[32m  ✓ \u001b[39m\u001b[90mAxisArrays\u001b[39m\n"
     ]
    },
    {
     "name": "stderr",
     "output_type": "stream",
     "text": [
      "\u001b[32m  ✓ \u001b[39m\u001b[90mChainRulesCore → ChainRulesCoreSparseArraysExt\u001b[39m\n"
     ]
    },
    {
     "name": "stderr",
     "output_type": "stream",
     "text": [
      "\u001b[32m  ✓ \u001b[39m\u001b[90mLogExpFunctions → LogExpFunctionsChainRulesCoreExt\u001b[39m\n"
     ]
    },
    {
     "name": "stderr",
     "output_type": "stream",
     "text": [
      "\u001b[32m  ✓ \u001b[39m\u001b[90mAbstractFFTs → AbstractFFTsChainRulesCoreExt\u001b[39m\n"
     ]
    },
    {
     "name": "stderr",
     "output_type": "stream",
     "text": [
      "\u001b[32m  ✓ \u001b[39m\u001b[90mMKL_jll\u001b[39m\n"
     ]
    },
    {
     "name": "stderr",
     "output_type": "stream",
     "text": [
      "\u001b[32m  ✓ \u001b[39m\u001b[90mFilePaths\u001b[39m\n"
     ]
    },
    {
     "name": "stderr",
     "output_type": "stream",
     "text": [
      "\u001b[32m  ✓ \u001b[39m\u001b[90mDistances → DistancesChainRulesCoreExt\u001b[39m\n"
     ]
    },
    {
     "name": "stderr",
     "output_type": "stream",
     "text": [
      "\u001b[32m  ✓ \u001b[39m\u001b[90mTableOperations\u001b[39m"
     ]
    },
    {
     "name": "stderr",
     "output_type": "stream",
     "text": [
      "\n",
      "\u001b[32m  ✓ \u001b[39m"
     ]
    },
    {
     "name": "stderr",
     "output_type": "stream",
     "text": [
      "\u001b[90mStaticArrays → StaticArraysChainRulesCoreExt\u001b[39m\n"
     ]
    },
    {
     "name": "stderr",
     "output_type": "stream",
     "text": [
      "\u001b[32m  ✓ \u001b[39mXLSX\n",
      "\u001b[32m  ✓ \u001b[39m\u001b[90mStableHashTraits\u001b[39m\n"
     ]
    },
    {
     "name": "stderr",
     "output_type": "stream",
     "text": [
      "\u001b[32m  ✓ \u001b[39m\u001b[90mTableTraitsUtils\u001b[39m\n"
     ]
    },
    {
     "name": "stderr",
     "output_type": "stream",
     "text": [
      "\u001b[32m  ✓ \u001b[39m\u001b[90mCategoricalArrays\u001b[39m\n"
     ]
    },
    {
     "name": "stderr",
     "output_type": "stream",
     "text": [
      "\u001b[32m  ✓ \u001b[39m\u001b[90mInterpolations\u001b[39m\n"
     ]
    },
    {
     "name": "stderr",
     "output_type": "stream",
     "text": [
      "\u001b[32m  ✓ \u001b[39m\u001b[90mMosaicViews\u001b[39m\n"
     ]
    },
    {
     "name": "stderr",
     "output_type": "stream",
     "text": [
      "\u001b[32m  ✓ \u001b[39m\u001b[90mCodecBzip2\u001b[39m\n"
     ]
    },
    {
     "name": "stderr",
     "output_type": "stream",
     "text": [
      "\u001b[32m  ✓ \u001b[39m\u001b[90mLinearAlgebraX\u001b[39m\n"
     ]
    },
    {
     "name": "stderr",
     "output_type": "stream",
     "text": [
      "\u001b[32m  ✓ \u001b[39m\u001b[90mHostCPUFeatures\u001b[39m\n"
     ]
    },
    {
     "name": "stderr",
     "output_type": "stream",
     "text": [
      "\u001b[32m  ✓ \u001b[39m"
     ]
    },
    {
     "name": "stderr",
     "output_type": "stream",
     "text": [
      "\u001b[90mPolyesterWeave\u001b[39m\n"
     ]
    },
    {
     "name": "stderr",
     "output_type": "stream",
     "text": [
      "\u001b[32m  ✓ \u001b[39m\u001b[90mHTTP\u001b[39m\n"
     ]
    },
    {
     "name": "stderr",
     "output_type": "stream",
     "text": [
      "\u001b[32m  ✓ \u001b[39m\u001b[90mInlineStrings\u001b[39m\n"
     ]
    },
    {
     "name": "stderr",
     "output_type": "stream",
     "text": [
      "\u001b[32m  ✓ \u001b[39m\u001b[90mUnitfulLatexify\u001b[39m\n"
     ]
    },
    {
     "name": "stderr",
     "output_type": "stream",
     "text": [
      "\u001b[32m  ✓ \u001b[39m\u001b[90mJSON\u001b[39m\n"
     ]
    },
    {
     "name": "stderr",
     "output_type": "stream",
     "text": [
      "\u001b[32m  ✓ \u001b[39m\u001b[90mFreeType\u001b[39m\n"
     ]
    },
    {
     "name": "stderr",
     "output_type": "stream",
     "text": [
      "\u001b[32m  ✓ \u001b[39m\u001b[90mFontconfig_jll\u001b[39m\n"
     ]
    },
    {
     "name": "stderr",
     "output_type": "stream",
     "text": [
      "\u001b[32m  ✓ \u001b[39m\u001b[90mRotations → RotationsRecipesBaseExt\u001b[39m\n"
     ]
    },
    {
     "name": "stderr",
     "output_type": "stream",
     "text": [
      "\u001b[32m  ✓ \u001b[39m\u001b[90mSetfield\u001b[39m\n"
     ]
    },
    {
     "name": "stderr",
     "output_type": "stream",
     "text": [
      "\u001b[32m  ✓ \u001b[39m\u001b[90mAccessors\u001b[39m\n",
      "\u001b[32m  ✓ \u001b[39m\u001b[90mJSON3\u001b[39m\n"
     ]
    },
    {
     "name": "stderr",
     "output_type": "stream",
     "text": [
      "\u001b[32m  ✓ \u001b[39m\u001b[90mGPUArraysCore\u001b[39m\n"
     ]
    },
    {
     "name": "stderr",
     "output_type": "stream",
     "text": [
      "\u001b[32m  ✓ \u001b[39m\u001b[90mArrayInterface\u001b[39m\n"
     ]
    },
    {
     "name": "stderr",
     "output_type": "stream",
     "text": [
      "\u001b[32m  ✓ \u001b[39m\u001b[90mSortingAlgorithms\u001b[39m\n"
     ]
    },
    {
     "name": "stderr",
     "output_type": "stream",
     "text": [
      "\u001b[32m  ✓ \u001b[39m\u001b[90mQuadGK\u001b[39m\n"
     ]
    },
    {
     "name": "stderr",
     "output_type": "stream",
     "text": [
      "\u001b[32m  ✓ \u001b[39m"
     ]
    },
    {
     "name": "stderr",
     "output_type": "stream",
     "text": [
      "\u001b[90mSimplePartitions\u001b[39m\n"
     ]
    },
    {
     "name": "stderr",
     "output_type": "stream",
     "text": [
      "\u001b[32m  ✓ \u001b[39m\u001b[90mPrettyTables\u001b[39m\n"
     ]
    },
    {
     "name": "stderr",
     "output_type": "stream",
     "text": [
      "\u001b[32m  ✓ \u001b[39mMatrixNetworks\n"
     ]
    },
    {
     "name": "stderr",
     "output_type": "stream",
     "text": [
      "\u001b[32m  ✓ \u001b[39m\u001b[90mJLD2\u001b[39m\n"
     ]
    },
    {
     "name": "stderr",
     "output_type": "stream",
     "text": [
      "\u001b[32m  ✓ \u001b[39mLightGraphs\n"
     ]
    },
    {
     "name": "stderr",
     "output_type": "stream",
     "text": [
      "\u001b[32m  ✓ \u001b[39m\u001b[90mGraphs\u001b[39m\n"
     ]
    },
    {
     "name": "stderr",
     "output_type": "stream",
     "text": [
      "\u001b[32m  ✓ \u001b[39m\u001b[90mSpecialFunctions\u001b[39m\n"
     ]
    },
    {
     "name": "stderr",
     "output_type": "stream",
     "text": [
      "\u001b[32m  ✓ \u001b[39m\u001b[90mNearestNeighbors\u001b[39m\n"
     ]
    },
    {
     "name": "stderr",
     "output_type": "stream",
     "text": [
      "\u001b[32m  ✓ \u001b[39m\u001b[90mMarchingCubes\u001b[39m\n"
     ]
    },
    {
     "name": "stderr",
     "output_type": "stream",
     "text": [
      "\u001b[32m  ✓ \u001b[39m\u001b[90mRegionTrees\u001b[39m\n"
     ]
    },
    {
     "name": "stderr",
     "output_type": "stream",
     "text": [
      "\u001b[32m  ✓ \u001b[39m\u001b[90mIterableTables\u001b[39m\n"
     ]
    },
    {
     "name": "stderr",
     "output_type": "stream",
     "text": [
      "\u001b[32m  ✓ \u001b[39m\u001b[90mCategoricalArrays → CategoricalArraysStructTypesExt\u001b[39m\n"
     ]
    },
    {
     "name": "stderr",
     "output_type": "stream",
     "text": [
      "\u001b[32m  ✓ \u001b[39m\u001b[90mCategoricalArrays → CategoricalArraysRecipesBaseExt\u001b[39m\n"
     ]
    },
    {
     "name": "stderr",
     "output_type": "stream",
     "text": [
      "\u001b[32m  ✓ \u001b[39m\u001b[90mCategoricalArrays → CategoricalArraysSentinelArraysExt\u001b[39m\n"
     ]
    },
    {
     "name": "stderr",
     "output_type": "stream",
     "text": [
      "\u001b[32m  ✓ \u001b[39m\u001b[90mFFTW\u001b[39m\n"
     ]
    },
    {
     "name": "stderr",
     "output_type": "stream",
     "text": [
      "\u001b[32m  ✓ \u001b[39m\u001b[90mWeakRefStrings\u001b[39m\n"
     ]
    },
    {
     "name": "stderr",
     "output_type": "stream",
     "text": [
      "\u001b[32m  ✓ \u001b[39m\u001b[90mTimeZones\u001b[39m\n"
     ]
    },
    {
     "name": "stderr",
     "output_type": "stream",
     "text": [
      "\u001b[32m  ✓ \u001b[39m\u001b[90mTableShowUtils\u001b[39m\n"
     ]
    },
    {
     "name": "stderr",
     "output_type": "stream",
     "text": [
      "\u001b[32m  ✓ \u001b[39mBenchmarkTools\n"
     ]
    },
    {
     "name": "stderr",
     "output_type": "stream",
     "text": [
      "\u001b[32m  ✓ \u001b[39m\u001b[90mColorBrewer\u001b[39m\n"
     ]
    },
    {
     "name": "stderr",
     "output_type": "stream",
     "text": [
      "\u001b[32m  ✓ \u001b[39m\u001b[90mConda\u001b[39m\n"
     ]
    },
    {
     "name": "stderr",
     "output_type": "stream",
     "text": [
      "\u001b[32m  ✓ \u001b[39m\u001b[90mCategoricalArrays → CategoricalArraysJSONExt\u001b[39m\n"
     ]
    },
    {
     "name": "stderr",
     "output_type": "stream",
     "text": [
      "\u001b[32m  ✓ \u001b[39m\u001b[90mCairo_jll\u001b[39m\n"
     ]
    },
    {
     "name": "stderr",
     "output_type": "stream",
     "text": [
      "\u001b[32m  ✓ \u001b[39m\u001b[90mQt5Base_jll\u001b[39m\n"
     ]
    },
    {
     "name": "stderr",
     "output_type": "stream",
     "text": [
      "\u001b[32m  ✓ \u001b[39m\u001b[90mAccessors → AccessorsIntervalSetsExt\u001b[39m\n"
     ]
    },
    {
     "name": "stderr",
     "output_type": "stream",
     "text": [
      "\u001b[32m  ✓ \u001b[39m\u001b[90mAccessors → AccessorsStaticArraysExt\u001b[39m\n"
     ]
    },
    {
     "name": "stderr",
     "output_type": "stream",
     "text": [
      "\u001b[32m  ✓ \u001b[39m"
     ]
    },
    {
     "name": "stderr",
     "output_type": "stream",
     "text": [
      "\u001b[90mJSONSchema\u001b[39m\n"
     ]
    },
    {
     "name": "stderr",
     "output_type": "stream",
     "text": [
      "\u001b[32m  ✓ \u001b[39m\u001b[90mStructArrays\u001b[39m\n"
     ]
    },
    {
     "name": "stderr",
     "output_type": "stream",
     "text": [
      "\u001b[32m  ✓ \u001b[39m\u001b[90mArrayInterface → ArrayInterfaceGPUArraysCoreExt\u001b[39m\n"
     ]
    },
    {
     "name": "stderr",
     "output_type": "stream",
     "text": [
      "\u001b[32m  ✓ \u001b[39m\u001b[90mArrayInterface → ArrayInterfaceStaticArraysCoreExt\u001b[39m\n"
     ]
    },
    {
     "name": "stderr",
     "output_type": "stream",
     "text": [
      "\u001b[32m  ✓ \u001b[39m\u001b[90mRoots\u001b[39m\n"
     ]
    },
    {
     "name": "stderr",
     "output_type": "stream",
     "text": [
      "\u001b[32m  ✓ \u001b[39mStatsBase\n"
     ]
    },
    {
     "name": "stderr",
     "output_type": "stream",
     "text": [
      "\u001b[32m  ✓ \u001b[39m\u001b[90mMetaGraphs\u001b[39m\n"
     ]
    },
    {
     "name": "stderr",
     "output_type": "stream",
     "text": [
      "\u001b[32m  ✓ \u001b[39m\u001b[90mSimpleWeightedGraphs\u001b[39m\n"
     ]
    },
    {
     "name": "stderr",
     "output_type": "stream",
     "text": [
      "\u001b[32m  ✓ \u001b[39m\u001b[90mSpecialFunctions → SpecialFunctionsChainRulesCoreExt\u001b[39m\n"
     ]
    },
    {
     "name": "stderr",
     "output_type": "stream",
     "text": [
      "\u001b[32m  ✓ \u001b[39m\u001b[90mDualNumbers\u001b[39m\n"
     ]
    },
    {
     "name": "stderr",
     "output_type": "stream",
     "text": [
      "\u001b[32m  ✓ \u001b[39m\u001b[90mDiffRules\u001b[39m\n"
     ]
    },
    {
     "name": "stderr",
     "output_type": "stream",
     "text": [
      "\u001b[32m  ✓ \u001b[39m\u001b[90mColorVectorSpace → SpecialFunctionsExt\u001b[39m\n"
     ]
    },
    {
     "name": "stderr",
     "output_type": "stream",
     "text": [
      "\u001b[32m  ✓ \u001b[39m\u001b[90mFFTViews\u001b[39m\n"
     ]
    },
    {
     "name": "stderr",
     "output_type": "stream",
     "text": [
      "\u001b[32m  ✓ \u001b[39m\u001b[90mTiffImages\u001b[39m\n"
     ]
    },
    {
     "name": "stderr",
     "output_type": "stream",
     "text": [
      "\u001b[32m  ✓ \u001b[39m\u001b[90mTimeZones → TimeZonesRecipesBaseExt\u001b[39m\n"
     ]
    },
    {
     "name": "stderr",
     "output_type": "stream",
     "text": [
      "\u001b[32m  ✓ \u001b[39mPluto\n"
     ]
    },
    {
     "name": "stderr",
     "output_type": "stream",
     "text": [
      "\u001b[32m  ✓ \u001b[39mCSV\n"
     ]
    },
    {
     "name": "stderr",
     "output_type": "stream",
     "text": [
      "\u001b[32m  ✓ \u001b[39m\u001b[90mHarfBuzz_jll\u001b[39m\n"
     ]
    },
    {
     "name": "stderr",
     "output_type": "stream",
     "text": [
      "\u001b[32m  ✓ \u001b[39mIJulia\n"
     ]
    },
    {
     "name": "stderr",
     "output_type": "stream",
     "text": [
      "\u001b[32m  ✓ \u001b[39m\u001b[90mVega\u001b[39m\n"
     ]
    },
    {
     "name": "stderr",
     "output_type": "stream",
     "text": [
      "\u001b[32m  ✓ \u001b[39m\u001b[90mAccessors → AccessorsStructArraysExt\u001b[39m\n"
     ]
    },
    {
     "name": "stderr",
     "output_type": "stream",
     "text": [
      "\u001b[32m  ✓ \u001b[39m\u001b[90mStaticArrayInterface\u001b[39m\n"
     ]
    },
    {
     "name": "stderr",
     "output_type": "stream",
     "text": [
      "\u001b[32m  ✓ \u001b[39m\u001b[90mFiniteDiff\u001b[39m\n"
     ]
    },
    {
     "name": "stderr",
     "output_type": "stream",
     "text": [
      "\u001b[32m  ✓ \u001b[39mMLBase\n"
     ]
    },
    {
     "name": "stderr",
     "output_type": "stream",
     "text": [
      "\u001b[32m  ✓ \u001b[39mPyCall\n"
     ]
    },
    {
     "name": "stderr",
     "output_type": "stream",
     "text": [
      "\u001b[32m  ✓ \u001b[39m\u001b[90mGeometryBasics\u001b[39m\n"
     ]
    },
    {
     "name": "stderr",
     "output_type": "stream",
     "text": [
      "\u001b[32m  ✓ \u001b[39m\u001b[90mMultivariateStats\u001b[39m\n"
     ]
    },
    {
     "name": "stderr",
     "output_type": "stream",
     "text": [
      "\u001b[32m  ✓ \u001b[39m\u001b[90mClustering\u001b[39m\n"
     ]
    },
    {
     "name": "stderr",
     "output_type": "stream",
     "text": [
      "\u001b[32m  ✓ \u001b[39mDataFrames\n"
     ]
    },
    {
     "name": "stderr",
     "output_type": "stream",
     "text": [
      "\u001b[32m  ✓ \u001b[39m\u001b[90mIntervalArithmetic → IntervalArithmeticDiffRulesExt\u001b[39m\n"
     ]
    },
    {
     "name": "stderr",
     "output_type": "stream",
     "text": [
      "\u001b[32m  ✓ \u001b[39m\u001b[90mHypergeometricFunctions\u001b[39m\n"
     ]
    },
    {
     "name": "stderr",
     "output_type": "stream",
     "text": [
      "\u001b[32m  ✓ \u001b[39m\u001b[90mDoubleFloats\u001b[39m\n"
     ]
    },
    {
     "name": "stderr",
     "output_type": "stream",
     "text": [
      "\u001b[32m  ✓ \u001b[39m\u001b[90mlibass_jll\u001b[39m\n"
     ]
    },
    {
     "name": "stderr",
     "output_type": "stream",
     "text": [
      "\u001b[32m  ✓ \u001b[39m\u001b[90mPango_jll\u001b[39m\n",
      "\u001b[32m  ✓ \u001b[39m\u001b[90mForwardDiff\u001b[39m\n"
     ]
    },
    {
     "name": "stderr",
     "output_type": "stream",
     "text": [
      "\u001b[32m  ✓ \u001b[39m\u001b[90mStaticArrayInterface → StaticArrayInterfaceOffsetArraysExt\u001b[39m\n"
     ]
    },
    {
     "name": "stderr",
     "output_type": "stream",
     "text": [
      "\u001b[32m  ✓ \u001b[39m\u001b[90mColorSchemes\u001b[39m\n"
     ]
    },
    {
     "name": "stderr",
     "output_type": "stream",
     "text": [
      "\u001b[32m  ✓ \u001b[39mVegaLite\n"
     ]
    },
    {
     "name": "stderr",
     "output_type": "stream",
     "text": [
      "\u001b[32m  ✓ \u001b[39m\u001b[90mStaticArrayInterface → StaticArrayInterfaceStaticArraysExt\u001b[39m\n"
     ]
    },
    {
     "name": "stderr",
     "output_type": "stream",
     "text": [
      "\u001b[32m  ✓ \u001b[39m\u001b[90mCloseOpenIntervals\u001b[39m\n"
     ]
    },
    {
     "name": "stderr",
     "output_type": "stream",
     "text": [
      "\u001b[32m  ✓ \u001b[39m\u001b[90mLayoutPointers\u001b[39m\n"
     ]
    },
    {
     "name": "stderr",
     "output_type": "stream",
     "text": [
      "\u001b[32m  ✓ \u001b[39m\u001b[90mFiniteDiff → FiniteDiffStaticArraysExt\u001b[39m\n"
     ]
    },
    {
     "name": "stderr",
     "output_type": "stream",
     "text": [
      "\u001b[32m  ✓ \u001b[39m\u001b[90mPacking\u001b[39m\n"
     ]
    },
    {
     "name": "stderr",
     "output_type": "stream",
     "text": [
      "\u001b[32m  ✓ \u001b[39m\u001b[90mFreeTypeAbstraction\u001b[39m"
     ]
    },
    {
     "name": "stderr",
     "output_type": "stream",
     "text": [
      "\n"
     ]
    },
    {
     "name": "stderr",
     "output_type": "stream",
     "text": [
      "\u001b[32m  ✓ \u001b[39m\u001b[90mShaderAbstractions\u001b[39m\n"
     ]
    },
    {
     "name": "stderr",
     "output_type": "stream",
     "text": [
      "\u001b[32m  ✓ \u001b[39m\u001b[90mLatexify → DataFramesExt\u001b[39m\n"
     ]
    },
    {
     "name": "stderr",
     "output_type": "stream",
     "text": [
      "\u001b[32m  ✓ \u001b[39m\u001b[90mGridLayoutBase\u001b[39m\n"
     ]
    },
    {
     "name": "stderr",
     "output_type": "stream",
     "text": [
      "\u001b[32m  ✓ \u001b[39m\u001b[90mRData\u001b[39m\n"
     ]
    },
    {
     "name": "stderr",
     "output_type": "stream",
     "text": [
      "\u001b[32m  ✓ \u001b[39m\u001b[90mStatsFuns\u001b[39m\n"
     ]
    },
    {
     "name": "stderr",
     "output_type": "stream",
     "text": [
      "\u001b[32m  ✓ \u001b[39m\u001b[90mExactPredicates\u001b[39m\n"
     ]
    },
    {
     "name": "stderr",
     "output_type": "stream",
     "text": [
      "\u001b[32m  ✓ \u001b[39m\u001b[90mFFMPEG_jll\u001b[39m\n"
     ]
    },
    {
     "name": "stderr",
     "output_type": "stream",
     "text": [
      "\u001b[32m  ✓ \u001b[39m\u001b[90mCairo\u001b[39m\n"
     ]
    },
    {
     "name": "stderr",
     "output_type": "stream",
     "text": [
      "\u001b[32m  ✓ \u001b[39m\u001b[90mForwardDiff → ForwardDiffStaticArraysExt\u001b[39m\n"
     ]
    },
    {
     "name": "stderr",
     "output_type": "stream",
     "text": [
      "\u001b[32m  ✓ \u001b[39m\u001b[90mTextParse\u001b[39m\n"
     ]
    },
    {
     "name": "stderr",
     "output_type": "stream",
     "text": [
      "\u001b[32m  ✓ \u001b[39m\u001b[90mImageCore\u001b[39m\n"
     ]
    },
    {
     "name": "stderr",
     "output_type": "stream",
     "text": [
      "\u001b[32m  ✓ \u001b[39m\u001b[90mRoots → RootsForwardDiffExt\u001b[39m\n"
     ]
    },
    {
     "name": "stderr",
     "output_type": "stream",
     "text": [
      "\u001b[32m  ✓ \u001b[39m\u001b[90mTiledIteration\u001b[39m\n"
     ]
    },
    {
     "name": "stderr",
     "output_type": "stream",
     "text": [
      "\u001b[32m  ✓ \u001b[39m\u001b[90mMathTeXEngine\u001b[39m\n"
     ]
    },
    {
     "name": "stderr",
     "output_type": "stream",
     "text": [
      "\u001b[32m  ✓ \u001b[39m\u001b[90mPlotUtils\u001b[39m\n"
     ]
    },
    {
     "name": "stderr",
     "output_type": "stream",
     "text": [
      "\u001b[32m  ✓ \u001b[39m\u001b[90mStatsFuns → StatsFunsInverseFunctionsExt\u001b[39m\n"
     ]
    },
    {
     "name": "stderr",
     "output_type": "stream",
     "text": [
      "\u001b[32m  ✓ \u001b[39mRDatasets\n"
     ]
    },
    {
     "name": "stderr",
     "output_type": "stream",
     "text": [
      "\u001b[32m  ✓ \u001b[39m\u001b[90mVectorizationBase\u001b[39m\n"
     ]
    },
    {
     "name": "stderr",
     "output_type": "stream",
     "text": [
      "\u001b[32m  ✓ \u001b[39m\u001b[90mStatsFuns → StatsFunsChainRulesCoreExt\u001b[39m\n"
     ]
    },
    {
     "name": "stderr",
     "output_type": "stream",
     "text": [
      "\u001b[32m  ✓ \u001b[39m\u001b[90mFFMPEG\u001b[39m\n"
     ]
    },
    {
     "name": "stderr",
     "output_type": "stream",
     "text": [
      "\u001b[32m  ✓ \u001b[39m\u001b[90mGR_jll\u001b[39m\n"
     ]
    },
    {
     "name": "stderr",
     "output_type": "stream",
     "text": [
      "\u001b[32m  ✓ \u001b[39m\u001b[90mNLSolversBase\u001b[39m\n"
     ]
    },
    {
     "name": "stderr",
     "output_type": "stream",
     "text": [
      "\u001b[32m  ✓ \u001b[39mDistributions\n"
     ]
    },
    {
     "name": "stderr",
     "output_type": "stream",
     "text": [
      "\u001b[32m  ✓ \u001b[39mVegaDatasets\n"
     ]
    },
    {
     "name": "stderr",
     "output_type": "stream",
     "text": [
      "\u001b[32m  ✓ \u001b[39m\u001b[90mImageBase\u001b[39m\n"
     ]
    },
    {
     "name": "stderr",
     "output_type": "stream",
     "text": [
      "\u001b[32m  ✓ \u001b[39m\u001b[90mPNGFiles\u001b[39m\n"
     ]
    },
    {
     "name": "stderr",
     "output_type": "stream",
     "text": [
      "\u001b[32m  ✓ \u001b[39m\u001b[90mImageMagick\u001b[39m\n"
     ]
    },
    {
     "name": "stderr",
     "output_type": "stream",
     "text": [
      "\u001b[32m  ✓ \u001b[39m\u001b[90mSixel\u001b[39m\n"
     ]
    },
    {
     "name": "stderr",
     "output_type": "stream",
     "text": [
      "\u001b[32m  ✓ \u001b[39m\u001b[90mJpegTurbo\u001b[39m\n"
     ]
    },
    {
     "name": "stderr",
     "output_type": "stream",
     "text": [
      "\u001b[32m  ✓ \u001b[39m\u001b[90mPlotThemes\u001b[39m\n"
     ]
    },
    {
     "name": "stderr",
     "output_type": "stream",
     "text": [
      "\u001b[32m  ✓ \u001b[39m\u001b[90mSLEEFPirates\u001b[39m\n"
     ]
    },
    {
     "name": "stderr",
     "output_type": "stream",
     "text": [
      "\u001b[32m  ✓ \u001b[39m\u001b[90mRecipesPipeline\u001b[39m\n"
     ]
    },
    {
     "name": "stderr",
     "output_type": "stream",
     "text": [
      "\u001b[32m  ✓ \u001b[39m\u001b[90mGR\u001b[39m\n"
     ]
    },
    {
     "name": "stderr",
     "output_type": "stream",
     "text": [
      "\u001b[32m  ✓ \u001b[39m\u001b[90mLineSearches\u001b[39m\n"
     ]
    },
    {
     "name": "stderr",
     "output_type": "stream",
     "text": [
      "\u001b[32m  ✓ \u001b[39m\u001b[90mDistributions → DistributionsChainRulesCoreExt\u001b[39m\n"
     ]
    },
    {
     "name": "stderr",
     "output_type": "stream",
     "text": [
      "\u001b[32m  ✓ \u001b[39m\u001b[90mHistogramThresholding\u001b[39m\n"
     ]
    },
    {
     "name": "stderr",
     "output_type": "stream",
     "text": [
      "\u001b[32m  ✓ \u001b[39m\u001b[90mImageAxes\u001b[39m\n"
     ]
    },
    {
     "name": "stderr",
     "output_type": "stream",
     "text": [
      "\u001b[32m  ✓ \u001b[39m\u001b[90mImageTransformations\u001b[39m\n"
     ]
    },
    {
     "name": "stderr",
     "output_type": "stream",
     "text": [
      "\u001b[32m  ✓ \u001b[39m\u001b[90mImageShow\u001b[39m\n"
     ]
    },
    {
     "name": "stderr",
     "output_type": "stream",
     "text": [
      "\u001b[32m  ✓ \u001b[39mUnicodePlots\n"
     ]
    },
    {
     "name": "stderr",
     "output_type": "stream",
     "text": [
      "\u001b[32m  ✓ \u001b[39m\u001b[90mLoopVectorization\u001b[39m\n"
     ]
    },
    {
     "name": "stderr",
     "output_type": "stream",
     "text": [
      "\u001b[32m  ✓ \u001b[39m\u001b[90mSimpleRandom\u001b[39m\n"
     ]
    },
    {
     "name": "stderr",
     "output_type": "stream",
     "text": [
      "\u001b[32m  ✓ \u001b[39mKernelDensity\n"
     ]
    },
    {
     "name": "stderr",
     "output_type": "stream",
     "text": [
      "\u001b[32m  ✓ \u001b[39mHypothesisTests\n"
     ]
    },
    {
     "name": "stderr",
     "output_type": "stream",
     "text": [
      "\u001b[32m  ✓ \u001b[39m\u001b[90mImageBinarization\u001b[39m"
     ]
    },
    {
     "name": "stderr",
     "output_type": "stream",
     "text": [
      "\n"
     ]
    },
    {
     "name": "stderr",
     "output_type": "stream",
     "text": [
      "\u001b[32m  ✓ \u001b[39m\u001b[90mImageMetadata\u001b[39m"
     ]
    },
    {
     "name": "stderr",
     "output_type": "stream",
     "text": [
      "\n"
     ]
    },
    {
     "name": "stderr",
     "output_type": "stream",
     "text": [
      "\u001b[32m  ✓ \u001b[39m\u001b[90mImageContrastAdjustment\u001b[39m\n"
     ]
    },
    {
     "name": "stderr",
     "output_type": "stream",
     "text": [
      "\u001b[32m  ✓ \u001b[39m"
     ]
    },
    {
     "name": "stderr",
     "output_type": "stream",
     "text": [
      "\u001b[90mUnicodePlots → FreeTypeExt\u001b[39m\n"
     ]
    },
    {
     "name": "stderr",
     "output_type": "stream",
     "text": [
      "\u001b[32m  ✓ \u001b[39m\u001b[90mUnicodePlots → IntervalSetsExt\u001b[39m\n"
     ]
    },
    {
     "name": "stderr",
     "output_type": "stream",
     "text": [
      "\u001b[32m  ✓ \u001b[39m\u001b[90mImageFiltering\u001b[39m\n"
     ]
    },
    {
     "name": "stderr",
     "output_type": "stream",
     "text": [
      "\u001b[32m  ✓ \u001b[39m\u001b[90mUnicodePlots → UnitfulExt\u001b[39m\n"
     ]
    },
    {
     "name": "stderr",
     "output_type": "stream",
     "text": [
      "\u001b[32m  ✓ \u001b[39m\u001b[90mLoopVectorization → SpecialFunctionsExt\u001b[39m\n"
     ]
    },
    {
     "name": "stderr",
     "output_type": "stream",
     "text": [
      "\u001b[32m  ✓ \u001b[39m\u001b[90mLoopVectorization → ForwardDiffExt\u001b[39m\n"
     ]
    },
    {
     "name": "stderr",
     "output_type": "stream",
     "text": [
      "\u001b[32m  ✓ \u001b[39m\u001b[90mNetpbm\u001b[39m\n"
     ]
    },
    {
     "name": "stderr",
     "output_type": "stream",
     "text": [
      "\u001b[32m  ✓ \u001b[39m\u001b[90mImageMorphology\u001b[39m\n"
     ]
    },
    {
     "name": "stderr",
     "output_type": "stream",
     "text": [
      "\u001b[32m  ✓ \u001b[39m\u001b[90mImageIO\u001b[39m\n"
     ]
    },
    {
     "name": "stderr",
     "output_type": "stream",
     "text": [
      "\u001b[32m  ✓ \u001b[39m\u001b[90mImageSegmentation\u001b[39m\n"
     ]
    },
    {
     "name": "stderr",
     "output_type": "stream",
     "text": [
      "\u001b[32m  ✓ \u001b[39m\u001b[90mMathOptInterface\u001b[39m\n"
     ]
    },
    {
     "name": "stderr",
     "output_type": "stream",
     "text": [
      "\u001b[32m  ✓ \u001b[39m\u001b[90mImageCorners\u001b[39m\n"
     ]
    },
    {
     "name": "stderr",
     "output_type": "stream",
     "text": [
      "\u001b[32m  ✓ \u001b[39m"
     ]
    },
    {
     "name": "stderr",
     "output_type": "stream",
     "text": [
      "\u001b[90mImageDistances\u001b[39m\n"
     ]
    },
    {
     "name": "stderr",
     "output_type": "stream",
     "text": [
      "\u001b[32m  ✓ \u001b[39mPlots"
     ]
    },
    {
     "name": "stderr",
     "output_type": "stream",
     "text": [
      "\n"
     ]
    },
    {
     "name": "stderr",
     "output_type": "stream",
     "text": [
      "\u001b[32m  ✓ \u001b[39mCPLEX\n"
     ]
    },
    {
     "name": "stderr",
     "output_type": "stream",
     "text": [
      "\u001b[32m  ✓ \u001b[39m\u001b[90mOptim\u001b[39m\n"
     ]
    },
    {
     "name": "stderr",
     "output_type": "stream",
     "text": [
      "\u001b[32m  ✓ \u001b[39m\u001b[90mPlots → FileIOExt\u001b[39m\n"
     ]
    },
    {
     "name": "stderr",
     "output_type": "stream",
     "text": [
      "\u001b[32m  ✓ \u001b[39mHiGHS\n"
     ]
    },
    {
     "name": "stderr",
     "output_type": "stream",
     "text": [
      "\u001b[32m  ✓ \u001b[39m\u001b[90mImageQualityIndexes\u001b[39m\n"
     ]
    },
    {
     "name": "stderr",
     "output_type": "stream",
     "text": [
      "\u001b[32m  ✓ \u001b[39m\u001b[90mPlots → IJuliaExt\u001b[39m\n"
     ]
    },
    {
     "name": "stderr",
     "output_type": "stream",
     "text": [
      "\u001b[32m  ✓ \u001b[39m\u001b[90mPlots → GeometryBasicsExt\u001b[39m\n"
     ]
    },
    {
     "name": "stderr",
     "output_type": "stream",
     "text": [
      "\u001b[32m  ✓ \u001b[39m\u001b[90mPlots → UnitfulExt\u001b[39m\n"
     ]
    },
    {
     "name": "stderr",
     "output_type": "stream",
     "text": [
      "\u001b[32m  ✓ \u001b[39m\u001b[90mSimpleGraphs\u001b[39m\n"
     ]
    },
    {
     "name": "stderr",
     "output_type": "stream",
     "text": [
      "\u001b[32m  ✓ \u001b[39mJuMP\n"
     ]
    },
    {
     "name": "stderr",
     "output_type": "stream",
     "text": [
      "\u001b[32m  ✓ \u001b[39mImages\n"
     ]
    },
    {
     "name": "stderr",
     "output_type": "stream",
     "text": [
      "\u001b[32m  ✓ \u001b[39m\u001b[90mDelaunayTriangulation\u001b[39m\n"
     ]
    },
    {
     "name": "stderr",
     "output_type": "stream",
     "text": [
      "\u001b[32m  ✓ \u001b[39mStatsPlots\n"
     ]
    },
    {
     "name": "stderr",
     "output_type": "stream",
     "text": [
      "\u001b[32m  ✓ \u001b[39m\u001b[90mMakie\u001b[39m\n"
     ]
    },
    {
     "name": "stderr",
     "output_type": "stream",
     "text": [
      "\u001b[32m  ✓ \u001b[39mCairoMakie\n"
     ]
    },
    {
     "name": "stderr",
     "output_type": "stream",
     "text": [
      "  254 dependencies successfully precompiled in 772 seconds. 207 already precompiled.\n",
      "  \u001b[33m2\u001b[39m dependencies had warnings during precompilation:\u001b[33m\n",
      "┌ \u001b[39mMKL_jll [856f044c-d86e-5d09-b602-aeab76dc8ba7]\u001b[33m\n",
      "│  \u001b[39m\u001b[32m\u001b[1m Downloading\u001b[22m\u001b[39m artifact: MKL\u001b[33m\n",
      "└  \u001b[39m\u001b[33m\n",
      "┌ \u001b[39mInterpolations [a98d9a8b-a2ab-59e6-89dd-64a1c18fca59]\u001b[33m\n",
      "│  \u001b[39mWARNING: method definition for checkbounds at C:\\Users\\Boss\\.julia\\packages\\Interpolations\\USkTk\\src\\Interpolations.jl:454 declares type variable N but does not use it.\u001b[33m\n",
      "│  \u001b[39mWARNING: method definition for checkbounds at C:\\Users\\Boss\\.julia\\packages\\Interpolations\\USkTk\\src\\Interpolations.jl:457 declares type variable N but does not use it.\u001b[33m\n",
      "│  \u001b[39mWARNING: method definition for GriddedInterpolation at C:\\Users\\Boss\\.julia\\packages\\Interpolations\\USkTk\\src\\gridded\\gridded.jl:37 declares type variable pad but does not use it.\u001b[33m\n",
      "│  \u001b[39mWARNING: method definition for GriddedInterpolation at C:\\Users\\Boss\\.julia\\packages\\Interpolations\\USkTk\\src\\gridded\\gridded.jl:60 declares type variable pad but does not use it.\u001b[33m\n",
      "│  \u001b[39mWARNING: method definition for interpolate! at C:\\Users\\Boss\\.julia\\packages\\Interpolations\\USkTk\\src\\deprecations.jl:30 declares type variable TWeights but does not use it.\u001b[33m\n",
      "└  \u001b[39m\n"
     ]
    }
   ],
   "source": [
    "using Pkg\n",
    "Pkg.add(\"DataFrames\")\n"
   ]
  },
  {
   "cell_type": "code",
   "execution_count": 9,
   "metadata": {},
   "outputs": [
    {
     "data": {
      "text/plain": [
       "123-element Vector{Float64}:\n",
       "    3.76200008392334\n",
       "    5.763999938964844\n",
       "    2.7780001163482666\n",
       "    0.08500003814697266\n",
       "    0.059999942779541016\n",
       "    0.04700016975402832\n",
       "    5.13100004196167\n",
       "    9.958999872207642\n",
       "    6.309000015258789\n",
       "    8.375999927520752\n",
       "    ⋮\n",
       "    4.611000061035156\n",
       "    2.117000102996826\n",
       "  151.31500005722046\n",
       "   35.71399998664856\n",
       "   74.7720000743866\n",
       "  129.9359998703003\n",
       "  326.74399995803833\n",
       " 1397.6740000247955\n",
       "  677.2589998245239"
      ]
     },
     "metadata": {},
     "output_type": "display_data"
    }
   ],
   "source": [
    "using CSV\n",
    "using DataFrames\n",
    "\n",
    "r_stat=DataFrame(CSV.File(\"statique_result4.csv\", header=false))\n",
    "total=DataFrame()\n",
    "\n",
    "total.name=r_stat[:,1]\n",
    "total.stat_value=r_stat[:,2]\n",
    "total.time_stat=r_stat[:,3]\n"
   ]
  },
  {
   "cell_type": "code",
   "execution_count": 10,
   "metadata": {},
   "outputs": [
    {
     "name": "stderr",
     "output_type": "stream",
     "text": [
      "┌ Warning: thread = 1 warning: only found 2 / 3 columns around data row: 20. Filling remaining columns with `missing`\n",
      "└ @ CSV C:\\Users\\Boss\\.julia\\packages\\CSV\\OnldF\\src\\file.jl:577\n",
      "┌ Warning: thread = 1 warning: only found 2 / 3 columns around data row: 26. Filling remaining columns with `missing`\n",
      "└ @ CSV C:\\Users\\Boss\\.julia\\packages\\CSV\\OnldF\\src\\file.jl:577\n",
      "┌ Warning: thread = 1 warning: only found 2 / 3 columns around data row: 27. Filling remaining columns with `missing`\n",
      "└ @ CSV C:\\Users\\Boss\\.julia\\packages\\CSV\\OnldF\\src\\file.jl:577\n",
      "┌ Warning: thread = 1 warning: only found 2 / 3 columns around data row: 29. Filling remaining columns with `missing`\n",
      "└ @ CSV C:\\Users\\Boss\\.julia\\packages\\CSV\\OnldF\\src\\file.jl:577\n",
      "┌ Warning: thread = 1 warning: only found 2 / 3 columns around data row: 35. Filling remaining columns with `missing`\n",
      "└ @ CSV C:\\Users\\Boss\\.julia\\packages\\CSV\\OnldF\\src\\file.jl:577\n",
      "┌ Warning: thread = 1 warning: only found 2 / 3 columns around data row: 38. Filling remaining columns with `missing`\n",
      "└ @ CSV C:\\Users\\Boss\\.julia\\packages\\CSV\\OnldF\\src\\file.jl:577\n",
      "┌ Warning: thread = 1 warning: only found 2 / 3 columns around data row: 44. Filling remaining columns with `missing`\n",
      "└ @ CSV C:\\Users\\Boss\\.julia\\packages\\CSV\\OnldF\\src\\file.jl:577\n",
      "┌ Warning: thread = 1 warning: only found 2 / 3 columns around data row: 47. Filling remaining columns with `missing`\n",
      "└ @ CSV C:\\Users\\Boss\\.julia\\packages\\CSV\\OnldF\\src\\file.jl:577\n",
      "┌ Warning: thread = 1 warning: only found 2 / 3 columns around data row: 56. Filling remaining columns with `missing`\n",
      "└ @ CSV C:\\Users\\Boss\\.julia\\packages\\CSV\\OnldF\\src\\file.jl:577\n",
      "┌ Warning: thread = 1 warning: only found 2 / 3 columns around data row: 57. Filling remaining columns with `missing`\n",
      "└ @ CSV C:\\Users\\Boss\\.julia\\packages\\CSV\\OnldF\\src\\file.jl:577\n",
      "┌ Warning: thread = 1 warning: only found 2 / 3 columns around data row: 59. Filling remaining columns with `missing`\n",
      "└ @ CSV C:\\Users\\Boss\\.julia\\packages\\CSV\\OnldF\\src\\file.jl:577\n",
      "┌ Warning: thread = 1 warning: only found 2 / 3 columns around data row: 60. Filling remaining columns with `missing`\n",
      "└ @ CSV C:\\Users\\Boss\\.julia\\packages\\CSV\\OnldF\\src\\file.jl:577\n",
      "┌ Warning: thread = 1 warning: only found 2 / 3 columns around data row: 61. Filling remaining columns with `missing`\n",
      "└ @ CSV C:\\Users\\Boss\\.julia\\packages\\CSV\\OnldF\\src\\file.jl:577\n",
      "┌ Warning: thread = 1 warning: only found 2 / 3 columns around data row: 62. Filling remaining columns with `missing`\n",
      "└ @ CSV C:\\Users\\Boss\\.julia\\packages\\CSV\\OnldF\\src\\file.jl:577\n",
      "┌ Warning: thread = 1 warning: only found 2 / 3 columns around data row: 63. Filling remaining columns with `missing`\n",
      "└ @ CSV C:\\Users\\Boss\\.julia\\packages\\CSV\\OnldF\\src\\file.jl:577\n",
      "┌ Warning: thread = 1 warning: only found 2 / 3 columns around data row: 64. Filling remaining columns with `missing`\n",
      "└ @ CSV C:\\Users\\Boss\\.julia\\packages\\CSV\\OnldF\\src\\file.jl:577\n",
      "┌ Warning: thread = 1 warning: only found 2 / 3 columns around data row: 65. Filling remaining columns with `missing`\n",
      "└ @ CSV C:\\Users\\Boss\\.julia\\packages\\CSV\\OnldF\\src\\file.jl:577\n",
      "┌ Warning: thread = 1 warning: only found 2 / 3 columns around data row: 66. Filling remaining columns with `missing`\n",
      "└ @ CSV C:\\Users\\Boss\\.julia\\packages\\CSV\\OnldF\\src\\file.jl:577\n",
      "┌ Warning: thread = 1 warning: only found 2 / 3 columns around data row: 67. Filling remaining columns with `missing`\n",
      "└ @ CSV C:\\Users\\Boss\\.julia\\packages\\CSV\\OnldF\\src\\file.jl:577\n",
      "┌ Warning: thread = 1 warning: only found 2 / 3 columns around data row: 68. Filling remaining columns with `missing`\n",
      "└ @ CSV C:\\Users\\Boss\\.julia\\packages\\CSV\\OnldF\\src\\file.jl:577\n",
      "┌ Warning: thread = 1 warning: only found 2 / 3 columns around data row: 69. Filling remaining columns with `missing`\n",
      "└ @ CSV C:\\Users\\Boss\\.julia\\packages\\CSV\\OnldF\\src\\file.jl:577\n"
     ]
    },
    {
     "data": {
      "text/html": [
       "<div><div style = \"float: left;\"><span>3×3 DataFrame</span></div><div style = \"clear: both;\"></div></div><div class = \"data-frame\" style = \"overflow-x: scroll;\"><table class = \"data-frame\" style = \"margin-bottom: 6px;\"><thead><tr class = \"header\"><th class = \"rowNumber\" style = \"font-weight: bold; text-align: right;\">Row</th><th style = \"text-align: left;\">name</th><th style = \"text-align: left;\">nonuse</th><th style = \"text-align: left;\">dual_val</th></tr><tr class = \"subheader headerLastRow\"><th class = \"rowNumber\" style = \"font-weight: bold; text-align: right;\"></th><th title = \"String31\" style = \"text-align: left;\">String31</th><th title = \"Union{Missing, String7}\" style = \"text-align: left;\">String7?</th><th title = \"Union{Missing, Float64}\" style = \"text-align: left;\">Float64?</th></tr></thead><tbody><tr><td class = \"rowNumber\" style = \"font-weight: bold; text-align: right;\">1</td><td style = \"text-align: left;\">1000_USA-road-d.BAY.gr</td><td style = \"text-align: left;\">value</td><td style = \"text-align: right;\">48250.0</td></tr><tr><td class = \"rowNumber\" style = \"font-weight: bold; text-align: right;\">2</td><td style = \"text-align: left;\">1000_USA-road-d.COL.gr</td><td style = \"text-align: left;\">value</td><td style = \"text-align: right;\">29672.8</td></tr><tr><td class = \"rowNumber\" style = \"font-weight: bold; text-align: right;\">3</td><td style = \"text-align: left;\">1000_USA-road-d.NY.gr</td><td style = \"text-align: left;\">value</td><td style = \"text-align: right;\">43329.0</td></tr></tbody></table></div>"
      ],
      "text/latex": [
       "\\begin{tabular}{r|ccc}\n",
       "\t& name & nonuse & dual\\_val\\\\\n",
       "\t\\hline\n",
       "\t& String31 & String7? & Float64?\\\\\n",
       "\t\\hline\n",
       "\t1 & 1000\\_USA-road-d.BAY.gr & value & 48250.0 \\\\\n",
       "\t2 & 1000\\_USA-road-d.COL.gr & value & 29672.8 \\\\\n",
       "\t3 & 1000\\_USA-road-d.NY.gr & value & 43329.0 \\\\\n",
       "\\end{tabular}\n"
      ],
      "text/plain": [
       "\u001b[1m3×3 DataFrame\u001b[0m\n",
       "\u001b[1m Row \u001b[0m│\u001b[1m name                   \u001b[0m\u001b[1m nonuse   \u001b[0m\u001b[1m dual_val \u001b[0m\n",
       "     │\u001b[90m String31               \u001b[0m\u001b[90m String7? \u001b[0m\u001b[90m Float64? \u001b[0m\n",
       "─────┼────────────────────────────────────────────\n",
       "   1 │ 1000_USA-road-d.BAY.gr  value      48250.0\n",
       "   2 │ 1000_USA-road-d.COL.gr  value      29672.8\n",
       "   3 │ 1000_USA-road-d.NY.gr   value      43329.0"
      ]
     },
     "metadata": {},
     "output_type": "display_data"
    }
   ],
   "source": [
    "r_dualisation=DataFrame(CSV.File(\"out_result_v3.csv\",header=false),[\"name\",\"nonuse\",\"dual_val\"])\n",
    "\n",
    "\n",
    "r_dualisation[1:3,:]"
   ]
  },
  {
   "cell_type": "code",
   "execution_count": 11,
   "metadata": {},
   "outputs": [],
   "source": [
    "missing_val=ismissing.(r_dualisation)\n",
    "\n",
    "mis_ind=findall(x->x==true,eachcol(missing_val))\n",
    "println(r_dualisation[r_dualisation.name .==\"1800_USA-road-d.COL.gr\",:])"
   ]
  },
  {
   "cell_type": "code",
   "execution_count": 12,
   "metadata": {},
   "outputs": [
    {
     "name": "stdout",
     "output_type": "stream",
     "text": [
      "\u001b[1m1×3 DataFrame\u001b[0m\n",
      "\u001b[1m Row \u001b[0m│\u001b[1m name                   \u001b[0m\u001b[1m nonuse   \u001b[0m\u001b[1m dual_val \u001b[0m\n",
      "     │\u001b[90m String31               \u001b[0m\u001b[90m String7? \u001b[0m\u001b[90m Float64? \u001b[0m\n",
      "─────┼────────────────────────────────────────────\n",
      "   1 │ 1800_USA-road-d.COL.gr \u001b[90m missing  \u001b[0m\u001b[90m  missing \u001b[0m\n"
     ]
    },
    {
     "data": {
      "text/html": [
       "<div><div style = \"float: left;\"><span>123×2 DataFrame</span></div><div style = \"float: right;\"><span style = \"font-style: italic;\">98 rows omitted</span></div><div style = \"clear: both;\"></div></div><div class = \"data-frame\" style = \"overflow-x: scroll;\"><table class = \"data-frame\" style = \"margin-bottom: 6px;\"><thead><tr class = \"header\"><th class = \"rowNumber\" style = \"font-weight: bold; text-align: right;\">Row</th><th style = \"text-align: left;\">name</th><th style = \"text-align: left;\">dual_val</th></tr><tr class = \"subheader headerLastRow\"><th class = \"rowNumber\" style = \"font-weight: bold; text-align: right;\"></th><th title = \"String31\" style = \"text-align: left;\">String31</th><th title = \"Union{Missing, Float64}\" style = \"text-align: left;\">Float64?</th></tr></thead><tbody><tr><td class = \"rowNumber\" style = \"font-weight: bold; text-align: right;\">1</td><td style = \"text-align: left;\">1000_USA-road-d.BAY.gr</td><td style = \"text-align: right;\">48250.0</td></tr><tr><td class = \"rowNumber\" style = \"font-weight: bold; text-align: right;\">2</td><td style = \"text-align: left;\">1000_USA-road-d.COL.gr</td><td style = \"text-align: right;\">29672.8</td></tr><tr><td class = \"rowNumber\" style = \"font-weight: bold; text-align: right;\">3</td><td style = \"text-align: left;\">1000_USA-road-d.NY.gr</td><td style = \"text-align: right;\">43329.0</td></tr><tr><td class = \"rowNumber\" style = \"font-weight: bold; text-align: right;\">4</td><td style = \"text-align: left;\">100_USA-road-d.BAY.gr</td><td style = \"text-align: right;\">10857.1</td></tr><tr><td class = \"rowNumber\" style = \"font-weight: bold; text-align: right;\">5</td><td style = \"text-align: left;\">100_USA-road-d.COL.gr</td><td style = \"text-align: right;\">25320.2</td></tr><tr><td class = \"rowNumber\" style = \"font-weight: bold; text-align: right;\">6</td><td style = \"text-align: left;\">100_USA-road-d.NY.gr</td><td style = \"text-align: right;\">33931.0</td></tr><tr><td class = \"rowNumber\" style = \"font-weight: bold; text-align: right;\">7</td><td style = \"text-align: left;\">1100_USA-road-d.BAY.gr</td><td style = \"text-align: right;\">82422.6</td></tr><tr><td class = \"rowNumber\" style = \"font-weight: bold; text-align: right;\">8</td><td style = \"text-align: left;\">1100_USA-road-d.COL.gr</td><td style = \"text-align: right;\">42766.5</td></tr><tr><td class = \"rowNumber\" style = \"font-weight: bold; text-align: right;\">9</td><td style = \"text-align: left;\">1100_USA-road-d.NY.gr</td><td style = \"text-align: right;\">70089.2</td></tr><tr><td class = \"rowNumber\" style = \"font-weight: bold; text-align: right;\">10</td><td style = \"text-align: left;\">1200_USA-road-d.BAY.gr</td><td style = \"text-align: right;\">76338.2</td></tr><tr><td class = \"rowNumber\" style = \"font-weight: bold; text-align: right;\">11</td><td style = \"text-align: left;\">1200_USA-road-d.COL.gr</td><td style = \"text-align: right;\">42766.5</td></tr><tr><td class = \"rowNumber\" style = \"font-weight: bold; text-align: right;\">12</td><td style = \"text-align: left;\">1200_USA-road-d.NY.gr</td><td style = \"text-align: right;\">72566.0</td></tr><tr><td class = \"rowNumber\" style = \"font-weight: bold; text-align: right;\">13</td><td style = \"text-align: left;\">120_USA-road-d.BAY.gr</td><td style = \"text-align: right;\">12219.0</td></tr><tr><td style = \"text-align: right;\">&vellip;</td><td style = \"text-align: right;\">&vellip;</td><td style = \"text-align: right;\">&vellip;</td></tr><tr><td class = \"rowNumber\" style = \"font-weight: bold; text-align: right;\">112</td><td style = \"text-align: left;\">80_USA-road-d.BAY.gr</td><td style = \"text-align: right;\">10857.1</td></tr><tr><td class = \"rowNumber\" style = \"font-weight: bold; text-align: right;\">113</td><td style = \"text-align: left;\">80_USA-road-d.COL.gr</td><td style = \"text-align: right;\">14277.5</td></tr><tr><td class = \"rowNumber\" style = \"font-weight: bold; text-align: right;\">114</td><td style = \"text-align: left;\">80_USA-road-d.NY.gr</td><td style = \"text-align: right;\">31775.8</td></tr><tr><td class = \"rowNumber\" style = \"font-weight: bold; text-align: right;\">115</td><td style = \"text-align: left;\">850_USA-road-d.BAY.gr</td><td style = \"text-align: right;\">42201.1</td></tr><tr><td class = \"rowNumber\" style = \"font-weight: bold; text-align: right;\">116</td><td style = \"text-align: left;\">850_USA-road-d.COL.gr</td><td style = \"text-align: right;\">29672.8</td></tr><tr><td class = \"rowNumber\" style = \"font-weight: bold; text-align: right;\">117</td><td style = \"text-align: left;\">850_USA-road-d.NY.gr</td><td style = \"text-align: right;\">43329.1</td></tr><tr><td class = \"rowNumber\" style = \"font-weight: bold; text-align: right;\">118</td><td style = \"text-align: left;\">900_USA-road-d.BAY.gr</td><td style = \"text-align: right;\">54240.2</td></tr><tr><td class = \"rowNumber\" style = \"font-weight: bold; text-align: right;\">119</td><td style = \"text-align: left;\">900_USA-road-d.COL.gr</td><td style = \"text-align: right;\">29672.8</td></tr><tr><td class = \"rowNumber\" style = \"font-weight: bold; text-align: right;\">120</td><td style = \"text-align: left;\">900_USA-road-d.NY.gr</td><td style = \"text-align: right;\">43329.0</td></tr><tr><td class = \"rowNumber\" style = \"font-weight: bold; text-align: right;\">121</td><td style = \"text-align: left;\">950_USA-road-d.BAY.gr</td><td style = \"text-align: right;\">54240.2</td></tr><tr><td class = \"rowNumber\" style = \"font-weight: bold; text-align: right;\">122</td><td style = \"text-align: left;\">950_USA-road-d.COL.gr</td><td style = \"text-align: right;\">29672.8</td></tr><tr><td class = \"rowNumber\" style = \"font-weight: bold; text-align: right;\">123</td><td style = \"text-align: left;\">950_USA-road-d.NY.gr</td><td style = \"text-align: right;\">43329.1</td></tr></tbody></table></div>"
      ],
      "text/latex": [
       "\\begin{tabular}{r|cc}\n",
       "\t& name & dual\\_val\\\\\n",
       "\t\\hline\n",
       "\t& String31 & Float64?\\\\\n",
       "\t\\hline\n",
       "\t1 & 1000\\_USA-road-d.BAY.gr & 48250.0 \\\\\n",
       "\t2 & 1000\\_USA-road-d.COL.gr & 29672.8 \\\\\n",
       "\t3 & 1000\\_USA-road-d.NY.gr & 43329.0 \\\\\n",
       "\t4 & 100\\_USA-road-d.BAY.gr & 10857.1 \\\\\n",
       "\t5 & 100\\_USA-road-d.COL.gr & 25320.2 \\\\\n",
       "\t6 & 100\\_USA-road-d.NY.gr & 33931.0 \\\\\n",
       "\t7 & 1100\\_USA-road-d.BAY.gr & 82422.6 \\\\\n",
       "\t8 & 1100\\_USA-road-d.COL.gr & 42766.5 \\\\\n",
       "\t9 & 1100\\_USA-road-d.NY.gr & 70089.2 \\\\\n",
       "\t10 & 1200\\_USA-road-d.BAY.gr & 76338.2 \\\\\n",
       "\t11 & 1200\\_USA-road-d.COL.gr & 42766.5 \\\\\n",
       "\t12 & 1200\\_USA-road-d.NY.gr & 72566.0 \\\\\n",
       "\t13 & 120\\_USA-road-d.BAY.gr & 12219.0 \\\\\n",
       "\t14 & 120\\_USA-road-d.COL.gr & 25582.6 \\\\\n",
       "\t15 & 120\\_USA-road-d.NY.gr & 30613.1 \\\\\n",
       "\t16 & 1300\\_USA-road-d.BAY.gr & 77072.9 \\\\\n",
       "\t17 & 1300\\_USA-road-d.COL.gr & 1.05858e8 \\\\\n",
       "\t18 & 1300\\_USA-road-d.NY.gr & 67883.9 \\\\\n",
       "\t19 & 1400\\_USA-road-d.BAY.gr & 79995.3 \\\\\n",
       "\t20 & 1400\\_USA-road-d.COL.gr & \\emph{missing} \\\\\n",
       "\t21 & 1400\\_USA-road-d.NY.gr & 67883.9 \\\\\n",
       "\t22 & 140\\_USA-road-d.BAY.gr & 15643.7 \\\\\n",
       "\t23 & 140\\_USA-road-d.COL.gr & 24651.0 \\\\\n",
       "\t24 & 140\\_USA-road-d.NY.gr & 33079.2 \\\\\n",
       "\t$\\dots$ & $\\dots$ & $\\dots$ \\\\\n",
       "\\end{tabular}\n"
      ],
      "text/plain": [
       "\u001b[1m123×2 DataFrame\u001b[0m\n",
       "\u001b[1m Row \u001b[0m│\u001b[1m name                   \u001b[0m\u001b[1m dual_val \u001b[0m\n",
       "     │\u001b[90m String31               \u001b[0m\u001b[90m Float64? \u001b[0m\n",
       "─────┼──────────────────────────────────\n",
       "   1 │ 1000_USA-road-d.BAY.gr   48250.0\n",
       "   2 │ 1000_USA-road-d.COL.gr   29672.8\n",
       "   3 │ 1000_USA-road-d.NY.gr    43329.0\n",
       "   4 │ 100_USA-road-d.BAY.gr    10857.1\n",
       "   5 │ 100_USA-road-d.COL.gr    25320.2\n",
       "   6 │ 100_USA-road-d.NY.gr     33931.0\n",
       "   7 │ 1100_USA-road-d.BAY.gr   82422.6\n",
       "   8 │ 1100_USA-road-d.COL.gr   42766.5\n",
       "  ⋮  │           ⋮                ⋮\n",
       " 117 │ 850_USA-road-d.NY.gr     43329.1\n",
       " 118 │ 900_USA-road-d.BAY.gr    54240.2\n",
       " 119 │ 900_USA-road-d.COL.gr    29672.8\n",
       " 120 │ 900_USA-road-d.NY.gr     43329.0\n",
       " 121 │ 950_USA-road-d.BAY.gr    54240.2\n",
       " 122 │ 950_USA-road-d.COL.gr    29672.8\n",
       " 123 │ 950_USA-road-d.NY.gr     43329.1\n",
       "\u001b[36m                        108 rows omitted\u001b[0m"
      ]
     },
     "metadata": {},
     "output_type": "display_data"
    }
   ],
   "source": [
    "println(r_dualisation[r_dualisation.name .==\"1800_USA-road-d.COL.gr\",:])\n",
    "select!(r_dualisation, Not(:nonuse))\n"
   ]
  },
  {
   "cell_type": "code",
   "execution_count": 13,
   "metadata": {},
   "outputs": [
    {
     "data": {
      "text/plain": [
       "123"
      ]
     },
     "metadata": {},
     "output_type": "display_data"
    }
   ],
   "source": [
    "size(r_stat,1)"
   ]
  },
  {
   "cell_type": "code",
   "execution_count": 14,
   "metadata": {},
   "outputs": [
    {
     "data": {
      "text/html": [
       "<div><div style = \"float: left;\"><span>123×4 DataFrame</span></div><div style = \"float: right;\"><span style = \"font-style: italic;\">98 rows omitted</span></div><div style = \"clear: both;\"></div></div><div class = \"data-frame\" style = \"overflow-x: scroll;\"><table class = \"data-frame\" style = \"margin-bottom: 6px;\"><thead><tr class = \"header\"><th class = \"rowNumber\" style = \"font-weight: bold; text-align: right;\">Row</th><th style = \"text-align: left;\">name</th><th style = \"text-align: left;\">stat_value</th><th style = \"text-align: left;\">time_stat</th><th style = \"text-align: left;\">dual_val</th></tr><tr class = \"subheader headerLastRow\"><th class = \"rowNumber\" style = \"font-weight: bold; text-align: right;\"></th><th title = \"String31\" style = \"text-align: left;\">String31</th><th title = \"Float64\" style = \"text-align: left;\">Float64</th><th title = \"Float64\" style = \"text-align: left;\">Float64</th><th title = \"Union{Missing, Float64}\" style = \"text-align: left;\">Float64?</th></tr></thead><tbody><tr><td class = \"rowNumber\" style = \"font-weight: bold; text-align: right;\">1</td><td style = \"text-align: left;\">1000_USA-road-d.BAY.gr</td><td style = \"text-align: right;\">40117.0</td><td style = \"text-align: right;\">3.762</td><td style = \"text-align: right;\">48250.0</td></tr><tr><td class = \"rowNumber\" style = \"font-weight: bold; text-align: right;\">2</td><td style = \"text-align: left;\">1000_USA-road-d.COL.gr</td><td style = \"text-align: right;\">24068.0</td><td style = \"text-align: right;\">5.764</td><td style = \"text-align: right;\">29672.8</td></tr><tr><td class = \"rowNumber\" style = \"font-weight: bold; text-align: right;\">3</td><td style = \"text-align: left;\">1000_USA-road-d.NY.gr</td><td style = \"text-align: right;\">36248.0</td><td style = \"text-align: right;\">2.778</td><td style = \"text-align: right;\">43329.0</td></tr><tr><td class = \"rowNumber\" style = \"font-weight: bold; text-align: right;\">4</td><td style = \"text-align: left;\">100_USA-road-d.BAY.gr</td><td style = \"text-align: right;\">8818.0</td><td style = \"text-align: right;\">0.085</td><td style = \"text-align: right;\">10857.1</td></tr><tr><td class = \"rowNumber\" style = \"font-weight: bold; text-align: right;\">5</td><td style = \"text-align: left;\">100_USA-road-d.COL.gr</td><td style = \"text-align: right;\">18930.0</td><td style = \"text-align: right;\">0.0599999</td><td style = \"text-align: right;\">25320.2</td></tr><tr><td class = \"rowNumber\" style = \"font-weight: bold; text-align: right;\">6</td><td style = \"text-align: left;\">100_USA-road-d.NY.gr</td><td style = \"text-align: right;\">15274.0</td><td style = \"text-align: right;\">0.0470002</td><td style = \"text-align: right;\">33931.0</td></tr><tr><td class = \"rowNumber\" style = \"font-weight: bold; text-align: right;\">7</td><td style = \"text-align: left;\">1100_USA-road-d.BAY.gr</td><td style = \"text-align: right;\">54157.0</td><td style = \"text-align: right;\">5.131</td><td style = \"text-align: right;\">82422.6</td></tr><tr><td class = \"rowNumber\" style = \"font-weight: bold; text-align: right;\">8</td><td style = \"text-align: left;\">1100_USA-road-d.COL.gr</td><td style = \"text-align: right;\">34075.0</td><td style = \"text-align: right;\">9.959</td><td style = \"text-align: right;\">42766.5</td></tr><tr><td class = \"rowNumber\" style = \"font-weight: bold; text-align: right;\">9</td><td style = \"text-align: left;\">1100_USA-road-d.NY.gr</td><td style = \"text-align: right;\">49351.0</td><td style = \"text-align: right;\">6.309</td><td style = \"text-align: right;\">70089.2</td></tr><tr><td class = \"rowNumber\" style = \"font-weight: bold; text-align: right;\">10</td><td style = \"text-align: left;\">1200_USA-road-d.BAY.gr</td><td style = \"text-align: right;\">62095.0</td><td style = \"text-align: right;\">8.376</td><td style = \"text-align: right;\">76338.2</td></tr><tr><td class = \"rowNumber\" style = \"font-weight: bold; text-align: right;\">11</td><td style = \"text-align: left;\">1200_USA-road-d.COL.gr</td><td style = \"text-align: right;\">34075.0</td><td style = \"text-align: right;\">13.165</td><td style = \"text-align: right;\">42766.5</td></tr><tr><td class = \"rowNumber\" style = \"font-weight: bold; text-align: right;\">12</td><td style = \"text-align: left;\">1200_USA-road-d.NY.gr</td><td style = \"text-align: right;\">59590.0</td><td style = \"text-align: right;\">8.29</td><td style = \"text-align: right;\">72566.0</td></tr><tr><td class = \"rowNumber\" style = \"font-weight: bold; text-align: right;\">13</td><td style = \"text-align: left;\">120_USA-road-d.BAY.gr</td><td style = \"text-align: right;\">10034.0</td><td style = \"text-align: right;\">0.096</td><td style = \"text-align: right;\">12219.0</td></tr><tr><td style = \"text-align: right;\">&vellip;</td><td style = \"text-align: right;\">&vellip;</td><td style = \"text-align: right;\">&vellip;</td><td style = \"text-align: right;\">&vellip;</td><td style = \"text-align: right;\">&vellip;</td></tr><tr><td class = \"rowNumber\" style = \"font-weight: bold; text-align: right;\">112</td><td style = \"text-align: left;\">80_USA-road-d.BAY.gr</td><td style = \"text-align: right;\">8818.0</td><td style = \"text-align: right;\">0.072</td><td style = \"text-align: right;\">10857.1</td></tr><tr><td class = \"rowNumber\" style = \"font-weight: bold; text-align: right;\">113</td><td style = \"text-align: left;\">80_USA-road-d.COL.gr</td><td style = \"text-align: right;\">10892.0</td><td style = \"text-align: right;\">0.0510001</td><td style = \"text-align: right;\">14277.5</td></tr><tr><td class = \"rowNumber\" style = \"font-weight: bold; text-align: right;\">114</td><td style = \"text-align: left;\">80_USA-road-d.NY.gr</td><td style = \"text-align: right;\">12244.0</td><td style = \"text-align: right;\">0.0599999</td><td style = \"text-align: right;\">31775.8</td></tr><tr><td class = \"rowNumber\" style = \"font-weight: bold; text-align: right;\">115</td><td style = \"text-align: left;\">850_USA-road-d.BAY.gr</td><td style = \"text-align: right;\">35151.0</td><td style = \"text-align: right;\">2.309</td><td style = \"text-align: right;\">42201.1</td></tr><tr><td class = \"rowNumber\" style = \"font-weight: bold; text-align: right;\">116</td><td style = \"text-align: left;\">850_USA-road-d.COL.gr</td><td style = \"text-align: right;\">24068.0</td><td style = \"text-align: right;\">3.134</td><td style = \"text-align: right;\">29672.8</td></tr><tr><td class = \"rowNumber\" style = \"font-weight: bold; text-align: right;\">117</td><td style = \"text-align: left;\">850_USA-road-d.NY.gr</td><td style = \"text-align: right;\">36248.0</td><td style = \"text-align: right;\">1.544</td><td style = \"text-align: right;\">43329.1</td></tr><tr><td class = \"rowNumber\" style = \"font-weight: bold; text-align: right;\">118</td><td style = \"text-align: left;\">900_USA-road-d.BAY.gr</td><td style = \"text-align: right;\">45383.0</td><td style = \"text-align: right;\">2.651</td><td style = \"text-align: right;\">54240.2</td></tr><tr><td class = \"rowNumber\" style = \"font-weight: bold; text-align: right;\">119</td><td style = \"text-align: left;\">900_USA-road-d.COL.gr</td><td style = \"text-align: right;\">24068.0</td><td style = \"text-align: right;\">3.872</td><td style = \"text-align: right;\">29672.8</td></tr><tr><td class = \"rowNumber\" style = \"font-weight: bold; text-align: right;\">120</td><td style = \"text-align: left;\">900_USA-road-d.NY.gr</td><td style = \"text-align: right;\">36248.0</td><td style = \"text-align: right;\">1.826</td><td style = \"text-align: right;\">43329.0</td></tr><tr><td class = \"rowNumber\" style = \"font-weight: bold; text-align: right;\">121</td><td style = \"text-align: left;\">950_USA-road-d.BAY.gr</td><td style = \"text-align: right;\">45383.0</td><td style = \"text-align: right;\">2.991</td><td style = \"text-align: right;\">54240.2</td></tr><tr><td class = \"rowNumber\" style = \"font-weight: bold; text-align: right;\">122</td><td style = \"text-align: left;\">950_USA-road-d.COL.gr</td><td style = \"text-align: right;\">24068.0</td><td style = \"text-align: right;\">4.611</td><td style = \"text-align: right;\">29672.8</td></tr><tr><td class = \"rowNumber\" style = \"font-weight: bold; text-align: right;\">123</td><td style = \"text-align: left;\">950_USA-road-d.NY.gr</td><td style = \"text-align: right;\">36248.0</td><td style = \"text-align: right;\">2.117</td><td style = \"text-align: right;\">43329.1</td></tr></tbody></table></div>"
      ],
      "text/latex": [
       "\\begin{tabular}{r|cccc}\n",
       "\t& name & stat\\_value & time\\_stat & dual\\_val\\\\\n",
       "\t\\hline\n",
       "\t& String31 & Float64 & Float64 & Float64?\\\\\n",
       "\t\\hline\n",
       "\t1 & 1000\\_USA-road-d.BAY.gr & 40117.0 & 3.762 & 48250.0 \\\\\n",
       "\t2 & 1000\\_USA-road-d.COL.gr & 24068.0 & 5.764 & 29672.8 \\\\\n",
       "\t3 & 1000\\_USA-road-d.NY.gr & 36248.0 & 2.778 & 43329.0 \\\\\n",
       "\t4 & 100\\_USA-road-d.BAY.gr & 8818.0 & 0.085 & 10857.1 \\\\\n",
       "\t5 & 100\\_USA-road-d.COL.gr & 18930.0 & 0.0599999 & 25320.2 \\\\\n",
       "\t6 & 100\\_USA-road-d.NY.gr & 15274.0 & 0.0470002 & 33931.0 \\\\\n",
       "\t7 & 1100\\_USA-road-d.BAY.gr & 54157.0 & 5.131 & 82422.6 \\\\\n",
       "\t8 & 1100\\_USA-road-d.COL.gr & 34075.0 & 9.959 & 42766.5 \\\\\n",
       "\t9 & 1100\\_USA-road-d.NY.gr & 49351.0 & 6.309 & 70089.2 \\\\\n",
       "\t10 & 1200\\_USA-road-d.BAY.gr & 62095.0 & 8.376 & 76338.2 \\\\\n",
       "\t11 & 1200\\_USA-road-d.COL.gr & 34075.0 & 13.165 & 42766.5 \\\\\n",
       "\t12 & 1200\\_USA-road-d.NY.gr & 59590.0 & 8.29 & 72566.0 \\\\\n",
       "\t13 & 120\\_USA-road-d.BAY.gr & 10034.0 & 0.096 & 12219.0 \\\\\n",
       "\t14 & 120\\_USA-road-d.COL.gr & 18930.0 & 0.072 & 25582.6 \\\\\n",
       "\t15 & 120\\_USA-road-d.NY.gr & 18916.0 & 0.0839999 & 30613.1 \\\\\n",
       "\t16 & 1300\\_USA-road-d.BAY.gr & 60392.0 & 10.467 & 77072.9 \\\\\n",
       "\t17 & 1300\\_USA-road-d.COL.gr & 32664.0 & 14.745 & 1.05858e8 \\\\\n",
       "\t18 & 1300\\_USA-road-d.NY.gr & 55547.0 & 9.314 & 67883.9 \\\\\n",
       "\t19 & 1400\\_USA-road-d.BAY.gr & 67712.0 & 10.294 & 79995.3 \\\\\n",
       "\t20 & 1400\\_USA-road-d.COL.gr & 32664.0 & 18.412 & \\emph{missing} \\\\\n",
       "\t21 & 1400\\_USA-road-d.NY.gr & 55490.0 & 10.811 & 67883.9 \\\\\n",
       "\t22 & 140\\_USA-road-d.BAY.gr & 12169.0 & 0.148 & 15643.7 \\\\\n",
       "\t23 & 140\\_USA-road-d.COL.gr & 18301.0 & 0.0710001 & 24651.0 \\\\\n",
       "\t24 & 140\\_USA-road-d.NY.gr & 25498.0 & 0.108 & 33079.2 \\\\\n",
       "\t$\\dots$ & $\\dots$ & $\\dots$ & $\\dots$ & $\\dots$ \\\\\n",
       "\\end{tabular}\n"
      ],
      "text/plain": [
       "\u001b[1m123×4 DataFrame\u001b[0m\n",
       "\u001b[1m Row \u001b[0m│\u001b[1m name                   \u001b[0m\u001b[1m stat_value \u001b[0m\u001b[1m time_stat  \u001b[0m\u001b[1m dual_val \u001b[0m\n",
       "     │\u001b[90m String31               \u001b[0m\u001b[90m Float64    \u001b[0m\u001b[90m Float64    \u001b[0m\u001b[90m Float64? \u001b[0m\n",
       "─────┼──────────────────────────────────────────────────────────\n",
       "   1 │ 1000_USA-road-d.BAY.gr     40117.0   3.762       48250.0\n",
       "   2 │ 1000_USA-road-d.COL.gr     24068.0   5.764       29672.8\n",
       "   3 │ 1000_USA-road-d.NY.gr      36248.0   2.778       43329.0\n",
       "   4 │ 100_USA-road-d.BAY.gr       8818.0   0.085       10857.1\n",
       "   5 │ 100_USA-road-d.COL.gr      18930.0   0.0599999   25320.2\n",
       "   6 │ 100_USA-road-d.NY.gr       15274.0   0.0470002   33931.0\n",
       "   7 │ 1100_USA-road-d.BAY.gr     54157.0   5.131       82422.6\n",
       "   8 │ 1100_USA-road-d.COL.gr     34075.0   9.959       42766.5\n",
       "  ⋮  │           ⋮                 ⋮           ⋮          ⋮\n",
       " 117 │ 850_USA-road-d.NY.gr       36248.0   1.544       43329.1\n",
       " 118 │ 900_USA-road-d.BAY.gr      45383.0   2.651       54240.2\n",
       " 119 │ 900_USA-road-d.COL.gr      24068.0   3.872       29672.8\n",
       " 120 │ 900_USA-road-d.NY.gr       36248.0   1.826       43329.0\n",
       " 121 │ 950_USA-road-d.BAY.gr      45383.0   2.991       54240.2\n",
       " 122 │ 950_USA-road-d.COL.gr      24068.0   4.611       29672.8\n",
       " 123 │ 950_USA-road-d.NY.gr       36248.0   2.117       43329.1\n",
       "\u001b[36m                                                108 rows omitted\u001b[0m"
      ]
     },
     "metadata": {},
     "output_type": "display_data"
    }
   ],
   "source": [
    "st_dual=leftjoin(total, r_dualisation, on = :name)"
   ]
  },
  {
   "cell_type": "code",
   "execution_count": 16,
   "metadata": {},
   "outputs": [
    {
     "data": {
      "text/html": [
       "<div><div style = \"float: left;\"><span>2×4 DataFrame</span></div><div style = \"clear: both;\"></div></div><div class = \"data-frame\" style = \"overflow-x: scroll;\"><table class = \"data-frame\" style = \"margin-bottom: 6px;\"><thead><tr class = \"header\"><th class = \"rowNumber\" style = \"font-weight: bold; text-align: right;\">Row</th><th style = \"text-align: left;\">name</th><th style = \"text-align: left;\">pc_val</th><th style = \"text-align: left;\">iter</th><th style = \"text-align: left;\">time_pc</th></tr><tr class = \"subheader headerLastRow\"><th class = \"rowNumber\" style = \"font-weight: bold; text-align: right;\"></th><th title = \"String31\" style = \"text-align: left;\">String31</th><th title = \"Float64\" style = \"text-align: left;\">Float64</th><th title = \"Int64\" style = \"text-align: left;\">Int64</th><th title = \"Float64\" style = \"text-align: left;\">Float64</th></tr></thead><tbody><tr><td class = \"rowNumber\" style = \"font-weight: bold; text-align: right;\">1</td><td style = \"text-align: left;\">20_USA-road-d.BAY.gr</td><td style = \"text-align: right;\">15332.6</td><td style = \"text-align: right;\">45</td><td style = \"text-align: right;\">7.495</td></tr><tr><td class = \"rowNumber\" style = \"font-weight: bold; text-align: right;\">2</td><td style = \"text-align: left;\">20_USA-road-d.NY.gr</td><td style = \"text-align: right;\">9454.47</td><td style = \"text-align: right;\">15</td><td style = \"text-align: right;\">1.049</td></tr></tbody></table></div>"
      ],
      "text/latex": [
       "\\begin{tabular}{r|cccc}\n",
       "\t& name & pc\\_val & iter & time\\_pc\\\\\n",
       "\t\\hline\n",
       "\t& String31 & Float64 & Int64 & Float64\\\\\n",
       "\t\\hline\n",
       "\t1 & 20\\_USA-road-d.BAY.gr & 15332.6 & 45 & 7.495 \\\\\n",
       "\t2 & 20\\_USA-road-d.NY.gr & 9454.47 & 15 & 1.049 \\\\\n",
       "\\end{tabular}\n"
      ],
      "text/plain": [
       "\u001b[1m2×4 DataFrame\u001b[0m\n",
       "\u001b[1m Row \u001b[0m│\u001b[1m name                 \u001b[0m\u001b[1m pc_val   \u001b[0m\u001b[1m iter  \u001b[0m\u001b[1m time_pc \u001b[0m\n",
       "     │\u001b[90m String31             \u001b[0m\u001b[90m Float64  \u001b[0m\u001b[90m Int64 \u001b[0m\u001b[90m Float64 \u001b[0m\n",
       "─────┼────────────────────────────────────────────────\n",
       "   1 │ 20_USA-road-d.BAY.gr  15332.6      45    7.495\n",
       "   2 │ 20_USA-road-d.NY.gr    9454.47     15    1.049"
      ]
     },
     "metadata": {},
     "output_type": "display_data"
    }
   ],
   "source": [
    "r_planCoupants1=DataFrame(CSV.File(\"result_planCoupant.csv\",header=false),[\"name\",\"pc_val\",\"iter\",\"time_pc\"])\n",
    "r_planCoupants1[1:2,:]"
   ]
  },
  {
   "cell_type": "code",
   "execution_count": 17,
   "metadata": {},
   "outputs": [
    {
     "data": {
      "text/html": [
       "<div><div style = \"float: left;\"><span>123×7 DataFrame</span></div><div style = \"float: right;\"><span style = \"font-style: italic;\">98 rows omitted</span></div><div style = \"clear: both;\"></div></div><div class = \"data-frame\" style = \"overflow-x: scroll;\"><table class = \"data-frame\" style = \"margin-bottom: 6px;\"><thead><tr class = \"header\"><th class = \"rowNumber\" style = \"font-weight: bold; text-align: right;\">Row</th><th style = \"text-align: left;\">name</th><th style = \"text-align: left;\">stat_value</th><th style = \"text-align: left;\">time_stat</th><th style = \"text-align: left;\">dual_val</th><th style = \"text-align: left;\">pc_val</th><th style = \"text-align: left;\">iter</th><th style = \"text-align: left;\">time_pc</th></tr><tr class = \"subheader headerLastRow\"><th class = \"rowNumber\" style = \"font-weight: bold; text-align: right;\"></th><th title = \"String31\" style = \"text-align: left;\">String31</th><th title = \"Float64\" style = \"text-align: left;\">Float64</th><th title = \"Float64\" style = \"text-align: left;\">Float64</th><th title = \"Union{Missing, Float64}\" style = \"text-align: left;\">Float64?</th><th title = \"Union{Missing, Float64}\" style = \"text-align: left;\">Float64?</th><th title = \"Union{Missing, Int64}\" style = \"text-align: left;\">Int64?</th><th title = \"Union{Missing, Float64}\" style = \"text-align: left;\">Float64?</th></tr></thead><tbody><tr><td class = \"rowNumber\" style = \"font-weight: bold; text-align: right;\">1</td><td style = \"text-align: left;\">20_USA-road-d.BAY.gr</td><td style = \"text-align: right;\">9365.0</td><td style = \"text-align: right;\">0.013</td><td style = \"text-align: right;\">15332.6</td><td style = \"text-align: right;\">15332.6</td><td style = \"text-align: right;\">45</td><td style = \"text-align: right;\">7.495</td></tr><tr><td class = \"rowNumber\" style = \"font-weight: bold; text-align: right;\">2</td><td style = \"text-align: left;\">20_USA-road-d.NY.gr</td><td style = \"text-align: right;\">6848.0</td><td style = \"text-align: right;\">0.00899982</td><td style = \"text-align: right;\">9454.47</td><td style = \"text-align: right;\">9454.47</td><td style = \"text-align: right;\">15</td><td style = \"text-align: right;\">1.049</td></tr><tr><td class = \"rowNumber\" style = \"font-weight: bold; text-align: right;\">3</td><td style = \"text-align: left;\">40_USA-road-d.BAY.gr</td><td style = \"text-align: right;\">7856.0</td><td style = \"text-align: right;\">4.401</td><td style = \"text-align: right;\">12664.3</td><td style = \"text-align: right;\">12664.3</td><td style = \"text-align: right;\">57</td><td style = \"text-align: right;\">12.319</td></tr><tr><td class = \"rowNumber\" style = \"font-weight: bold; text-align: right;\">4</td><td style = \"text-align: left;\">40_USA-road-d.COL.gr</td><td style = \"text-align: right;\">10084.0</td><td style = \"text-align: right;\">0.0190001</td><td style = \"text-align: right;\">15059.0</td><td style = \"text-align: right;\">15059.0</td><td style = \"text-align: right;\">336</td><td style = \"text-align: right;\">174.027</td></tr><tr><td class = \"rowNumber\" style = \"font-weight: bold; text-align: right;\">5</td><td style = \"text-align: left;\">40_USA-road-d.NY.gr</td><td style = \"text-align: right;\">12410.0</td><td style = \"text-align: right;\">0.0250001</td><td style = \"text-align: right;\">17330.1</td><td style = \"text-align: right;\">17330.1</td><td style = \"text-align: right;\">126</td><td style = \"text-align: right;\">45.354</td></tr><tr><td class = \"rowNumber\" style = \"font-weight: bold; text-align: right;\">6</td><td style = \"text-align: left;\">60_USA-road-d.BAY.gr</td><td style = \"text-align: right;\">6965.0</td><td style = \"text-align: right;\">0.053</td><td style = \"text-align: right;\">10633.3</td><td style = \"text-align: right;\">8571.81</td><td style = \"text-align: right;\">120</td><td style = \"text-align: right;\">73.277</td></tr><tr><td class = \"rowNumber\" style = \"font-weight: bold; text-align: right;\">7</td><td style = \"text-align: left;\">60_USA-road-d.COL.gr</td><td style = \"text-align: right;\">16904.0</td><td style = \"text-align: right;\">0.023</td><td style = \"text-align: right;\">23914.2</td><td style = \"text-align: right;\">23914.2</td><td style = \"text-align: right;\">75</td><td style = \"text-align: right;\">21.971</td></tr><tr><td class = \"rowNumber\" style = \"font-weight: bold; text-align: right;\">8</td><td style = \"text-align: left;\">60_USA-road-d.NY.gr</td><td style = \"text-align: right;\">12244.0</td><td style = \"text-align: right;\">0.0280001</td><td style = \"text-align: right;\">31775.8</td><td style = \"text-align: right;\">15809.6</td><td style = \"text-align: right;\">222</td><td style = \"text-align: right;\">180.397</td></tr><tr><td class = \"rowNumber\" style = \"font-weight: bold; text-align: right;\">9</td><td style = \"text-align: left;\">1000_USA-road-d.BAY.gr</td><td style = \"text-align: right;\">40117.0</td><td style = \"text-align: right;\">3.762</td><td style = \"text-align: right;\">48250.0</td><td style = \"font-style: italic; text-align: right;\">missing</td><td style = \"font-style: italic; text-align: right;\">missing</td><td style = \"font-style: italic; text-align: right;\">missing</td></tr><tr><td class = \"rowNumber\" style = \"font-weight: bold; text-align: right;\">10</td><td style = \"text-align: left;\">1000_USA-road-d.COL.gr</td><td style = \"text-align: right;\">24068.0</td><td style = \"text-align: right;\">5.764</td><td style = \"text-align: right;\">29672.8</td><td style = \"font-style: italic; text-align: right;\">missing</td><td style = \"font-style: italic; text-align: right;\">missing</td><td style = \"font-style: italic; text-align: right;\">missing</td></tr><tr><td class = \"rowNumber\" style = \"font-weight: bold; text-align: right;\">11</td><td style = \"text-align: left;\">1000_USA-road-d.NY.gr</td><td style = \"text-align: right;\">36248.0</td><td style = \"text-align: right;\">2.778</td><td style = \"text-align: right;\">43329.0</td><td style = \"font-style: italic; text-align: right;\">missing</td><td style = \"font-style: italic; text-align: right;\">missing</td><td style = \"font-style: italic; text-align: right;\">missing</td></tr><tr><td class = \"rowNumber\" style = \"font-weight: bold; text-align: right;\">12</td><td style = \"text-align: left;\">100_USA-road-d.BAY.gr</td><td style = \"text-align: right;\">8818.0</td><td style = \"text-align: right;\">0.085</td><td style = \"text-align: right;\">10857.1</td><td style = \"font-style: italic; text-align: right;\">missing</td><td style = \"font-style: italic; text-align: right;\">missing</td><td style = \"font-style: italic; text-align: right;\">missing</td></tr><tr><td class = \"rowNumber\" style = \"font-weight: bold; text-align: right;\">13</td><td style = \"text-align: left;\">100_USA-road-d.COL.gr</td><td style = \"text-align: right;\">18930.0</td><td style = \"text-align: right;\">0.0599999</td><td style = \"text-align: right;\">25320.2</td><td style = \"font-style: italic; text-align: right;\">missing</td><td style = \"font-style: italic; text-align: right;\">missing</td><td style = \"font-style: italic; text-align: right;\">missing</td></tr><tr><td style = \"text-align: right;\">&vellip;</td><td style = \"text-align: right;\">&vellip;</td><td style = \"text-align: right;\">&vellip;</td><td style = \"text-align: right;\">&vellip;</td><td style = \"text-align: right;\">&vellip;</td><td style = \"text-align: right;\">&vellip;</td><td style = \"text-align: right;\">&vellip;</td><td style = \"text-align: right;\">&vellip;</td></tr><tr><td class = \"rowNumber\" style = \"font-weight: bold; text-align: right;\">112</td><td style = \"text-align: left;\">80_USA-road-d.BAY.gr</td><td style = \"text-align: right;\">8818.0</td><td style = \"text-align: right;\">0.072</td><td style = \"text-align: right;\">10857.1</td><td style = \"font-style: italic; text-align: right;\">missing</td><td style = \"font-style: italic; text-align: right;\">missing</td><td style = \"font-style: italic; text-align: right;\">missing</td></tr><tr><td class = \"rowNumber\" style = \"font-weight: bold; text-align: right;\">113</td><td style = \"text-align: left;\">80_USA-road-d.COL.gr</td><td style = \"text-align: right;\">10892.0</td><td style = \"text-align: right;\">0.0510001</td><td style = \"text-align: right;\">14277.5</td><td style = \"font-style: italic; text-align: right;\">missing</td><td style = \"font-style: italic; text-align: right;\">missing</td><td style = \"font-style: italic; text-align: right;\">missing</td></tr><tr><td class = \"rowNumber\" style = \"font-weight: bold; text-align: right;\">114</td><td style = \"text-align: left;\">80_USA-road-d.NY.gr</td><td style = \"text-align: right;\">12244.0</td><td style = \"text-align: right;\">0.0599999</td><td style = \"text-align: right;\">31775.8</td><td style = \"font-style: italic; text-align: right;\">missing</td><td style = \"font-style: italic; text-align: right;\">missing</td><td style = \"font-style: italic; text-align: right;\">missing</td></tr><tr><td class = \"rowNumber\" style = \"font-weight: bold; text-align: right;\">115</td><td style = \"text-align: left;\">850_USA-road-d.BAY.gr</td><td style = \"text-align: right;\">35151.0</td><td style = \"text-align: right;\">2.309</td><td style = \"text-align: right;\">42201.1</td><td style = \"font-style: italic; text-align: right;\">missing</td><td style = \"font-style: italic; text-align: right;\">missing</td><td style = \"font-style: italic; text-align: right;\">missing</td></tr><tr><td class = \"rowNumber\" style = \"font-weight: bold; text-align: right;\">116</td><td style = \"text-align: left;\">850_USA-road-d.COL.gr</td><td style = \"text-align: right;\">24068.0</td><td style = \"text-align: right;\">3.134</td><td style = \"text-align: right;\">29672.8</td><td style = \"font-style: italic; text-align: right;\">missing</td><td style = \"font-style: italic; text-align: right;\">missing</td><td style = \"font-style: italic; text-align: right;\">missing</td></tr><tr><td class = \"rowNumber\" style = \"font-weight: bold; text-align: right;\">117</td><td style = \"text-align: left;\">850_USA-road-d.NY.gr</td><td style = \"text-align: right;\">36248.0</td><td style = \"text-align: right;\">1.544</td><td style = \"text-align: right;\">43329.1</td><td style = \"font-style: italic; text-align: right;\">missing</td><td style = \"font-style: italic; text-align: right;\">missing</td><td style = \"font-style: italic; text-align: right;\">missing</td></tr><tr><td class = \"rowNumber\" style = \"font-weight: bold; text-align: right;\">118</td><td style = \"text-align: left;\">900_USA-road-d.BAY.gr</td><td style = \"text-align: right;\">45383.0</td><td style = \"text-align: right;\">2.651</td><td style = \"text-align: right;\">54240.2</td><td style = \"font-style: italic; text-align: right;\">missing</td><td style = \"font-style: italic; text-align: right;\">missing</td><td style = \"font-style: italic; text-align: right;\">missing</td></tr><tr><td class = \"rowNumber\" style = \"font-weight: bold; text-align: right;\">119</td><td style = \"text-align: left;\">900_USA-road-d.COL.gr</td><td style = \"text-align: right;\">24068.0</td><td style = \"text-align: right;\">3.872</td><td style = \"text-align: right;\">29672.8</td><td style = \"font-style: italic; text-align: right;\">missing</td><td style = \"font-style: italic; text-align: right;\">missing</td><td style = \"font-style: italic; text-align: right;\">missing</td></tr><tr><td class = \"rowNumber\" style = \"font-weight: bold; text-align: right;\">120</td><td style = \"text-align: left;\">900_USA-road-d.NY.gr</td><td style = \"text-align: right;\">36248.0</td><td style = \"text-align: right;\">1.826</td><td style = \"text-align: right;\">43329.0</td><td style = \"font-style: italic; text-align: right;\">missing</td><td style = \"font-style: italic; text-align: right;\">missing</td><td style = \"font-style: italic; text-align: right;\">missing</td></tr><tr><td class = \"rowNumber\" style = \"font-weight: bold; text-align: right;\">121</td><td style = \"text-align: left;\">950_USA-road-d.BAY.gr</td><td style = \"text-align: right;\">45383.0</td><td style = \"text-align: right;\">2.991</td><td style = \"text-align: right;\">54240.2</td><td style = \"font-style: italic; text-align: right;\">missing</td><td style = \"font-style: italic; text-align: right;\">missing</td><td style = \"font-style: italic; text-align: right;\">missing</td></tr><tr><td class = \"rowNumber\" style = \"font-weight: bold; text-align: right;\">122</td><td style = \"text-align: left;\">950_USA-road-d.COL.gr</td><td style = \"text-align: right;\">24068.0</td><td style = \"text-align: right;\">4.611</td><td style = \"text-align: right;\">29672.8</td><td style = \"font-style: italic; text-align: right;\">missing</td><td style = \"font-style: italic; text-align: right;\">missing</td><td style = \"font-style: italic; text-align: right;\">missing</td></tr><tr><td class = \"rowNumber\" style = \"font-weight: bold; text-align: right;\">123</td><td style = \"text-align: left;\">950_USA-road-d.NY.gr</td><td style = \"text-align: right;\">36248.0</td><td style = \"text-align: right;\">2.117</td><td style = \"text-align: right;\">43329.1</td><td style = \"font-style: italic; text-align: right;\">missing</td><td style = \"font-style: italic; text-align: right;\">missing</td><td style = \"font-style: italic; text-align: right;\">missing</td></tr></tbody></table></div>"
      ],
      "text/latex": [
       "\\begin{tabular}{r|ccccccc}\n",
       "\t& name & stat\\_value & time\\_stat & dual\\_val & pc\\_val & iter & time\\_pc\\\\\n",
       "\t\\hline\n",
       "\t& String31 & Float64 & Float64 & Float64? & Float64? & Int64? & Float64?\\\\\n",
       "\t\\hline\n",
       "\t1 & 20\\_USA-road-d.BAY.gr & 9365.0 & 0.013 & 15332.6 & 15332.6 & 45 & 7.495 \\\\\n",
       "\t2 & 20\\_USA-road-d.NY.gr & 6848.0 & 0.00899982 & 9454.47 & 9454.47 & 15 & 1.049 \\\\\n",
       "\t3 & 40\\_USA-road-d.BAY.gr & 7856.0 & 4.401 & 12664.3 & 12664.3 & 57 & 12.319 \\\\\n",
       "\t4 & 40\\_USA-road-d.COL.gr & 10084.0 & 0.0190001 & 15059.0 & 15059.0 & 336 & 174.027 \\\\\n",
       "\t5 & 40\\_USA-road-d.NY.gr & 12410.0 & 0.0250001 & 17330.1 & 17330.1 & 126 & 45.354 \\\\\n",
       "\t6 & 60\\_USA-road-d.BAY.gr & 6965.0 & 0.053 & 10633.3 & 8571.81 & 120 & 73.277 \\\\\n",
       "\t7 & 60\\_USA-road-d.COL.gr & 16904.0 & 0.023 & 23914.2 & 23914.2 & 75 & 21.971 \\\\\n",
       "\t8 & 60\\_USA-road-d.NY.gr & 12244.0 & 0.0280001 & 31775.8 & 15809.6 & 222 & 180.397 \\\\\n",
       "\t9 & 1000\\_USA-road-d.BAY.gr & 40117.0 & 3.762 & 48250.0 & \\emph{missing} & \\emph{missing} & \\emph{missing} \\\\\n",
       "\t10 & 1000\\_USA-road-d.COL.gr & 24068.0 & 5.764 & 29672.8 & \\emph{missing} & \\emph{missing} & \\emph{missing} \\\\\n",
       "\t11 & 1000\\_USA-road-d.NY.gr & 36248.0 & 2.778 & 43329.0 & \\emph{missing} & \\emph{missing} & \\emph{missing} \\\\\n",
       "\t12 & 100\\_USA-road-d.BAY.gr & 8818.0 & 0.085 & 10857.1 & \\emph{missing} & \\emph{missing} & \\emph{missing} \\\\\n",
       "\t13 & 100\\_USA-road-d.COL.gr & 18930.0 & 0.0599999 & 25320.2 & \\emph{missing} & \\emph{missing} & \\emph{missing} \\\\\n",
       "\t14 & 100\\_USA-road-d.NY.gr & 15274.0 & 0.0470002 & 33931.0 & \\emph{missing} & \\emph{missing} & \\emph{missing} \\\\\n",
       "\t15 & 1100\\_USA-road-d.BAY.gr & 54157.0 & 5.131 & 82422.6 & \\emph{missing} & \\emph{missing} & \\emph{missing} \\\\\n",
       "\t16 & 1100\\_USA-road-d.COL.gr & 34075.0 & 9.959 & 42766.5 & \\emph{missing} & \\emph{missing} & \\emph{missing} \\\\\n",
       "\t17 & 1100\\_USA-road-d.NY.gr & 49351.0 & 6.309 & 70089.2 & \\emph{missing} & \\emph{missing} & \\emph{missing} \\\\\n",
       "\t18 & 1200\\_USA-road-d.BAY.gr & 62095.0 & 8.376 & 76338.2 & \\emph{missing} & \\emph{missing} & \\emph{missing} \\\\\n",
       "\t19 & 1200\\_USA-road-d.COL.gr & 34075.0 & 13.165 & 42766.5 & \\emph{missing} & \\emph{missing} & \\emph{missing} \\\\\n",
       "\t20 & 1200\\_USA-road-d.NY.gr & 59590.0 & 8.29 & 72566.0 & \\emph{missing} & \\emph{missing} & \\emph{missing} \\\\\n",
       "\t21 & 120\\_USA-road-d.BAY.gr & 10034.0 & 0.096 & 12219.0 & \\emph{missing} & \\emph{missing} & \\emph{missing} \\\\\n",
       "\t22 & 120\\_USA-road-d.COL.gr & 18930.0 & 0.072 & 25582.6 & \\emph{missing} & \\emph{missing} & \\emph{missing} \\\\\n",
       "\t23 & 120\\_USA-road-d.NY.gr & 18916.0 & 0.0839999 & 30613.1 & \\emph{missing} & \\emph{missing} & \\emph{missing} \\\\\n",
       "\t24 & 1300\\_USA-road-d.BAY.gr & 60392.0 & 10.467 & 77072.9 & \\emph{missing} & \\emph{missing} & \\emph{missing} \\\\\n",
       "\t$\\dots$ & $\\dots$ & $\\dots$ & $\\dots$ & $\\dots$ & $\\dots$ & $\\dots$ & $\\dots$ \\\\\n",
       "\\end{tabular}\n"
      ],
      "text/plain": [
       "\u001b[1m123×7 DataFrame\u001b[0m\n",
       "\u001b[1m Row \u001b[0m│\u001b[1m name                   \u001b[0m\u001b[1m stat_value \u001b[0m\u001b[1m time_stat  \u001b[0m\u001b[1m dual_val \u001b[0m\u001b[1m pc_val     \u001b[0m\u001b[1m i\u001b[0m ⋯\n",
       "     │\u001b[90m String31               \u001b[0m\u001b[90m Float64    \u001b[0m\u001b[90m Float64    \u001b[0m\u001b[90m Float64? \u001b[0m\u001b[90m Float64?   \u001b[0m\u001b[90m I\u001b[0m ⋯\n",
       "─────┼──────────────────────────────────────────────────────────────────────────\n",
       "   1 │ 20_USA-road-d.BAY.gr        9365.0  0.013       15332.6     15332.6     ⋯\n",
       "   2 │ 20_USA-road-d.NY.gr         6848.0  0.00899982   9454.47     9454.47\n",
       "   3 │ 40_USA-road-d.BAY.gr        7856.0  4.401       12664.3     12664.3\n",
       "   4 │ 40_USA-road-d.COL.gr       10084.0  0.0190001   15059.0     15059.0\n",
       "   5 │ 40_USA-road-d.NY.gr        12410.0  0.0250001   17330.1     17330.1     ⋯\n",
       "   6 │ 60_USA-road-d.BAY.gr        6965.0  0.053       10633.3      8571.81\n",
       "   7 │ 60_USA-road-d.COL.gr       16904.0  0.023       23914.2     23914.2\n",
       "   8 │ 60_USA-road-d.NY.gr        12244.0  0.0280001   31775.8     15809.6\n",
       "  ⋮  │           ⋮                 ⋮           ⋮          ⋮          ⋮         ⋱\n",
       " 117 │ 850_USA-road-d.NY.gr       36248.0  1.544       43329.1  \u001b[90m missing    \u001b[0m\u001b[90m m\u001b[0m ⋯\n",
       " 118 │ 900_USA-road-d.BAY.gr      45383.0  2.651       54240.2  \u001b[90m missing    \u001b[0m\u001b[90m m\u001b[0m\n",
       " 119 │ 900_USA-road-d.COL.gr      24068.0  3.872       29672.8  \u001b[90m missing    \u001b[0m\u001b[90m m\u001b[0m\n",
       " 120 │ 900_USA-road-d.NY.gr       36248.0  1.826       43329.0  \u001b[90m missing    \u001b[0m\u001b[90m m\u001b[0m\n",
       " 121 │ 950_USA-road-d.BAY.gr      45383.0  2.991       54240.2  \u001b[90m missing    \u001b[0m\u001b[90m m\u001b[0m ⋯\n",
       " 122 │ 950_USA-road-d.COL.gr      24068.0  4.611       29672.8  \u001b[90m missing    \u001b[0m\u001b[90m m\u001b[0m\n",
       " 123 │ 950_USA-road-d.NY.gr       36248.0  2.117       43329.1  \u001b[90m missing    \u001b[0m\u001b[90m m\u001b[0m\n",
       "\u001b[36m                                                  2 columns and 108 rows omitted\u001b[0m"
      ]
     },
     "metadata": {},
     "output_type": "display_data"
    }
   ],
   "source": [
    "st_dual_pc=leftjoin(st_dual,r_planCoupants1,on = :name)"
   ]
  },
  {
   "cell_type": "code",
   "execution_count": 46,
   "metadata": {},
   "outputs": [
    {
     "data": {
      "text/html": [
       "<div><div style = \"float: left;\"><span>2×4 DataFrame</span></div><div style = \"clear: both;\"></div></div><div class = \"data-frame\" style = \"overflow-x: scroll;\"><table class = \"data-frame\" style = \"margin-bottom: 6px;\"><thead><tr class = \"header\"><th class = \"rowNumber\" style = \"font-weight: bold; text-align: right;\">Row</th><th style = \"text-align: left;\">Name</th><th style = \"text-align: left;\">Value</th><th style = \"text-align: left;\">Nb_it</th><th style = \"text-align: left;\">time</th></tr><tr class = \"subheader headerLastRow\"><th class = \"rowNumber\" style = \"font-weight: bold; text-align: right;\"></th><th title = \"String31\" style = \"text-align: left;\">String31</th><th title = \"Float64\" style = \"text-align: left;\">Float64</th><th title = \"Int64\" style = \"text-align: left;\">Int64</th><th title = \"Float64\" style = \"text-align: left;\">Float64</th></tr></thead><tbody><tr><td class = \"rowNumber\" style = \"font-weight: bold; text-align: right;\">1</td><td style = \"text-align: left;\">1000_USA-road-d.BAY.gr</td><td style = \"text-align: right;\">45025.7</td><td style = \"text-align: right;\">18</td><td style = \"text-align: right;\">191.344</td></tr><tr><td class = \"rowNumber\" style = \"font-weight: bold; text-align: right;\">2</td><td style = \"text-align: left;\">1000_USA-road-d.COL.gr</td><td style = \"text-align: right;\">24119.2</td><td style = \"text-align: right;\">14</td><td style = \"text-align: right;\">192.392</td></tr></tbody></table></div>"
      ],
      "text/latex": [
       "\\begin{tabular}{r|cccc}\n",
       "\t& Name & Value & Nb\\_it & time\\\\\n",
       "\t\\hline\n",
       "\t& String31 & Float64 & Int64 & Float64\\\\\n",
       "\t\\hline\n",
       "\t1 & 1000\\_USA-road-d.BAY.gr & 45025.7 & 18 & 191.344 \\\\\n",
       "\t2 & 1000\\_USA-road-d.COL.gr & 24119.2 & 14 & 192.392 \\\\\n",
       "\\end{tabular}\n"
      ],
      "text/plain": [
       "\u001b[1m2×4 DataFrame\u001b[0m\n",
       "\u001b[1m Row \u001b[0m│\u001b[1m Name                   \u001b[0m\u001b[1m Value   \u001b[0m\u001b[1m Nb_it \u001b[0m\u001b[1m time    \u001b[0m\n",
       "     │\u001b[90m String31               \u001b[0m\u001b[90m Float64 \u001b[0m\u001b[90m Int64 \u001b[0m\u001b[90m Float64 \u001b[0m\n",
       "─────┼─────────────────────────────────────────────────\n",
       "   1 │ 1000_USA-road-d.BAY.gr  45025.7     18  191.344\n",
       "   2 │ 1000_USA-road-d.COL.gr  24119.2     14  192.392"
      ]
     },
     "metadata": {},
     "output_type": "display_data"
    }
   ],
   "source": [
    "r_planCoupants2=DataFrame(CSV.File(\"result_PC.csv\",header=true))\n",
    "r_planCoupants2[1:2,:]"
   ]
  },
  {
   "cell_type": "code",
   "execution_count": 51,
   "metadata": {},
   "outputs": [
    {
     "data": {
      "text/html": [
       "<div><div style = \"float: left;\"><span>136×9 DataFrame</span></div><div style = \"float: right;\"><span style = \"font-style: italic;\">111 rows omitted</span></div><div style = \"clear: both;\"></div></div><div class = \"data-frame\" style = \"overflow-x: scroll;\"><table class = \"data-frame\" style = \"margin-bottom: 6px;\"><thead><tr class = \"header\"><th class = \"rowNumber\" style = \"font-weight: bold; text-align: right;\">Row</th><th style = \"text-align: left;\">name</th><th style = \"text-align: left;\">stat_value</th><th style = \"text-align: left;\">time_stat</th><th style = \"text-align: left;\">dual_val</th><th style = \"text-align: left;\">pc_val</th><th style = \"text-align: left;\">iter</th><th style = \"text-align: left;\">Value</th><th style = \"text-align: left;\">Nb_it</th><th style = \"text-align: left;\">time</th></tr><tr class = \"subheader headerLastRow\"><th class = \"rowNumber\" style = \"font-weight: bold; text-align: right;\"></th><th title = \"String31\" style = \"text-align: left;\">String31</th><th title = \"Float64\" style = \"text-align: left;\">Float64</th><th title = \"Float64\" style = \"text-align: left;\">Float64</th><th title = \"Union{Missing, Float64}\" style = \"text-align: left;\">Float64?</th><th title = \"Union{Missing, Float64}\" style = \"text-align: left;\">Float64?</th><th title = \"Union{Missing, Int64}\" style = \"text-align: left;\">Int64?</th><th title = \"Union{Missing, Float64}\" style = \"text-align: left;\">Float64?</th><th title = \"Union{Missing, Int64}\" style = \"text-align: left;\">Int64?</th><th title = \"Union{Missing, Float64}\" style = \"text-align: left;\">Float64?</th></tr></thead><tbody><tr><td class = \"rowNumber\" style = \"font-weight: bold; text-align: right;\">1</td><td style = \"text-align: left;\">20_USA-road-d.BAY.gr</td><td style = \"text-align: right;\">9365.0</td><td style = \"text-align: right;\">0.013</td><td style = \"text-align: right;\">15332.6</td><td style = \"text-align: right;\">15332.6</td><td style = \"text-align: right;\">45</td><td style = \"text-align: right;\">15332.6</td><td style = \"text-align: right;\">45</td><td style = \"text-align: right;\">1.639</td></tr><tr><td class = \"rowNumber\" style = \"font-weight: bold; text-align: right;\">2</td><td style = \"text-align: left;\">20_USA-road-d.NY.gr</td><td style = \"text-align: right;\">6848.0</td><td style = \"text-align: right;\">0.00899982</td><td style = \"text-align: right;\">9454.47</td><td style = \"text-align: right;\">9454.47</td><td style = \"text-align: right;\">15</td><td style = \"text-align: right;\">9454.47</td><td style = \"text-align: right;\">15</td><td style = \"text-align: right;\">0.484</td></tr><tr><td class = \"rowNumber\" style = \"font-weight: bold; text-align: right;\">3</td><td style = \"text-align: left;\">1000_USA-road-d.BAY.gr</td><td style = \"text-align: right;\">40117.0</td><td style = \"text-align: right;\">3.762</td><td style = \"text-align: right;\">48250.0</td><td style = \"font-style: italic; text-align: right;\">missing</td><td style = \"font-style: italic; text-align: right;\">missing</td><td style = \"text-align: right;\">45025.7</td><td style = \"text-align: right;\">18</td><td style = \"text-align: right;\">191.344</td></tr><tr><td class = \"rowNumber\" style = \"font-weight: bold; text-align: right;\">4</td><td style = \"text-align: left;\">1000_USA-road-d.COL.gr</td><td style = \"text-align: right;\">24068.0</td><td style = \"text-align: right;\">5.764</td><td style = \"text-align: right;\">29672.8</td><td style = \"font-style: italic; text-align: right;\">missing</td><td style = \"font-style: italic; text-align: right;\">missing</td><td style = \"text-align: right;\">24119.2</td><td style = \"text-align: right;\">14</td><td style = \"text-align: right;\">192.392</td></tr><tr><td class = \"rowNumber\" style = \"font-weight: bold; text-align: right;\">5</td><td style = \"text-align: left;\">1000_USA-road-d.NY.gr</td><td style = \"text-align: right;\">36248.0</td><td style = \"text-align: right;\">2.778</td><td style = \"text-align: right;\">43329.0</td><td style = \"font-style: italic; text-align: right;\">missing</td><td style = \"font-style: italic; text-align: right;\">missing</td><td style = \"text-align: right;\">37840.7</td><td style = \"text-align: right;\">13</td><td style = \"text-align: right;\">189.916</td></tr><tr><td class = \"rowNumber\" style = \"font-weight: bold; text-align: right;\">6</td><td style = \"text-align: left;\">100_USA-road-d.BAY.gr</td><td style = \"text-align: right;\">8818.0</td><td style = \"text-align: right;\">0.085</td><td style = \"text-align: right;\">10857.1</td><td style = \"font-style: italic; text-align: right;\">missing</td><td style = \"font-style: italic; text-align: right;\">missing</td><td style = \"text-align: right;\">9884.89</td><td style = \"text-align: right;\">83</td><td style = \"text-align: right;\">194.116</td></tr><tr><td class = \"rowNumber\" style = \"font-weight: bold; text-align: right;\">7</td><td style = \"text-align: left;\">100_USA-road-d.COL.gr</td><td style = \"text-align: right;\">18930.0</td><td style = \"text-align: right;\">0.0599999</td><td style = \"text-align: right;\">25320.2</td><td style = \"font-style: italic; text-align: right;\">missing</td><td style = \"font-style: italic; text-align: right;\">missing</td><td style = \"text-align: right;\">24397.5</td><td style = \"text-align: right;\">108</td><td style = \"text-align: right;\">180.222</td></tr><tr><td class = \"rowNumber\" style = \"font-weight: bold; text-align: right;\">8</td><td style = \"text-align: left;\">100_USA-road-d.NY.gr</td><td style = \"text-align: right;\">15274.0</td><td style = \"text-align: right;\">0.0470002</td><td style = \"text-align: right;\">33931.0</td><td style = \"font-style: italic; text-align: right;\">missing</td><td style = \"font-style: italic; text-align: right;\">missing</td><td style = \"text-align: right;\">18951.8</td><td style = \"text-align: right;\">100</td><td style = \"text-align: right;\">180.127</td></tr><tr><td class = \"rowNumber\" style = \"font-weight: bold; text-align: right;\">9</td><td style = \"text-align: left;\">1100_USA-road-d.BAY.gr</td><td style = \"text-align: right;\">54157.0</td><td style = \"text-align: right;\">5.131</td><td style = \"text-align: right;\">82422.6</td><td style = \"font-style: italic; text-align: right;\">missing</td><td style = \"font-style: italic; text-align: right;\">missing</td><td style = \"text-align: right;\">57818.0</td><td style = \"text-align: right;\">5</td><td style = \"text-align: right;\">189.854</td></tr><tr><td class = \"rowNumber\" style = \"font-weight: bold; text-align: right;\">10</td><td style = \"text-align: left;\">1100_USA-road-d.COL.gr</td><td style = \"text-align: right;\">34075.0</td><td style = \"text-align: right;\">9.959</td><td style = \"text-align: right;\">42766.5</td><td style = \"font-style: italic; text-align: right;\">missing</td><td style = \"font-style: italic; text-align: right;\">missing</td><td style = \"text-align: right;\">32664.0</td><td style = \"text-align: right;\">5</td><td style = \"text-align: right;\">183.999</td></tr><tr><td class = \"rowNumber\" style = \"font-weight: bold; text-align: right;\">11</td><td style = \"text-align: left;\">1100_USA-road-d.NY.gr</td><td style = \"text-align: right;\">49351.0</td><td style = \"text-align: right;\">6.309</td><td style = \"text-align: right;\">70089.2</td><td style = \"font-style: italic; text-align: right;\">missing</td><td style = \"font-style: italic; text-align: right;\">missing</td><td style = \"text-align: right;\">53670.0</td><td style = \"text-align: right;\">6</td><td style = \"text-align: right;\">202.957</td></tr><tr><td class = \"rowNumber\" style = \"font-weight: bold; text-align: right;\">12</td><td style = \"text-align: left;\">1200_USA-road-d.BAY.gr</td><td style = \"text-align: right;\">62095.0</td><td style = \"text-align: right;\">8.376</td><td style = \"text-align: right;\">76338.2</td><td style = \"font-style: italic; text-align: right;\">missing</td><td style = \"font-style: italic; text-align: right;\">missing</td><td style = \"text-align: right;\">63415.0</td><td style = \"text-align: right;\">7</td><td style = \"text-align: right;\">219.607</td></tr><tr><td class = \"rowNumber\" style = \"font-weight: bold; text-align: right;\">13</td><td style = \"text-align: left;\">1200_USA-road-d.COL.gr</td><td style = \"text-align: right;\">34075.0</td><td style = \"text-align: right;\">13.165</td><td style = \"text-align: right;\">42766.5</td><td style = \"font-style: italic; text-align: right;\">missing</td><td style = \"font-style: italic; text-align: right;\">missing</td><td style = \"text-align: right;\">34075.0</td><td style = \"text-align: right;\">5</td><td style = \"text-align: right;\">200.321</td></tr><tr><td style = \"text-align: right;\">&vellip;</td><td style = \"text-align: right;\">&vellip;</td><td style = \"text-align: right;\">&vellip;</td><td style = \"text-align: right;\">&vellip;</td><td style = \"text-align: right;\">&vellip;</td><td style = \"text-align: right;\">&vellip;</td><td style = \"text-align: right;\">&vellip;</td><td style = \"text-align: right;\">&vellip;</td><td style = \"text-align: right;\">&vellip;</td><td style = \"text-align: right;\">&vellip;</td></tr><tr><td class = \"rowNumber\" style = \"font-weight: bold; text-align: right;\">125</td><td style = \"text-align: left;\">80_USA-road-d.BAY.gr</td><td style = \"text-align: right;\">8818.0</td><td style = \"text-align: right;\">0.072</td><td style = \"text-align: right;\">10857.1</td><td style = \"font-style: italic; text-align: right;\">missing</td><td style = \"font-style: italic; text-align: right;\">missing</td><td style = \"font-style: italic; text-align: right;\">missing</td><td style = \"font-style: italic; text-align: right;\">missing</td><td style = \"font-style: italic; text-align: right;\">missing</td></tr><tr><td class = \"rowNumber\" style = \"font-weight: bold; text-align: right;\">126</td><td style = \"text-align: left;\">80_USA-road-d.COL.gr</td><td style = \"text-align: right;\">10892.0</td><td style = \"text-align: right;\">0.0510001</td><td style = \"text-align: right;\">14277.5</td><td style = \"font-style: italic; text-align: right;\">missing</td><td style = \"font-style: italic; text-align: right;\">missing</td><td style = \"font-style: italic; text-align: right;\">missing</td><td style = \"font-style: italic; text-align: right;\">missing</td><td style = \"font-style: italic; text-align: right;\">missing</td></tr><tr><td class = \"rowNumber\" style = \"font-weight: bold; text-align: right;\">127</td><td style = \"text-align: left;\">80_USA-road-d.NY.gr</td><td style = \"text-align: right;\">12244.0</td><td style = \"text-align: right;\">0.0599999</td><td style = \"text-align: right;\">31775.8</td><td style = \"font-style: italic; text-align: right;\">missing</td><td style = \"font-style: italic; text-align: right;\">missing</td><td style = \"font-style: italic; text-align: right;\">missing</td><td style = \"font-style: italic; text-align: right;\">missing</td><td style = \"font-style: italic; text-align: right;\">missing</td></tr><tr><td class = \"rowNumber\" style = \"font-weight: bold; text-align: right;\">128</td><td style = \"text-align: left;\">850_USA-road-d.BAY.gr</td><td style = \"text-align: right;\">35151.0</td><td style = \"text-align: right;\">2.309</td><td style = \"text-align: right;\">42201.1</td><td style = \"font-style: italic; text-align: right;\">missing</td><td style = \"font-style: italic; text-align: right;\">missing</td><td style = \"font-style: italic; text-align: right;\">missing</td><td style = \"font-style: italic; text-align: right;\">missing</td><td style = \"font-style: italic; text-align: right;\">missing</td></tr><tr><td class = \"rowNumber\" style = \"font-weight: bold; text-align: right;\">129</td><td style = \"text-align: left;\">850_USA-road-d.COL.gr</td><td style = \"text-align: right;\">24068.0</td><td style = \"text-align: right;\">3.134</td><td style = \"text-align: right;\">29672.8</td><td style = \"font-style: italic; text-align: right;\">missing</td><td style = \"font-style: italic; text-align: right;\">missing</td><td style = \"font-style: italic; text-align: right;\">missing</td><td style = \"font-style: italic; text-align: right;\">missing</td><td style = \"font-style: italic; text-align: right;\">missing</td></tr><tr><td class = \"rowNumber\" style = \"font-weight: bold; text-align: right;\">130</td><td style = \"text-align: left;\">850_USA-road-d.NY.gr</td><td style = \"text-align: right;\">36248.0</td><td style = \"text-align: right;\">1.544</td><td style = \"text-align: right;\">43329.1</td><td style = \"font-style: italic; text-align: right;\">missing</td><td style = \"font-style: italic; text-align: right;\">missing</td><td style = \"font-style: italic; text-align: right;\">missing</td><td style = \"font-style: italic; text-align: right;\">missing</td><td style = \"font-style: italic; text-align: right;\">missing</td></tr><tr><td class = \"rowNumber\" style = \"font-weight: bold; text-align: right;\">131</td><td style = \"text-align: left;\">900_USA-road-d.BAY.gr</td><td style = \"text-align: right;\">45383.0</td><td style = \"text-align: right;\">2.651</td><td style = \"text-align: right;\">54240.2</td><td style = \"font-style: italic; text-align: right;\">missing</td><td style = \"font-style: italic; text-align: right;\">missing</td><td style = \"font-style: italic; text-align: right;\">missing</td><td style = \"font-style: italic; text-align: right;\">missing</td><td style = \"font-style: italic; text-align: right;\">missing</td></tr><tr><td class = \"rowNumber\" style = \"font-weight: bold; text-align: right;\">132</td><td style = \"text-align: left;\">900_USA-road-d.COL.gr</td><td style = \"text-align: right;\">24068.0</td><td style = \"text-align: right;\">3.872</td><td style = \"text-align: right;\">29672.8</td><td style = \"font-style: italic; text-align: right;\">missing</td><td style = \"font-style: italic; text-align: right;\">missing</td><td style = \"font-style: italic; text-align: right;\">missing</td><td style = \"font-style: italic; text-align: right;\">missing</td><td style = \"font-style: italic; text-align: right;\">missing</td></tr><tr><td class = \"rowNumber\" style = \"font-weight: bold; text-align: right;\">133</td><td style = \"text-align: left;\">900_USA-road-d.NY.gr</td><td style = \"text-align: right;\">36248.0</td><td style = \"text-align: right;\">1.826</td><td style = \"text-align: right;\">43329.0</td><td style = \"font-style: italic; text-align: right;\">missing</td><td style = \"font-style: italic; text-align: right;\">missing</td><td style = \"font-style: italic; text-align: right;\">missing</td><td style = \"font-style: italic; text-align: right;\">missing</td><td style = \"font-style: italic; text-align: right;\">missing</td></tr><tr><td class = \"rowNumber\" style = \"font-weight: bold; text-align: right;\">134</td><td style = \"text-align: left;\">950_USA-road-d.BAY.gr</td><td style = \"text-align: right;\">45383.0</td><td style = \"text-align: right;\">2.991</td><td style = \"text-align: right;\">54240.2</td><td style = \"font-style: italic; text-align: right;\">missing</td><td style = \"font-style: italic; text-align: right;\">missing</td><td style = \"font-style: italic; text-align: right;\">missing</td><td style = \"font-style: italic; text-align: right;\">missing</td><td style = \"font-style: italic; text-align: right;\">missing</td></tr><tr><td class = \"rowNumber\" style = \"font-weight: bold; text-align: right;\">135</td><td style = \"text-align: left;\">950_USA-road-d.COL.gr</td><td style = \"text-align: right;\">24068.0</td><td style = \"text-align: right;\">4.611</td><td style = \"text-align: right;\">29672.8</td><td style = \"font-style: italic; text-align: right;\">missing</td><td style = \"font-style: italic; text-align: right;\">missing</td><td style = \"font-style: italic; text-align: right;\">missing</td><td style = \"font-style: italic; text-align: right;\">missing</td><td style = \"font-style: italic; text-align: right;\">missing</td></tr><tr><td class = \"rowNumber\" style = \"font-weight: bold; text-align: right;\">136</td><td style = \"text-align: left;\">950_USA-road-d.NY.gr</td><td style = \"text-align: right;\">36248.0</td><td style = \"text-align: right;\">2.117</td><td style = \"text-align: right;\">43329.1</td><td style = \"font-style: italic; text-align: right;\">missing</td><td style = \"font-style: italic; text-align: right;\">missing</td><td style = \"font-style: italic; text-align: right;\">missing</td><td style = \"font-style: italic; text-align: right;\">missing</td><td style = \"font-style: italic; text-align: right;\">missing</td></tr></tbody></table></div>"
      ],
      "text/latex": [
       "\\begin{tabular}{r|cccccccc}\n",
       "\t& name & stat\\_value & time\\_stat & dual\\_val & pc\\_val & iter & Value & \\\\\n",
       "\t\\hline\n",
       "\t& String31 & Float64 & Float64 & Float64? & Float64? & Int64? & Float64? & \\\\\n",
       "\t\\hline\n",
       "\t1 & 20\\_USA-road-d.BAY.gr & 9365.0 & 0.013 & 15332.6 & 15332.6 & 45 & 15332.6 & $\\dots$ \\\\\n",
       "\t2 & 20\\_USA-road-d.NY.gr & 6848.0 & 0.00899982 & 9454.47 & 9454.47 & 15 & 9454.47 & $\\dots$ \\\\\n",
       "\t3 & 1000\\_USA-road-d.BAY.gr & 40117.0 & 3.762 & 48250.0 & \\emph{missing} & \\emph{missing} & 45025.7 & $\\dots$ \\\\\n",
       "\t4 & 1000\\_USA-road-d.COL.gr & 24068.0 & 5.764 & 29672.8 & \\emph{missing} & \\emph{missing} & 24119.2 & $\\dots$ \\\\\n",
       "\t5 & 1000\\_USA-road-d.NY.gr & 36248.0 & 2.778 & 43329.0 & \\emph{missing} & \\emph{missing} & 37840.7 & $\\dots$ \\\\\n",
       "\t6 & 100\\_USA-road-d.BAY.gr & 8818.0 & 0.085 & 10857.1 & \\emph{missing} & \\emph{missing} & 9884.89 & $\\dots$ \\\\\n",
       "\t7 & 100\\_USA-road-d.COL.gr & 18930.0 & 0.0599999 & 25320.2 & \\emph{missing} & \\emph{missing} & 24397.5 & $\\dots$ \\\\\n",
       "\t8 & 100\\_USA-road-d.NY.gr & 15274.0 & 0.0470002 & 33931.0 & \\emph{missing} & \\emph{missing} & 18951.8 & $\\dots$ \\\\\n",
       "\t9 & 1100\\_USA-road-d.BAY.gr & 54157.0 & 5.131 & 82422.6 & \\emph{missing} & \\emph{missing} & 57818.0 & $\\dots$ \\\\\n",
       "\t10 & 1100\\_USA-road-d.COL.gr & 34075.0 & 9.959 & 42766.5 & \\emph{missing} & \\emph{missing} & 32664.0 & $\\dots$ \\\\\n",
       "\t11 & 1100\\_USA-road-d.NY.gr & 49351.0 & 6.309 & 70089.2 & \\emph{missing} & \\emph{missing} & 53670.0 & $\\dots$ \\\\\n",
       "\t12 & 1200\\_USA-road-d.BAY.gr & 62095.0 & 8.376 & 76338.2 & \\emph{missing} & \\emph{missing} & 63415.0 & $\\dots$ \\\\\n",
       "\t13 & 1200\\_USA-road-d.COL.gr & 34075.0 & 13.165 & 42766.5 & \\emph{missing} & \\emph{missing} & 34075.0 & $\\dots$ \\\\\n",
       "\t14 & 1200\\_USA-road-d.NY.gr & 59590.0 & 8.29 & 72566.0 & \\emph{missing} & \\emph{missing} & 67804.9 & $\\dots$ \\\\\n",
       "\t15 & 120\\_USA-road-d.BAY.gr & 10034.0 & 0.096 & 12219.0 & \\emph{missing} & \\emph{missing} & 11100.9 & $\\dots$ \\\\\n",
       "\t16 & 120\\_USA-road-d.COL.gr & 18930.0 & 0.072 & 25582.6 & \\emph{missing} & \\emph{missing} & 24029.8 & $\\dots$ \\\\\n",
       "\t17 & 120\\_USA-road-d.NY.gr & 18916.0 & 0.0839999 & 30613.1 & \\emph{missing} & \\emph{missing} & 23353.0 & $\\dots$ \\\\\n",
       "\t18 & 1300\\_USA-road-d.BAY.gr & 60392.0 & 10.467 & 77072.9 & \\emph{missing} & \\emph{missing} & 62095.0 & $\\dots$ \\\\\n",
       "\t19 & 1300\\_USA-road-d.COL.gr & 32664.0 & 14.745 & 1.05858e8 & \\emph{missing} & \\emph{missing} & 32664.0 & $\\dots$ \\\\\n",
       "\t20 & 1300\\_USA-road-d.NY.gr & 55547.0 & 9.314 & 67883.9 & \\emph{missing} & \\emph{missing} & 63761.9 & $\\dots$ \\\\\n",
       "\t21 & 1400\\_USA-road-d.BAY.gr & 67712.0 & 10.294 & 79995.3 & \\emph{missing} & \\emph{missing} & 69874.0 & $\\dots$ \\\\\n",
       "\t22 & 1400\\_USA-road-d.COL.gr & 32664.0 & 18.412 & \\emph{missing} & \\emph{missing} & \\emph{missing} & 32664.0 & $\\dots$ \\\\\n",
       "\t23 & 1400\\_USA-road-d.NY.gr & 55490.0 & 10.811 & 67883.9 & \\emph{missing} & \\emph{missing} & 63761.9 & $\\dots$ \\\\\n",
       "\t24 & 140\\_USA-road-d.BAY.gr & 12169.0 & 0.148 & 15643.7 & \\emph{missing} & \\emph{missing} & 13722.9 & $\\dots$ \\\\\n",
       "\t$\\dots$ & $\\dots$ & $\\dots$ & $\\dots$ & $\\dots$ & $\\dots$ & $\\dots$ & $\\dots$ &  \\\\\n",
       "\\end{tabular}\n"
      ],
      "text/plain": [
       "\u001b[1m136×9 DataFrame\u001b[0m\n",
       "\u001b[1m Row \u001b[0m│\u001b[1m name                   \u001b[0m\u001b[1m stat_value \u001b[0m\u001b[1m time_stat  \u001b[0m\u001b[1m dual_val \u001b[0m\u001b[1m pc_val     \u001b[0m\u001b[1m i\u001b[0m ⋯\n",
       "     │\u001b[90m String31               \u001b[0m\u001b[90m Float64    \u001b[0m\u001b[90m Float64    \u001b[0m\u001b[90m Float64? \u001b[0m\u001b[90m Float64?   \u001b[0m\u001b[90m I\u001b[0m ⋯\n",
       "─────┼──────────────────────────────────────────────────────────────────────────\n",
       "   1 │ 20_USA-road-d.BAY.gr        9365.0  0.013       15332.6     15332.6     ⋯\n",
       "   2 │ 20_USA-road-d.NY.gr         6848.0  0.00899982   9454.47     9454.47\n",
       "   3 │ 1000_USA-road-d.BAY.gr     40117.0  3.762       48250.0  \u001b[90m missing    \u001b[0m\u001b[90m m\u001b[0m\n",
       "   4 │ 1000_USA-road-d.COL.gr     24068.0  5.764       29672.8  \u001b[90m missing    \u001b[0m\u001b[90m m\u001b[0m\n",
       "   5 │ 1000_USA-road-d.NY.gr      36248.0  2.778       43329.0  \u001b[90m missing    \u001b[0m\u001b[90m m\u001b[0m ⋯\n",
       "   6 │ 100_USA-road-d.BAY.gr       8818.0  0.085       10857.1  \u001b[90m missing    \u001b[0m\u001b[90m m\u001b[0m\n",
       "   7 │ 100_USA-road-d.COL.gr      18930.0  0.0599999   25320.2  \u001b[90m missing    \u001b[0m\u001b[90m m\u001b[0m\n",
       "   8 │ 100_USA-road-d.NY.gr       15274.0  0.0470002   33931.0  \u001b[90m missing    \u001b[0m\u001b[90m m\u001b[0m\n",
       "  ⋮  │           ⋮                 ⋮           ⋮          ⋮          ⋮         ⋱\n",
       " 130 │ 850_USA-road-d.NY.gr       36248.0  1.544       43329.1  \u001b[90m missing    \u001b[0m\u001b[90m m\u001b[0m ⋯\n",
       " 131 │ 900_USA-road-d.BAY.gr      45383.0  2.651       54240.2  \u001b[90m missing    \u001b[0m\u001b[90m m\u001b[0m\n",
       " 132 │ 900_USA-road-d.COL.gr      24068.0  3.872       29672.8  \u001b[90m missing    \u001b[0m\u001b[90m m\u001b[0m\n",
       " 133 │ 900_USA-road-d.NY.gr       36248.0  1.826       43329.0  \u001b[90m missing    \u001b[0m\u001b[90m m\u001b[0m\n",
       " 134 │ 950_USA-road-d.BAY.gr      45383.0  2.991       54240.2  \u001b[90m missing    \u001b[0m\u001b[90m m\u001b[0m ⋯\n",
       " 135 │ 950_USA-road-d.COL.gr      24068.0  4.611       29672.8  \u001b[90m missing    \u001b[0m\u001b[90m m\u001b[0m\n",
       " 136 │ 950_USA-road-d.NY.gr       36248.0  2.117       43329.1  \u001b[90m missing    \u001b[0m\u001b[90m m\u001b[0m\n",
       "\u001b[36m                                                  4 columns and 121 rows omitted\u001b[0m"
      ]
     },
     "metadata": {},
     "output_type": "display_data"
    }
   ],
   "source": [
    "select!(st_dual_pc, Not(:time_pc))"
   ]
  },
  {
   "cell_type": "code",
   "execution_count": 60,
   "metadata": {},
   "outputs": [
    {
     "data": {
      "text/plain": [
       "136-element Vector{Int64}:\n",
       "   20\n",
       "   20\n",
       " 1000\n",
       " 1000\n",
       " 1000\n",
       "  100\n",
       "  100\n",
       "  100\n",
       " 1100\n",
       " 1100\n",
       "    ⋮\n",
       "  850\n",
       "  850\n",
       "  850\n",
       "  900\n",
       "  900\n",
       "  900\n",
       "  950\n",
       "  950\n",
       "  950"
      ]
     },
     "metadata": {},
     "output_type": "display_data"
    }
   ],
   "source": [
    "st_dual_pc.nb_sommet=[parse(Int,split(x,\"_\")[1]) for x in st_dual_pc.name]\n"
   ]
  },
  {
   "cell_type": "code",
   "execution_count": 61,
   "metadata": {},
   "outputs": [
    {
     "data": {
      "text/html": [
       "<div><div style = \"float: left;\"><span>5×10 DataFrame</span></div><div style = \"clear: both;\"></div></div><div class = \"data-frame\" style = \"overflow-x: scroll;\"><table class = \"data-frame\" style = \"margin-bottom: 6px;\"><thead><tr class = \"header\"><th class = \"rowNumber\" style = \"font-weight: bold; text-align: right;\">Row</th><th style = \"text-align: left;\">name</th><th style = \"text-align: left;\">stat_value</th><th style = \"text-align: left;\">time_stat</th><th style = \"text-align: left;\">dual_val</th><th style = \"text-align: left;\">pc_val</th><th style = \"text-align: left;\">iter</th><th style = \"text-align: left;\">Value</th><th style = \"text-align: left;\">Nb_it</th><th style = \"text-align: left;\">time</th><th style = \"text-align: left;\">nb_sommet</th></tr><tr class = \"subheader headerLastRow\"><th class = \"rowNumber\" style = \"font-weight: bold; text-align: right;\"></th><th title = \"String31\" style = \"text-align: left;\">String31</th><th title = \"Float64\" style = \"text-align: left;\">Float64</th><th title = \"Float64\" style = \"text-align: left;\">Float64</th><th title = \"Union{Missing, Float64}\" style = \"text-align: left;\">Float64?</th><th title = \"Union{Missing, Float64}\" style = \"text-align: left;\">Float64?</th><th title = \"Union{Missing, Int64}\" style = \"text-align: left;\">Int64?</th><th title = \"Union{Missing, Float64}\" style = \"text-align: left;\">Float64?</th><th title = \"Union{Missing, Int64}\" style = \"text-align: left;\">Int64?</th><th title = \"Union{Missing, Float64}\" style = \"text-align: left;\">Float64?</th><th title = \"Int64\" style = \"text-align: left;\">Int64</th></tr></thead><tbody><tr><td class = \"rowNumber\" style = \"font-weight: bold; text-align: right;\">1</td><td style = \"text-align: left;\">20_USA-road-d.BAY.gr</td><td style = \"text-align: right;\">9365.0</td><td style = \"text-align: right;\">0.013</td><td style = \"text-align: right;\">15332.6</td><td style = \"text-align: right;\">15332.6</td><td style = \"text-align: right;\">45</td><td style = \"text-align: right;\">15332.6</td><td style = \"text-align: right;\">45</td><td style = \"text-align: right;\">1.639</td><td style = \"text-align: right;\">20</td></tr><tr><td class = \"rowNumber\" style = \"font-weight: bold; text-align: right;\">2</td><td style = \"text-align: left;\">20_USA-road-d.NY.gr</td><td style = \"text-align: right;\">6848.0</td><td style = \"text-align: right;\">0.00899982</td><td style = \"text-align: right;\">9454.47</td><td style = \"text-align: right;\">9454.47</td><td style = \"text-align: right;\">15</td><td style = \"text-align: right;\">9454.47</td><td style = \"text-align: right;\">15</td><td style = \"text-align: right;\">0.484</td><td style = \"text-align: right;\">20</td></tr><tr><td class = \"rowNumber\" style = \"font-weight: bold; text-align: right;\">3</td><td style = \"text-align: left;\">1000_USA-road-d.BAY.gr</td><td style = \"text-align: right;\">40117.0</td><td style = \"text-align: right;\">3.762</td><td style = \"text-align: right;\">48250.0</td><td style = \"font-style: italic; text-align: right;\">missing</td><td style = \"font-style: italic; text-align: right;\">missing</td><td style = \"text-align: right;\">45025.7</td><td style = \"text-align: right;\">18</td><td style = \"text-align: right;\">191.344</td><td style = \"text-align: right;\">1000</td></tr><tr><td class = \"rowNumber\" style = \"font-weight: bold; text-align: right;\">4</td><td style = \"text-align: left;\">1000_USA-road-d.COL.gr</td><td style = \"text-align: right;\">24068.0</td><td style = \"text-align: right;\">5.764</td><td style = \"text-align: right;\">29672.8</td><td style = \"font-style: italic; text-align: right;\">missing</td><td style = \"font-style: italic; text-align: right;\">missing</td><td style = \"text-align: right;\">24119.2</td><td style = \"text-align: right;\">14</td><td style = \"text-align: right;\">192.392</td><td style = \"text-align: right;\">1000</td></tr><tr><td class = \"rowNumber\" style = \"font-weight: bold; text-align: right;\">5</td><td style = \"text-align: left;\">1000_USA-road-d.NY.gr</td><td style = \"text-align: right;\">36248.0</td><td style = \"text-align: right;\">2.778</td><td style = \"text-align: right;\">43329.0</td><td style = \"font-style: italic; text-align: right;\">missing</td><td style = \"font-style: italic; text-align: right;\">missing</td><td style = \"text-align: right;\">37840.7</td><td style = \"text-align: right;\">13</td><td style = \"text-align: right;\">189.916</td><td style = \"text-align: right;\">1000</td></tr></tbody></table></div>"
      ],
      "text/latex": [
       "\\begin{tabular}{r|cccccccc}\n",
       "\t& name & stat\\_value & time\\_stat & dual\\_val & pc\\_val & iter & Value & \\\\\n",
       "\t\\hline\n",
       "\t& String31 & Float64 & Float64 & Float64? & Float64? & Int64? & Float64? & \\\\\n",
       "\t\\hline\n",
       "\t1 & 20\\_USA-road-d.BAY.gr & 9365.0 & 0.013 & 15332.6 & 15332.6 & 45 & 15332.6 & $\\dots$ \\\\\n",
       "\t2 & 20\\_USA-road-d.NY.gr & 6848.0 & 0.00899982 & 9454.47 & 9454.47 & 15 & 9454.47 & $\\dots$ \\\\\n",
       "\t3 & 1000\\_USA-road-d.BAY.gr & 40117.0 & 3.762 & 48250.0 & \\emph{missing} & \\emph{missing} & 45025.7 & $\\dots$ \\\\\n",
       "\t4 & 1000\\_USA-road-d.COL.gr & 24068.0 & 5.764 & 29672.8 & \\emph{missing} & \\emph{missing} & 24119.2 & $\\dots$ \\\\\n",
       "\t5 & 1000\\_USA-road-d.NY.gr & 36248.0 & 2.778 & 43329.0 & \\emph{missing} & \\emph{missing} & 37840.7 & $\\dots$ \\\\\n",
       "\\end{tabular}\n"
      ],
      "text/plain": [
       "\u001b[1m5×10 DataFrame\u001b[0m\n",
       "\u001b[1m Row \u001b[0m│\u001b[1m name                   \u001b[0m\u001b[1m stat_value \u001b[0m\u001b[1m time_stat  \u001b[0m\u001b[1m dual_val \u001b[0m\u001b[1m pc_val     \u001b[0m\u001b[1m i\u001b[0m ⋯\n",
       "     │\u001b[90m String31               \u001b[0m\u001b[90m Float64    \u001b[0m\u001b[90m Float64    \u001b[0m\u001b[90m Float64? \u001b[0m\u001b[90m Float64?   \u001b[0m\u001b[90m I\u001b[0m ⋯\n",
       "─────┼──────────────────────────────────────────────────────────────────────────\n",
       "   1 │ 20_USA-road-d.BAY.gr        9365.0  0.013       15332.6     15332.6     ⋯\n",
       "   2 │ 20_USA-road-d.NY.gr         6848.0  0.00899982   9454.47     9454.47\n",
       "   3 │ 1000_USA-road-d.BAY.gr     40117.0  3.762       48250.0  \u001b[90m missing    \u001b[0m\u001b[90m m\u001b[0m\n",
       "   4 │ 1000_USA-road-d.COL.gr     24068.0  5.764       29672.8  \u001b[90m missing    \u001b[0m\u001b[90m m\u001b[0m\n",
       "   5 │ 1000_USA-road-d.NY.gr      36248.0  2.778       43329.0  \u001b[90m missing    \u001b[0m\u001b[90m m\u001b[0m ⋯\n",
       "\u001b[36m                                                               5 columns omitted\u001b[0m"
      ]
     },
     "metadata": {},
     "output_type": "display_data"
    }
   ],
   "source": [
    "st_dual_pc[1:5,:]"
   ]
  },
  {
   "cell_type": "code",
   "execution_count": 62,
   "metadata": {},
   "outputs": [
    {
     "data": {
      "text/html": [
       "<div><div style = \"float: left;\"><span>136×10 DataFrame</span></div><div style = \"float: right;\"><span style = \"font-style: italic;\">111 rows omitted</span></div><div style = \"clear: both;\"></div></div><div class = \"data-frame\" style = \"overflow-x: scroll;\"><table class = \"data-frame\" style = \"margin-bottom: 6px;\"><thead><tr class = \"header\"><th class = \"rowNumber\" style = \"font-weight: bold; text-align: right;\">Row</th><th style = \"text-align: left;\">name</th><th style = \"text-align: left;\">stat_value</th><th style = \"text-align: left;\">time_stat</th><th style = \"text-align: left;\">dual_val</th><th style = \"text-align: left;\">pc_val</th><th style = \"text-align: left;\">iter</th><th style = \"text-align: left;\">Value</th><th style = \"text-align: left;\">Nb_it</th><th style = \"text-align: left;\">time</th><th style = \"text-align: left;\">nb_sommet</th></tr><tr class = \"subheader headerLastRow\"><th class = \"rowNumber\" style = \"font-weight: bold; text-align: right;\"></th><th title = \"String31\" style = \"text-align: left;\">String31</th><th title = \"Float64\" style = \"text-align: left;\">Float64</th><th title = \"Float64\" style = \"text-align: left;\">Float64</th><th title = \"Union{Missing, Float64}\" style = \"text-align: left;\">Float64?</th><th title = \"Union{Missing, Float64}\" style = \"text-align: left;\">Float64?</th><th title = \"Union{Missing, Int64}\" style = \"text-align: left;\">Int64?</th><th title = \"Union{Missing, Float64}\" style = \"text-align: left;\">Float64?</th><th title = \"Union{Missing, Int64}\" style = \"text-align: left;\">Int64?</th><th title = \"Union{Missing, Float64}\" style = \"text-align: left;\">Float64?</th><th title = \"Int64\" style = \"text-align: left;\">Int64</th></tr></thead><tbody><tr><td class = \"rowNumber\" style = \"font-weight: bold; text-align: right;\">1</td><td style = \"text-align: left;\">20_USA-road-d.BAY.gr</td><td style = \"text-align: right;\">9365.0</td><td style = \"text-align: right;\">0.013</td><td style = \"text-align: right;\">15332.6</td><td style = \"text-align: right;\">15332.6</td><td style = \"text-align: right;\">45</td><td style = \"text-align: right;\">15332.6</td><td style = \"text-align: right;\">45</td><td style = \"text-align: right;\">1.639</td><td style = \"text-align: right;\">20</td></tr><tr><td class = \"rowNumber\" style = \"font-weight: bold; text-align: right;\">2</td><td style = \"text-align: left;\">20_USA-road-d.NY.gr</td><td style = \"text-align: right;\">6848.0</td><td style = \"text-align: right;\">0.00899982</td><td style = \"text-align: right;\">9454.47</td><td style = \"text-align: right;\">9454.47</td><td style = \"text-align: right;\">15</td><td style = \"text-align: right;\">9454.47</td><td style = \"text-align: right;\">15</td><td style = \"text-align: right;\">0.484</td><td style = \"text-align: right;\">20</td></tr><tr><td class = \"rowNumber\" style = \"font-weight: bold; text-align: right;\">3</td><td style = \"text-align: left;\">20_USA-road-d.COL.gr</td><td style = \"text-align: right;\">5357.0</td><td style = \"text-align: right;\">0.00999999</td><td style = \"text-align: right;\">7076.52</td><td style = \"font-style: italic; text-align: right;\">missing</td><td style = \"font-style: italic; text-align: right;\">missing</td><td style = \"text-align: right;\">7076.52</td><td style = \"text-align: right;\">18</td><td style = \"text-align: right;\">0.577</td><td style = \"text-align: right;\">20</td></tr><tr><td class = \"rowNumber\" style = \"font-weight: bold; text-align: right;\">4</td><td style = \"text-align: left;\">40_USA-road-d.BAY.gr</td><td style = \"text-align: right;\">7856.0</td><td style = \"text-align: right;\">4.401</td><td style = \"text-align: right;\">12664.3</td><td style = \"text-align: right;\">12664.3</td><td style = \"text-align: right;\">57</td><td style = \"font-style: italic; text-align: right;\">missing</td><td style = \"font-style: italic; text-align: right;\">missing</td><td style = \"font-style: italic; text-align: right;\">missing</td><td style = \"text-align: right;\">40</td></tr><tr><td class = \"rowNumber\" style = \"font-weight: bold; text-align: right;\">5</td><td style = \"text-align: left;\">40_USA-road-d.COL.gr</td><td style = \"text-align: right;\">10084.0</td><td style = \"text-align: right;\">0.0190001</td><td style = \"text-align: right;\">15059.0</td><td style = \"text-align: right;\">15059.0</td><td style = \"text-align: right;\">336</td><td style = \"font-style: italic; text-align: right;\">missing</td><td style = \"font-style: italic; text-align: right;\">missing</td><td style = \"font-style: italic; text-align: right;\">missing</td><td style = \"text-align: right;\">40</td></tr><tr><td class = \"rowNumber\" style = \"font-weight: bold; text-align: right;\">6</td><td style = \"text-align: left;\">40_USA-road-d.NY.gr</td><td style = \"text-align: right;\">12410.0</td><td style = \"text-align: right;\">0.0250001</td><td style = \"text-align: right;\">17330.1</td><td style = \"text-align: right;\">17330.1</td><td style = \"text-align: right;\">126</td><td style = \"font-style: italic; text-align: right;\">missing</td><td style = \"font-style: italic; text-align: right;\">missing</td><td style = \"font-style: italic; text-align: right;\">missing</td><td style = \"text-align: right;\">40</td></tr><tr><td class = \"rowNumber\" style = \"font-weight: bold; text-align: right;\">7</td><td style = \"text-align: left;\">60_USA-road-d.BAY.gr</td><td style = \"text-align: right;\">6965.0</td><td style = \"text-align: right;\">0.053</td><td style = \"text-align: right;\">10633.3</td><td style = \"text-align: right;\">8571.81</td><td style = \"text-align: right;\">120</td><td style = \"font-style: italic; text-align: right;\">missing</td><td style = \"font-style: italic; text-align: right;\">missing</td><td style = \"font-style: italic; text-align: right;\">missing</td><td style = \"text-align: right;\">60</td></tr><tr><td class = \"rowNumber\" style = \"font-weight: bold; text-align: right;\">8</td><td style = \"text-align: left;\">60_USA-road-d.COL.gr</td><td style = \"text-align: right;\">16904.0</td><td style = \"text-align: right;\">0.023</td><td style = \"text-align: right;\">23914.2</td><td style = \"text-align: right;\">23914.2</td><td style = \"text-align: right;\">75</td><td style = \"font-style: italic; text-align: right;\">missing</td><td style = \"font-style: italic; text-align: right;\">missing</td><td style = \"font-style: italic; text-align: right;\">missing</td><td style = \"text-align: right;\">60</td></tr><tr><td class = \"rowNumber\" style = \"font-weight: bold; text-align: right;\">9</td><td style = \"text-align: left;\">60_USA-road-d.NY.gr</td><td style = \"text-align: right;\">12244.0</td><td style = \"text-align: right;\">0.0280001</td><td style = \"text-align: right;\">31775.8</td><td style = \"text-align: right;\">15809.6</td><td style = \"text-align: right;\">222</td><td style = \"font-style: italic; text-align: right;\">missing</td><td style = \"font-style: italic; text-align: right;\">missing</td><td style = \"font-style: italic; text-align: right;\">missing</td><td style = \"text-align: right;\">60</td></tr><tr><td class = \"rowNumber\" style = \"font-weight: bold; text-align: right;\">10</td><td style = \"text-align: left;\">80_USA-road-d.BAY.gr</td><td style = \"text-align: right;\">8818.0</td><td style = \"text-align: right;\">0.072</td><td style = \"text-align: right;\">10857.1</td><td style = \"font-style: italic; text-align: right;\">missing</td><td style = \"font-style: italic; text-align: right;\">missing</td><td style = \"font-style: italic; text-align: right;\">missing</td><td style = \"font-style: italic; text-align: right;\">missing</td><td style = \"font-style: italic; text-align: right;\">missing</td><td style = \"text-align: right;\">80</td></tr><tr><td class = \"rowNumber\" style = \"font-weight: bold; text-align: right;\">11</td><td style = \"text-align: left;\">80_USA-road-d.COL.gr</td><td style = \"text-align: right;\">10892.0</td><td style = \"text-align: right;\">0.0510001</td><td style = \"text-align: right;\">14277.5</td><td style = \"font-style: italic; text-align: right;\">missing</td><td style = \"font-style: italic; text-align: right;\">missing</td><td style = \"font-style: italic; text-align: right;\">missing</td><td style = \"font-style: italic; text-align: right;\">missing</td><td style = \"font-style: italic; text-align: right;\">missing</td><td style = \"text-align: right;\">80</td></tr><tr><td class = \"rowNumber\" style = \"font-weight: bold; text-align: right;\">12</td><td style = \"text-align: left;\">80_USA-road-d.NY.gr</td><td style = \"text-align: right;\">12244.0</td><td style = \"text-align: right;\">0.0599999</td><td style = \"text-align: right;\">31775.8</td><td style = \"font-style: italic; text-align: right;\">missing</td><td style = \"font-style: italic; text-align: right;\">missing</td><td style = \"font-style: italic; text-align: right;\">missing</td><td style = \"font-style: italic; text-align: right;\">missing</td><td style = \"font-style: italic; text-align: right;\">missing</td><td style = \"text-align: right;\">80</td></tr><tr><td class = \"rowNumber\" style = \"font-weight: bold; text-align: right;\">13</td><td style = \"text-align: left;\">100_USA-road-d.BAY.gr</td><td style = \"text-align: right;\">8818.0</td><td style = \"text-align: right;\">0.085</td><td style = \"text-align: right;\">10857.1</td><td style = \"font-style: italic; text-align: right;\">missing</td><td style = \"font-style: italic; text-align: right;\">missing</td><td style = \"text-align: right;\">9884.89</td><td style = \"text-align: right;\">83</td><td style = \"text-align: right;\">194.116</td><td style = \"text-align: right;\">100</td></tr><tr><td style = \"text-align: right;\">&vellip;</td><td style = \"text-align: right;\">&vellip;</td><td style = \"text-align: right;\">&vellip;</td><td style = \"text-align: right;\">&vellip;</td><td style = \"text-align: right;\">&vellip;</td><td style = \"text-align: right;\">&vellip;</td><td style = \"text-align: right;\">&vellip;</td><td style = \"text-align: right;\">&vellip;</td><td style = \"text-align: right;\">&vellip;</td><td style = \"text-align: right;\">&vellip;</td><td style = \"text-align: right;\">&vellip;</td></tr><tr><td class = \"rowNumber\" style = \"font-weight: bold; text-align: right;\">125</td><td style = \"text-align: left;\">2400_USA-road-d.BAY.gr</td><td style = \"text-align: right;\">65317.0</td><td style = \"text-align: right;\">30.15</td><td style = \"font-style: italic; text-align: right;\">missing</td><td style = \"font-style: italic; text-align: right;\">missing</td><td style = \"font-style: italic; text-align: right;\">missing</td><td style = \"text-align: right;\">66311.8</td><td style = \"text-align: right;\">9</td><td style = \"text-align: right;\">650.398</td><td style = \"text-align: right;\">2400</td></tr><tr><td class = \"rowNumber\" style = \"font-weight: bold; text-align: right;\">126</td><td style = \"text-align: left;\">2400_USA-road-d.BAY.gr</td><td style = \"text-align: right;\">65317.0</td><td style = \"text-align: right;\">30.15</td><td style = \"font-style: italic; text-align: right;\">missing</td><td style = \"font-style: italic; text-align: right;\">missing</td><td style = \"font-style: italic; text-align: right;\">missing</td><td style = \"text-align: right;\">66311.8</td><td style = \"text-align: right;\">9</td><td style = \"text-align: right;\">650.399</td><td style = \"text-align: right;\">2400</td></tr><tr><td class = \"rowNumber\" style = \"font-weight: bold; text-align: right;\">127</td><td style = \"text-align: left;\">2400_USA-road-d.COL.gr</td><td style = \"text-align: right;\">39443.0</td><td style = \"text-align: right;\">100.29</td><td style = \"font-style: italic; text-align: right;\">missing</td><td style = \"font-style: italic; text-align: right;\">missing</td><td style = \"font-style: italic; text-align: right;\">missing</td><td style = \"text-align: right;\">40803.0</td><td style = \"text-align: right;\">4</td><td style = \"text-align: right;\">697.961</td><td style = \"text-align: right;\">2400</td></tr><tr><td class = \"rowNumber\" style = \"font-weight: bold; text-align: right;\">128</td><td style = \"text-align: left;\">2400_USA-road-d.COL.gr</td><td style = \"text-align: right;\">39443.0</td><td style = \"text-align: right;\">100.29</td><td style = \"font-style: italic; text-align: right;\">missing</td><td style = \"font-style: italic; text-align: right;\">missing</td><td style = \"font-style: italic; text-align: right;\">missing</td><td style = \"text-align: right;\">40803.0</td><td style = \"text-align: right;\">4</td><td style = \"text-align: right;\">697.963</td><td style = \"text-align: right;\">2400</td></tr><tr><td class = \"rowNumber\" style = \"font-weight: bold; text-align: right;\">129</td><td style = \"text-align: left;\">2400_USA-road-d.NY.gr</td><td style = \"text-align: right;\">60819.0</td><td style = \"text-align: right;\">151.315</td><td style = \"font-style: italic; text-align: right;\">missing</td><td style = \"font-style: italic; text-align: right;\">missing</td><td style = \"font-style: italic; text-align: right;\">missing</td><td style = \"text-align: right;\">67217.3</td><td style = \"text-align: right;\">5</td><td style = \"text-align: right;\">619.246</td><td style = \"text-align: right;\">2400</td></tr><tr><td class = \"rowNumber\" style = \"font-weight: bold; text-align: right;\">130</td><td style = \"text-align: left;\">2400_USA-road-d.NY.gr</td><td style = \"text-align: right;\">60819.0</td><td style = \"text-align: right;\">151.315</td><td style = \"font-style: italic; text-align: right;\">missing</td><td style = \"font-style: italic; text-align: right;\">missing</td><td style = \"font-style: italic; text-align: right;\">missing</td><td style = \"text-align: right;\">67217.3</td><td style = \"text-align: right;\">5</td><td style = \"text-align: right;\">619.247</td><td style = \"text-align: right;\">2400</td></tr><tr><td class = \"rowNumber\" style = \"font-weight: bold; text-align: right;\">131</td><td style = \"text-align: left;\">2500_USA-road-d.BAY.gr</td><td style = \"text-align: right;\">62022.0</td><td style = \"text-align: right;\">35.714</td><td style = \"font-style: italic; text-align: right;\">missing</td><td style = \"font-style: italic; text-align: right;\">missing</td><td style = \"font-style: italic; text-align: right;\">missing</td><td style = \"text-align: right;\">63365.2</td><td style = \"text-align: right;\">8</td><td style = \"text-align: right;\">24301.3</td><td style = \"text-align: right;\">2500</td></tr><tr><td class = \"rowNumber\" style = \"font-weight: bold; text-align: right;\">132</td><td style = \"text-align: left;\">2500_USA-road-d.BAY.gr</td><td style = \"text-align: right;\">62022.0</td><td style = \"text-align: right;\">35.714</td><td style = \"font-style: italic; text-align: right;\">missing</td><td style = \"font-style: italic; text-align: right;\">missing</td><td style = \"font-style: italic; text-align: right;\">missing</td><td style = \"text-align: right;\">63365.2</td><td style = \"text-align: right;\">8</td><td style = \"text-align: right;\">24301.3</td><td style = \"text-align: right;\">2500</td></tr><tr><td class = \"rowNumber\" style = \"font-weight: bold; text-align: right;\">133</td><td style = \"text-align: left;\">2500_USA-road-d.COL.gr</td><td style = \"text-align: right;\">39696.0</td><td style = \"text-align: right;\">74.772</td><td style = \"font-style: italic; text-align: right;\">missing</td><td style = \"font-style: italic; text-align: right;\">missing</td><td style = \"font-style: italic; text-align: right;\">missing</td><td style = \"text-align: right;\">39696.0</td><td style = \"text-align: right;\">5</td><td style = \"text-align: right;\">613.962</td><td style = \"text-align: right;\">2500</td></tr><tr><td class = \"rowNumber\" style = \"font-weight: bold; text-align: right;\">134</td><td style = \"text-align: left;\">2500_USA-road-d.COL.gr</td><td style = \"text-align: right;\">39696.0</td><td style = \"text-align: right;\">74.772</td><td style = \"font-style: italic; text-align: right;\">missing</td><td style = \"font-style: italic; text-align: right;\">missing</td><td style = \"font-style: italic; text-align: right;\">missing</td><td style = \"text-align: right;\">39696.0</td><td style = \"text-align: right;\">5</td><td style = \"text-align: right;\">613.964</td><td style = \"text-align: right;\">2500</td></tr><tr><td class = \"rowNumber\" style = \"font-weight: bold; text-align: right;\">135</td><td style = \"text-align: left;\">2500_USA-road-d.NY.gr</td><td style = \"text-align: right;\">60819.0</td><td style = \"text-align: right;\">129.936</td><td style = \"font-style: italic; text-align: right;\">missing</td><td style = \"font-style: italic; text-align: right;\">missing</td><td style = \"font-style: italic; text-align: right;\">missing</td><td style = \"text-align: right;\">63550.5</td><td style = \"text-align: right;\">5</td><td style = \"text-align: right;\">630.966</td><td style = \"text-align: right;\">2500</td></tr><tr><td class = \"rowNumber\" style = \"font-weight: bold; text-align: right;\">136</td><td style = \"text-align: left;\">2500_USA-road-d.NY.gr</td><td style = \"text-align: right;\">60819.0</td><td style = \"text-align: right;\">129.936</td><td style = \"font-style: italic; text-align: right;\">missing</td><td style = \"font-style: italic; text-align: right;\">missing</td><td style = \"font-style: italic; text-align: right;\">missing</td><td style = \"text-align: right;\">63550.5</td><td style = \"text-align: right;\">5</td><td style = \"text-align: right;\">630.969</td><td style = \"text-align: right;\">2500</td></tr></tbody></table></div>"
      ],
      "text/latex": [
       "\\begin{tabular}{r|cccccccc}\n",
       "\t& name & stat\\_value & time\\_stat & dual\\_val & pc\\_val & iter & Value & \\\\\n",
       "\t\\hline\n",
       "\t& String31 & Float64 & Float64 & Float64? & Float64? & Int64? & Float64? & \\\\\n",
       "\t\\hline\n",
       "\t1 & 20\\_USA-road-d.BAY.gr & 9365.0 & 0.013 & 15332.6 & 15332.6 & 45 & 15332.6 & $\\dots$ \\\\\n",
       "\t2 & 20\\_USA-road-d.NY.gr & 6848.0 & 0.00899982 & 9454.47 & 9454.47 & 15 & 9454.47 & $\\dots$ \\\\\n",
       "\t3 & 20\\_USA-road-d.COL.gr & 5357.0 & 0.00999999 & 7076.52 & \\emph{missing} & \\emph{missing} & 7076.52 & $\\dots$ \\\\\n",
       "\t4 & 40\\_USA-road-d.BAY.gr & 7856.0 & 4.401 & 12664.3 & 12664.3 & 57 & \\emph{missing} & $\\dots$ \\\\\n",
       "\t5 & 40\\_USA-road-d.COL.gr & 10084.0 & 0.0190001 & 15059.0 & 15059.0 & 336 & \\emph{missing} & $\\dots$ \\\\\n",
       "\t6 & 40\\_USA-road-d.NY.gr & 12410.0 & 0.0250001 & 17330.1 & 17330.1 & 126 & \\emph{missing} & $\\dots$ \\\\\n",
       "\t7 & 60\\_USA-road-d.BAY.gr & 6965.0 & 0.053 & 10633.3 & 8571.81 & 120 & \\emph{missing} & $\\dots$ \\\\\n",
       "\t8 & 60\\_USA-road-d.COL.gr & 16904.0 & 0.023 & 23914.2 & 23914.2 & 75 & \\emph{missing} & $\\dots$ \\\\\n",
       "\t9 & 60\\_USA-road-d.NY.gr & 12244.0 & 0.0280001 & 31775.8 & 15809.6 & 222 & \\emph{missing} & $\\dots$ \\\\\n",
       "\t10 & 80\\_USA-road-d.BAY.gr & 8818.0 & 0.072 & 10857.1 & \\emph{missing} & \\emph{missing} & \\emph{missing} & $\\dots$ \\\\\n",
       "\t11 & 80\\_USA-road-d.COL.gr & 10892.0 & 0.0510001 & 14277.5 & \\emph{missing} & \\emph{missing} & \\emph{missing} & $\\dots$ \\\\\n",
       "\t12 & 80\\_USA-road-d.NY.gr & 12244.0 & 0.0599999 & 31775.8 & \\emph{missing} & \\emph{missing} & \\emph{missing} & $\\dots$ \\\\\n",
       "\t13 & 100\\_USA-road-d.BAY.gr & 8818.0 & 0.085 & 10857.1 & \\emph{missing} & \\emph{missing} & 9884.89 & $\\dots$ \\\\\n",
       "\t14 & 100\\_USA-road-d.COL.gr & 18930.0 & 0.0599999 & 25320.2 & \\emph{missing} & \\emph{missing} & 24397.5 & $\\dots$ \\\\\n",
       "\t15 & 100\\_USA-road-d.NY.gr & 15274.0 & 0.0470002 & 33931.0 & \\emph{missing} & \\emph{missing} & 18951.8 & $\\dots$ \\\\\n",
       "\t16 & 120\\_USA-road-d.BAY.gr & 10034.0 & 0.096 & 12219.0 & \\emph{missing} & \\emph{missing} & 11100.9 & $\\dots$ \\\\\n",
       "\t17 & 120\\_USA-road-d.COL.gr & 18930.0 & 0.072 & 25582.6 & \\emph{missing} & \\emph{missing} & 24029.8 & $\\dots$ \\\\\n",
       "\t18 & 120\\_USA-road-d.NY.gr & 18916.0 & 0.0839999 & 30613.1 & \\emph{missing} & \\emph{missing} & 23353.0 & $\\dots$ \\\\\n",
       "\t19 & 140\\_USA-road-d.BAY.gr & 12169.0 & 0.148 & 15643.7 & \\emph{missing} & \\emph{missing} & 13722.9 & $\\dots$ \\\\\n",
       "\t20 & 140\\_USA-road-d.COL.gr & 18301.0 & 0.0710001 & 24651.0 & \\emph{missing} & \\emph{missing} & 24145.6 & $\\dots$ \\\\\n",
       "\t21 & 140\\_USA-road-d.NY.gr & 25498.0 & 0.108 & 33079.2 & \\emph{missing} & \\emph{missing} & 31533.6 & $\\dots$ \\\\\n",
       "\t22 & 160\\_USA-road-d.BAY.gr & 10983.0 & 0.118 & 13395.7 & \\emph{missing} & \\emph{missing} & 11875.5 & $\\dots$ \\\\\n",
       "\t23 & 160\\_USA-road-d.COL.gr & 18301.0 & 0.0970001 & 24651.0 & \\emph{missing} & \\emph{missing} & 23575.9 & $\\dots$ \\\\\n",
       "\t24 & 160\\_USA-road-d.NY.gr & 19964.0 & 0.148 & 31661.1 & \\emph{missing} & \\emph{missing} & 22342.2 & $\\dots$ \\\\\n",
       "\t$\\dots$ & $\\dots$ & $\\dots$ & $\\dots$ & $\\dots$ & $\\dots$ & $\\dots$ & $\\dots$ &  \\\\\n",
       "\\end{tabular}\n"
      ],
      "text/plain": [
       "\u001b[1m136×10 DataFrame\u001b[0m\n",
       "\u001b[1m Row \u001b[0m│\u001b[1m name                   \u001b[0m\u001b[1m stat_value \u001b[0m\u001b[1m time_stat    \u001b[0m\u001b[1m dual_val   \u001b[0m\u001b[1m pc_val   \u001b[0m ⋯\n",
       "     │\u001b[90m String31               \u001b[0m\u001b[90m Float64    \u001b[0m\u001b[90m Float64      \u001b[0m\u001b[90m Float64?   \u001b[0m\u001b[90m Float64? \u001b[0m ⋯\n",
       "─────┼──────────────────────────────────────────────────────────────────────────\n",
       "   1 │ 20_USA-road-d.BAY.gr        9365.0    0.013         15332.6     15332.6 ⋯\n",
       "   2 │ 20_USA-road-d.NY.gr         6848.0    0.00899982     9454.47     9454.4\n",
       "   3 │ 20_USA-road-d.COL.gr        5357.0    0.00999999     7076.52 \u001b[90m missing  \u001b[0m\n",
       "   4 │ 40_USA-road-d.BAY.gr        7856.0    4.401         12664.3     12664.3\n",
       "   5 │ 40_USA-road-d.COL.gr       10084.0    0.0190001     15059.0     15059.0 ⋯\n",
       "   6 │ 40_USA-road-d.NY.gr        12410.0    0.0250001     17330.1     17330.1\n",
       "   7 │ 60_USA-road-d.BAY.gr        6965.0    0.053         10633.3      8571.8\n",
       "   8 │ 60_USA-road-d.COL.gr       16904.0    0.023         23914.2     23914.2\n",
       "  ⋮  │           ⋮                 ⋮            ⋮            ⋮           ⋮     ⋱\n",
       " 130 │ 2400_USA-road-d.NY.gr      60819.0  151.315      \u001b[90m missing    \u001b[0m\u001b[90m missing  \u001b[0m ⋯\n",
       " 131 │ 2500_USA-road-d.BAY.gr     62022.0   35.714      \u001b[90m missing    \u001b[0m\u001b[90m missing  \u001b[0m\n",
       " 132 │ 2500_USA-road-d.BAY.gr     62022.0   35.714      \u001b[90m missing    \u001b[0m\u001b[90m missing  \u001b[0m\n",
       " 133 │ 2500_USA-road-d.COL.gr     39696.0   74.772      \u001b[90m missing    \u001b[0m\u001b[90m missing  \u001b[0m\n",
       " 134 │ 2500_USA-road-d.COL.gr     39696.0   74.772      \u001b[90m missing    \u001b[0m\u001b[90m missing  \u001b[0m ⋯\n",
       " 135 │ 2500_USA-road-d.NY.gr      60819.0  129.936      \u001b[90m missing    \u001b[0m\u001b[90m missing  \u001b[0m\n",
       " 136 │ 2500_USA-road-d.NY.gr      60819.0  129.936      \u001b[90m missing    \u001b[0m\u001b[90m missing  \u001b[0m\n",
       "\u001b[36m                                                  6 columns and 121 rows omitted\u001b[0m"
      ]
     },
     "metadata": {},
     "output_type": "display_data"
    }
   ],
   "source": [
    "sort!(st_dual_pc, order(:nb_sommet))"
   ]
  },
  {
   "cell_type": "code",
   "execution_count": 18,
   "metadata": {},
   "outputs": [
    {
     "name": "stderr",
     "output_type": "stream",
     "text": [
      "┌ Warning: thread = 1 warning: only found 1 / 4 columns around data row: 8. Filling remaining columns with `missing`\n",
      "└ @ CSV C:\\Users\\Boss\\.julia\\packages\\CSV\\OnldF\\src\\file.jl:577\n",
      "┌ Warning: thread = 1 warning: only found 1 / 4 columns around data row: 12. Filling remaining columns with `missing`\n",
      "└ @ CSV C:\\Users\\Boss\\.julia\\packages\\CSV\\OnldF\\src\\file.jl:577\n",
      "┌ Warning: thread = 1 warning: only found 1 / 4 columns around data row: 17. Filling remaining columns with `missing`\n",
      "└ @ CSV C:\\Users\\Boss\\.julia\\packages\\CSV\\OnldF\\src\\file.jl:577\n",
      "┌ Warning: thread = 1 warning: only found 1 / 4 columns around data row: 18. Filling remaining columns with `missing`\n",
      "└ @ CSV C:\\Users\\Boss\\.julia\\packages\\CSV\\OnldF\\src\\file.jl:577\n",
      "┌ Warning: thread = 1 warning: only found 1 / 4 columns around data row: 20. Filling remaining columns with `missing`\n",
      "└ @ CSV C:\\Users\\Boss\\.julia\\packages\\CSV\\OnldF\\src\\file.jl:577\n",
      "┌ Warning: thread = 1 warning: only found 1 / 4 columns around data row: 26. Filling remaining columns with `missing`\n",
      "└ @ CSV C:\\Users\\Boss\\.julia\\packages\\CSV\\OnldF\\src\\file.jl:577\n",
      "┌ Warning: thread = 1 warning: only found 1 / 4 columns around data row: 27. Filling remaining columns with `missing`\n",
      "└ @ CSV C:\\Users\\Boss\\.julia\\packages\\CSV\\OnldF\\src\\file.jl:577\n",
      "┌ Warning: thread = 1 warning: only found 1 / 4 columns around data row: 28. Filling remaining columns with `missing`\n",
      "└ @ CSV C:\\Users\\Boss\\.julia\\packages\\CSV\\OnldF\\src\\file.jl:577\n",
      "┌ Warning: thread = 1 warning: only found 1 / 4 columns around data row: 30. Filling remaining columns with `missing`\n",
      "└ @ CSV C:\\Users\\Boss\\.julia\\packages\\CSV\\OnldF\\src\\file.jl:577\n",
      "┌ Warning: thread = 1 warning: only found 1 / 4 columns around data row: 31. Filling remaining columns with `missing`\n",
      "└ @ CSV C:\\Users\\Boss\\.julia\\packages\\CSV\\OnldF\\src\\file.jl:577\n",
      "┌ Warning: thread = 1 warning: only found 1 / 4 columns around data row: 35. Filling remaining columns with `missing`\n",
      "└ @ CSV C:\\Users\\Boss\\.julia\\packages\\CSV\\OnldF\\src\\file.jl:577\n",
      "┌ Warning: thread = 1 warning: only found 1 / 4 columns around data row: 36. Filling remaining columns with `missing`\n",
      "└ @ CSV C:\\Users\\Boss\\.julia\\packages\\CSV\\OnldF\\src\\file.jl:577\n",
      "┌ Warning: thread = 1 warning: only found 1 / 4 columns around data row: 38. Filling remaining columns with `missing`\n",
      "└ @ CSV C:\\Users\\Boss\\.julia\\packages\\CSV\\OnldF\\src\\file.jl:577\n"
     ]
    },
    {
     "name": "stderr",
     "output_type": "stream",
     "text": [
      "┌ Warning: thread = 1 warning: only found 1 / 4 columns around data row: 39. Filling remaining columns with `missing`\n",
      "└ @ CSV C:\\Users\\Boss\\.julia\\packages\\CSV\\OnldF\\src\\file.jl:577\n"
     ]
    },
    {
     "data": {
      "text/html": [
       "<div><div style = \"float: left;\"><span>3×4 DataFrame</span></div><div style = \"clear: both;\"></div></div><div class = \"data-frame\" style = \"overflow-x: scroll;\"><table class = \"data-frame\" style = \"margin-bottom: 6px;\"><thead><tr class = \"header\"><th class = \"rowNumber\" style = \"font-weight: bold; text-align: right;\">Row</th><th style = \"text-align: left;\">name</th><th style = \"text-align: left;\">val_bc</th><th style = \"text-align: left;\">status_bc</th><th style = \"text-align: left;\">time</th></tr><tr class = \"subheader headerLastRow\"><th class = \"rowNumber\" style = \"font-weight: bold; text-align: right;\"></th><th title = \"String31\" style = \"text-align: left;\">String31</th><th title = \"Union{Missing, Float64}\" style = \"text-align: left;\">Float64?</th><th title = \"Union{Missing, String15}\" style = \"text-align: left;\">String15?</th><th title = \"Union{Missing, Float64}\" style = \"text-align: left;\">Float64?</th></tr></thead><tbody><tr><td class = \"rowNumber\" style = \"font-weight: bold; text-align: right;\">1</td><td style = \"text-align: left;\">20_USA-road-d.BAY.gr</td><td style = \"text-align: right;\">9365.0</td><td style = \"text-align: left;\">optimal</td><td style = \"text-align: right;\">0.0370002</td></tr><tr><td class = \"rowNumber\" style = \"font-weight: bold; text-align: right;\">2</td><td style = \"text-align: left;\">1000_USA-road-d.BAY.gr</td><td style = \"text-align: right;\">40117.0</td><td style = \"text-align: left;\">optimal</td><td style = \"text-align: right;\">19.661</td></tr><tr><td class = \"rowNumber\" style = \"font-weight: bold; text-align: right;\">3</td><td style = \"text-align: left;\">1000_USA-road-d.COL.gr</td><td style = \"text-align: right;\">24068.0</td><td style = \"text-align: left;\">optimal</td><td style = \"text-align: right;\">17.625</td></tr></tbody></table></div>"
      ],
      "text/latex": [
       "\\begin{tabular}{r|cccc}\n",
       "\t& name & val\\_bc & status\\_bc & time\\\\\n",
       "\t\\hline\n",
       "\t& String31 & Float64? & String15? & Float64?\\\\\n",
       "\t\\hline\n",
       "\t1 & 20\\_USA-road-d.BAY.gr & 9365.0 & optimal & 0.0370002 \\\\\n",
       "\t2 & 1000\\_USA-road-d.BAY.gr & 40117.0 & optimal & 19.661 \\\\\n",
       "\t3 & 1000\\_USA-road-d.COL.gr & 24068.0 & optimal & 17.625 \\\\\n",
       "\\end{tabular}\n"
      ],
      "text/plain": [
       "\u001b[1m3×4 DataFrame\u001b[0m\n",
       "\u001b[1m Row \u001b[0m│\u001b[1m name                   \u001b[0m\u001b[1m val_bc   \u001b[0m\u001b[1m status_bc \u001b[0m\u001b[1m time       \u001b[0m\n",
       "     │\u001b[90m String31               \u001b[0m\u001b[90m Float64? \u001b[0m\u001b[90m String15? \u001b[0m\u001b[90m Float64?   \u001b[0m\n",
       "─────┼─────────────────────────────────────────────────────────\n",
       "   1 │ 20_USA-road-d.BAY.gr      9365.0  optimal     0.0370002\n",
       "   2 │ 1000_USA-road-d.BAY.gr   40117.0  optimal    19.661\n",
       "   3 │ 1000_USA-road-d.COL.gr   24068.0  optimal    17.625"
      ]
     },
     "metadata": {},
     "output_type": "display_data"
    }
   ],
   "source": [
    "r_bc=DataFrame(CSV.File(\"result_BC.csv\",header=false),[\"name\",\"val_bc\",\"status_bc\",\"time\"])\n",
    "\n",
    "r_bc[1:3,:]"
   ]
  },
  {
   "cell_type": "code",
   "execution_count": 19,
   "metadata": {},
   "outputs": [
    {
     "data": {
      "text/html": [
       "<div><div style = \"float: left;\"><span>129×10 DataFrame</span></div><div style = \"float: right;\"><span style = \"font-style: italic;\">104 rows omitted</span></div><div style = \"clear: both;\"></div></div><div class = \"data-frame\" style = \"overflow-x: scroll;\"><table class = \"data-frame\" style = \"margin-bottom: 6px;\"><thead><tr class = \"header\"><th class = \"rowNumber\" style = \"font-weight: bold; text-align: right;\">Row</th><th style = \"text-align: left;\">name</th><th style = \"text-align: left;\">stat_value</th><th style = \"text-align: left;\">time_stat</th><th style = \"text-align: left;\">dual_val</th><th style = \"text-align: left;\">pc_val</th><th style = \"text-align: left;\">iter</th><th style = \"text-align: left;\">time_pc</th><th style = \"text-align: left;\">val_bc</th><th style = \"text-align: left;\">status_bc</th><th style = \"text-align: left;\">time</th></tr><tr class = \"subheader headerLastRow\"><th class = \"rowNumber\" style = \"font-weight: bold; text-align: right;\"></th><th title = \"String31\" style = \"text-align: left;\">String31</th><th title = \"Float64\" style = \"text-align: left;\">Float64</th><th title = \"Float64\" style = \"text-align: left;\">Float64</th><th title = \"Union{Missing, Float64}\" style = \"text-align: left;\">Float64?</th><th title = \"Union{Missing, Float64}\" style = \"text-align: left;\">Float64?</th><th title = \"Union{Missing, Int64}\" style = \"text-align: left;\">Int64?</th><th title = \"Union{Missing, Float64}\" style = \"text-align: left;\">Float64?</th><th title = \"Union{Missing, Float64}\" style = \"text-align: left;\">Float64?</th><th title = \"Union{Missing, String15}\" style = \"text-align: left;\">String15?</th><th title = \"Union{Missing, Float64}\" style = \"text-align: left;\">Float64?</th></tr></thead><tbody><tr><td class = \"rowNumber\" style = \"font-weight: bold; text-align: right;\">1</td><td style = \"text-align: left;\">20_USA-road-d.BAY.gr</td><td style = \"text-align: right;\">9365.0</td><td style = \"text-align: right;\">0.013</td><td style = \"text-align: right;\">15332.6</td><td style = \"text-align: right;\">15332.6</td><td style = \"text-align: right;\">45</td><td style = \"text-align: right;\">7.495</td><td style = \"text-align: right;\">9365.0</td><td style = \"text-align: left;\">optimal</td><td style = \"text-align: right;\">0.0370002</td></tr><tr><td class = \"rowNumber\" style = \"font-weight: bold; text-align: right;\">2</td><td style = \"text-align: left;\">1000_USA-road-d.BAY.gr</td><td style = \"text-align: right;\">40117.0</td><td style = \"text-align: right;\">3.762</td><td style = \"text-align: right;\">48250.0</td><td style = \"font-style: italic; text-align: right;\">missing</td><td style = \"font-style: italic; text-align: right;\">missing</td><td style = \"font-style: italic; text-align: right;\">missing</td><td style = \"text-align: right;\">40117.0</td><td style = \"text-align: left;\">optimal</td><td style = \"text-align: right;\">19.661</td></tr><tr><td class = \"rowNumber\" style = \"font-weight: bold; text-align: right;\">3</td><td style = \"text-align: left;\">1000_USA-road-d.COL.gr</td><td style = \"text-align: right;\">24068.0</td><td style = \"text-align: right;\">5.764</td><td style = \"text-align: right;\">29672.8</td><td style = \"font-style: italic; text-align: right;\">missing</td><td style = \"font-style: italic; text-align: right;\">missing</td><td style = \"font-style: italic; text-align: right;\">missing</td><td style = \"text-align: right;\">24068.0</td><td style = \"text-align: left;\">optimal</td><td style = \"text-align: right;\">17.625</td></tr><tr><td class = \"rowNumber\" style = \"font-weight: bold; text-align: right;\">4</td><td style = \"text-align: left;\">1000_USA-road-d.NY.gr</td><td style = \"text-align: right;\">36248.0</td><td style = \"text-align: right;\">2.778</td><td style = \"text-align: right;\">43329.0</td><td style = \"font-style: italic; text-align: right;\">missing</td><td style = \"font-style: italic; text-align: right;\">missing</td><td style = \"font-style: italic; text-align: right;\">missing</td><td style = \"text-align: right;\">36248.0</td><td style = \"text-align: left;\">optimal</td><td style = \"text-align: right;\">16.181</td></tr><tr><td class = \"rowNumber\" style = \"font-weight: bold; text-align: right;\">5</td><td style = \"text-align: left;\">100_USA-road-d.BAY.gr</td><td style = \"text-align: right;\">8818.0</td><td style = \"text-align: right;\">0.085</td><td style = \"text-align: right;\">10857.1</td><td style = \"font-style: italic; text-align: right;\">missing</td><td style = \"font-style: italic; text-align: right;\">missing</td><td style = \"font-style: italic; text-align: right;\">missing</td><td style = \"text-align: right;\">8818.0</td><td style = \"text-align: left;\">optimal</td><td style = \"text-align: right;\">0.134</td></tr><tr><td class = \"rowNumber\" style = \"font-weight: bold; text-align: right;\">6</td><td style = \"text-align: left;\">100_USA-road-d.COL.gr</td><td style = \"text-align: right;\">18930.0</td><td style = \"text-align: right;\">0.0599999</td><td style = \"text-align: right;\">25320.2</td><td style = \"font-style: italic; text-align: right;\">missing</td><td style = \"font-style: italic; text-align: right;\">missing</td><td style = \"font-style: italic; text-align: right;\">missing</td><td style = \"text-align: right;\">18930.0</td><td style = \"text-align: left;\">optimal</td><td style = \"text-align: right;\">0.13</td></tr><tr><td class = \"rowNumber\" style = \"font-weight: bold; text-align: right;\">7</td><td style = \"text-align: left;\">100_USA-road-d.NY.gr</td><td style = \"text-align: right;\">15274.0</td><td style = \"text-align: right;\">0.0470002</td><td style = \"text-align: right;\">33931.0</td><td style = \"font-style: italic; text-align: right;\">missing</td><td style = \"font-style: italic; text-align: right;\">missing</td><td style = \"font-style: italic; text-align: right;\">missing</td><td style = \"text-align: right;\">15274.0</td><td style = \"text-align: left;\">optimal</td><td style = \"text-align: right;\">0.245</td></tr><tr><td class = \"rowNumber\" style = \"font-weight: bold; text-align: right;\">8</td><td style = \"text-align: left;\">1100_USA-road-d.COL.gr</td><td style = \"text-align: right;\">34075.0</td><td style = \"text-align: right;\">9.959</td><td style = \"text-align: right;\">42766.5</td><td style = \"font-style: italic; text-align: right;\">missing</td><td style = \"font-style: italic; text-align: right;\">missing</td><td style = \"font-style: italic; text-align: right;\">missing</td><td style = \"text-align: right;\">32664.0</td><td style = \"text-align: left;\">optimal</td><td style = \"text-align: right;\">49.66</td></tr><tr><td class = \"rowNumber\" style = \"font-weight: bold; text-align: right;\">9</td><td style = \"text-align: left;\">1100_USA-road-d.NY.gr</td><td style = \"text-align: right;\">49351.0</td><td style = \"text-align: right;\">6.309</td><td style = \"text-align: right;\">70089.2</td><td style = \"font-style: italic; text-align: right;\">missing</td><td style = \"font-style: italic; text-align: right;\">missing</td><td style = \"font-style: italic; text-align: right;\">missing</td><td style = \"text-align: right;\">57273.0</td><td style = \"text-align: left;\">feasible</td><td style = \"text-align: right;\">107.976</td></tr><tr><td class = \"rowNumber\" style = \"font-weight: bold; text-align: right;\">10</td><td style = \"text-align: left;\">1000_USA-road-d.BAY.gr</td><td style = \"text-align: right;\">40117.0</td><td style = \"text-align: right;\">3.762</td><td style = \"text-align: right;\">48250.0</td><td style = \"font-style: italic; text-align: right;\">missing</td><td style = \"font-style: italic; text-align: right;\">missing</td><td style = \"font-style: italic; text-align: right;\">missing</td><td style = \"text-align: right;\">48250.0</td><td style = \"text-align: left;\">feasible</td><td style = \"text-align: right;\">95.908</td></tr><tr><td class = \"rowNumber\" style = \"font-weight: bold; text-align: right;\">11</td><td style = \"text-align: left;\">1000_USA-road-d.NY.gr</td><td style = \"text-align: right;\">36248.0</td><td style = \"text-align: right;\">2.778</td><td style = \"text-align: right;\">43329.0</td><td style = \"font-style: italic; text-align: right;\">missing</td><td style = \"font-style: italic; text-align: right;\">missing</td><td style = \"font-style: italic; text-align: right;\">missing</td><td style = \"text-align: right;\">43329.0</td><td style = \"text-align: left;\">feasible</td><td style = \"text-align: right;\">91.117</td></tr><tr><td class = \"rowNumber\" style = \"font-weight: bold; text-align: right;\">12</td><td style = \"text-align: left;\">100_USA-road-d.BAY.gr</td><td style = \"text-align: right;\">8818.0</td><td style = \"text-align: right;\">0.085</td><td style = \"text-align: right;\">10857.1</td><td style = \"font-style: italic; text-align: right;\">missing</td><td style = \"font-style: italic; text-align: right;\">missing</td><td style = \"font-style: italic; text-align: right;\">missing</td><td style = \"text-align: right;\">10857.1</td><td style = \"text-align: left;\">feasible</td><td style = \"text-align: right;\">80.168</td></tr><tr><td class = \"rowNumber\" style = \"font-weight: bold; text-align: right;\">13</td><td style = \"text-align: left;\">100_USA-road-d.COL.gr</td><td style = \"text-align: right;\">18930.0</td><td style = \"text-align: right;\">0.0599999</td><td style = \"text-align: right;\">25320.2</td><td style = \"font-style: italic; text-align: right;\">missing</td><td style = \"font-style: italic; text-align: right;\">missing</td><td style = \"font-style: italic; text-align: right;\">missing</td><td style = \"text-align: right;\">25320.2</td><td style = \"text-align: left;\">feasible</td><td style = \"text-align: right;\">80.207</td></tr><tr><td style = \"text-align: right;\">&vellip;</td><td style = \"text-align: right;\">&vellip;</td><td style = \"text-align: right;\">&vellip;</td><td style = \"text-align: right;\">&vellip;</td><td style = \"text-align: right;\">&vellip;</td><td style = \"text-align: right;\">&vellip;</td><td style = \"text-align: right;\">&vellip;</td><td style = \"text-align: right;\">&vellip;</td><td style = \"text-align: right;\">&vellip;</td><td style = \"text-align: right;\">&vellip;</td><td style = \"text-align: right;\">&vellip;</td></tr><tr><td class = \"rowNumber\" style = \"font-weight: bold; text-align: right;\">118</td><td style = \"text-align: left;\">2400_USA-road-d.BAY.gr</td><td style = \"text-align: right;\">65317.0</td><td style = \"text-align: right;\">30.15</td><td style = \"font-style: italic; text-align: right;\">missing</td><td style = \"font-style: italic; text-align: right;\">missing</td><td style = \"font-style: italic; text-align: right;\">missing</td><td style = \"font-style: italic; text-align: right;\">missing</td><td style = \"text-align: right;\">-1.0</td><td style = \"text-align: left;\">not find</td><td style = \"text-align: right;\">170.589</td></tr><tr><td class = \"rowNumber\" style = \"font-weight: bold; text-align: right;\">119</td><td style = \"text-align: left;\">2400_USA-road-d.COL.gr</td><td style = \"text-align: right;\">39443.0</td><td style = \"text-align: right;\">100.29</td><td style = \"font-style: italic; text-align: right;\">missing</td><td style = \"font-style: italic; text-align: right;\">missing</td><td style = \"font-style: italic; text-align: right;\">missing</td><td style = \"font-style: italic; text-align: right;\">missing</td><td style = \"text-align: right;\">-1.0</td><td style = \"text-align: left;\">not find</td><td style = \"text-align: right;\">194.835</td></tr><tr><td class = \"rowNumber\" style = \"font-weight: bold; text-align: right;\">120</td><td style = \"text-align: left;\">2400_USA-road-d.NY.gr</td><td style = \"text-align: right;\">60819.0</td><td style = \"text-align: right;\">151.315</td><td style = \"font-style: italic; text-align: right;\">missing</td><td style = \"font-style: italic; text-align: right;\">missing</td><td style = \"font-style: italic; text-align: right;\">missing</td><td style = \"font-style: italic; text-align: right;\">missing</td><td style = \"text-align: right;\">-1.0</td><td style = \"text-align: left;\">not find</td><td style = \"text-align: right;\">155.255</td></tr><tr><td class = \"rowNumber\" style = \"font-weight: bold; text-align: right;\">121</td><td style = \"text-align: left;\">250_USA-road-d.BAY.gr</td><td style = \"text-align: right;\">14247.0</td><td style = \"text-align: right;\">0.369</td><td style = \"text-align: right;\">19248.0</td><td style = \"font-style: italic; text-align: right;\">missing</td><td style = \"font-style: italic; text-align: right;\">missing</td><td style = \"font-style: italic; text-align: right;\">missing</td><td style = \"text-align: right;\">19248.0</td><td style = \"text-align: left;\">feasible</td><td style = \"text-align: right;\">80.731</td></tr><tr><td class = \"rowNumber\" style = \"font-weight: bold; text-align: right;\">122</td><td style = \"text-align: left;\">250_USA-road-d.COL.gr</td><td style = \"text-align: right;\">24880.0</td><td style = \"text-align: right;\">0.755</td><td style = \"text-align: right;\">32794.3</td><td style = \"font-style: italic; text-align: right;\">missing</td><td style = \"font-style: italic; text-align: right;\">missing</td><td style = \"font-style: italic; text-align: right;\">missing</td><td style = \"text-align: right;\">32794.3</td><td style = \"text-align: left;\">feasible</td><td style = \"text-align: right;\">80.514</td></tr><tr><td class = \"rowNumber\" style = \"font-weight: bold; text-align: right;\">123</td><td style = \"text-align: left;\">250_USA-road-d.NY.gr</td><td style = \"text-align: right;\">29136.0</td><td style = \"text-align: right;\">0.219</td><td style = \"text-align: right;\">37057.4</td><td style = \"font-style: italic; text-align: right;\">missing</td><td style = \"font-style: italic; text-align: right;\">missing</td><td style = \"font-style: italic; text-align: right;\">missing</td><td style = \"text-align: right;\">37057.4</td><td style = \"text-align: left;\">feasible</td><td style = \"text-align: right;\">80.543</td></tr><tr><td class = \"rowNumber\" style = \"font-weight: bold; text-align: right;\">124</td><td style = \"text-align: left;\">2500_USA-road-d.BAY.gr</td><td style = \"text-align: right;\">62022.0</td><td style = \"text-align: right;\">35.714</td><td style = \"font-style: italic; text-align: right;\">missing</td><td style = \"font-style: italic; text-align: right;\">missing</td><td style = \"font-style: italic; text-align: right;\">missing</td><td style = \"font-style: italic; text-align: right;\">missing</td><td style = \"text-align: right;\">-1.0</td><td style = \"text-align: left;\">not find</td><td style = \"text-align: right;\">154.787</td></tr><tr><td class = \"rowNumber\" style = \"font-weight: bold; text-align: right;\">125</td><td style = \"text-align: left;\">2500_USA-road-d.COL.gr</td><td style = \"text-align: right;\">39696.0</td><td style = \"text-align: right;\">74.772</td><td style = \"font-style: italic; text-align: right;\">missing</td><td style = \"font-style: italic; text-align: right;\">missing</td><td style = \"font-style: italic; text-align: right;\">missing</td><td style = \"font-style: italic; text-align: right;\">missing</td><td style = \"text-align: right;\">47977.9</td><td style = \"text-align: left;\">feasible</td><td style = \"text-align: right;\">197.9</td></tr><tr><td class = \"rowNumber\" style = \"font-weight: bold; text-align: right;\">126</td><td style = \"text-align: left;\">2500_USA-road-d.NY.gr</td><td style = \"text-align: right;\">60819.0</td><td style = \"text-align: right;\">129.936</td><td style = \"font-style: italic; text-align: right;\">missing</td><td style = \"font-style: italic; text-align: right;\">missing</td><td style = \"font-style: italic; text-align: right;\">missing</td><td style = \"font-style: italic; text-align: right;\">missing</td><td style = \"text-align: right;\">-1.0</td><td style = \"text-align: left;\">not find</td><td style = \"text-align: right;\">157.276</td></tr><tr><td class = \"rowNumber\" style = \"font-weight: bold; text-align: right;\">127</td><td style = \"text-align: left;\">80_USA-road-d.BAY.gr</td><td style = \"text-align: right;\">8818.0</td><td style = \"text-align: right;\">0.072</td><td style = \"text-align: right;\">10857.1</td><td style = \"font-style: italic; text-align: right;\">missing</td><td style = \"font-style: italic; text-align: right;\">missing</td><td style = \"font-style: italic; text-align: right;\">missing</td><td style = \"font-style: italic; text-align: right;\">missing</td><td style = \"font-style: italic; text-align: left;\">missing</td><td style = \"font-style: italic; text-align: right;\">missing</td></tr><tr><td class = \"rowNumber\" style = \"font-weight: bold; text-align: right;\">128</td><td style = \"text-align: left;\">80_USA-road-d.COL.gr</td><td style = \"text-align: right;\">10892.0</td><td style = \"text-align: right;\">0.0510001</td><td style = \"text-align: right;\">14277.5</td><td style = \"font-style: italic; text-align: right;\">missing</td><td style = \"font-style: italic; text-align: right;\">missing</td><td style = \"font-style: italic; text-align: right;\">missing</td><td style = \"font-style: italic; text-align: right;\">missing</td><td style = \"font-style: italic; text-align: left;\">missing</td><td style = \"font-style: italic; text-align: right;\">missing</td></tr><tr><td class = \"rowNumber\" style = \"font-weight: bold; text-align: right;\">129</td><td style = \"text-align: left;\">80_USA-road-d.NY.gr</td><td style = \"text-align: right;\">12244.0</td><td style = \"text-align: right;\">0.0599999</td><td style = \"text-align: right;\">31775.8</td><td style = \"font-style: italic; text-align: right;\">missing</td><td style = \"font-style: italic; text-align: right;\">missing</td><td style = \"font-style: italic; text-align: right;\">missing</td><td style = \"font-style: italic; text-align: right;\">missing</td><td style = \"font-style: italic; text-align: left;\">missing</td><td style = \"font-style: italic; text-align: right;\">missing</td></tr></tbody></table></div>"
      ],
      "text/latex": [
       "\\begin{tabular}{r|cccccccc}\n",
       "\t& name & stat\\_value & time\\_stat & dual\\_val & pc\\_val & iter & time\\_pc & \\\\\n",
       "\t\\hline\n",
       "\t& String31 & Float64 & Float64 & Float64? & Float64? & Int64? & Float64? & \\\\\n",
       "\t\\hline\n",
       "\t1 & 20\\_USA-road-d.BAY.gr & 9365.0 & 0.013 & 15332.6 & 15332.6 & 45 & 7.495 & $\\dots$ \\\\\n",
       "\t2 & 1000\\_USA-road-d.BAY.gr & 40117.0 & 3.762 & 48250.0 & \\emph{missing} & \\emph{missing} & \\emph{missing} & $\\dots$ \\\\\n",
       "\t3 & 1000\\_USA-road-d.COL.gr & 24068.0 & 5.764 & 29672.8 & \\emph{missing} & \\emph{missing} & \\emph{missing} & $\\dots$ \\\\\n",
       "\t4 & 1000\\_USA-road-d.NY.gr & 36248.0 & 2.778 & 43329.0 & \\emph{missing} & \\emph{missing} & \\emph{missing} & $\\dots$ \\\\\n",
       "\t5 & 100\\_USA-road-d.BAY.gr & 8818.0 & 0.085 & 10857.1 & \\emph{missing} & \\emph{missing} & \\emph{missing} & $\\dots$ \\\\\n",
       "\t6 & 100\\_USA-road-d.COL.gr & 18930.0 & 0.0599999 & 25320.2 & \\emph{missing} & \\emph{missing} & \\emph{missing} & $\\dots$ \\\\\n",
       "\t7 & 100\\_USA-road-d.NY.gr & 15274.0 & 0.0470002 & 33931.0 & \\emph{missing} & \\emph{missing} & \\emph{missing} & $\\dots$ \\\\\n",
       "\t8 & 1100\\_USA-road-d.COL.gr & 34075.0 & 9.959 & 42766.5 & \\emph{missing} & \\emph{missing} & \\emph{missing} & $\\dots$ \\\\\n",
       "\t9 & 1100\\_USA-road-d.NY.gr & 49351.0 & 6.309 & 70089.2 & \\emph{missing} & \\emph{missing} & \\emph{missing} & $\\dots$ \\\\\n",
       "\t10 & 1000\\_USA-road-d.BAY.gr & 40117.0 & 3.762 & 48250.0 & \\emph{missing} & \\emph{missing} & \\emph{missing} & $\\dots$ \\\\\n",
       "\t11 & 1000\\_USA-road-d.NY.gr & 36248.0 & 2.778 & 43329.0 & \\emph{missing} & \\emph{missing} & \\emph{missing} & $\\dots$ \\\\\n",
       "\t12 & 100\\_USA-road-d.BAY.gr & 8818.0 & 0.085 & 10857.1 & \\emph{missing} & \\emph{missing} & \\emph{missing} & $\\dots$ \\\\\n",
       "\t13 & 100\\_USA-road-d.COL.gr & 18930.0 & 0.0599999 & 25320.2 & \\emph{missing} & \\emph{missing} & \\emph{missing} & $\\dots$ \\\\\n",
       "\t14 & 100\\_USA-road-d.NY.gr & 15274.0 & 0.0470002 & 33931.0 & \\emph{missing} & \\emph{missing} & \\emph{missing} & $\\dots$ \\\\\n",
       "\t15 & 1100\\_USA-road-d.NY.gr & 49351.0 & 6.309 & 70089.2 & \\emph{missing} & \\emph{missing} & \\emph{missing} & $\\dots$ \\\\\n",
       "\t16 & 1200\\_USA-road-d.COL.gr & 34075.0 & 13.165 & 42766.5 & \\emph{missing} & \\emph{missing} & \\emph{missing} & $\\dots$ \\\\\n",
       "\t17 & 1200\\_USA-road-d.NY.gr & 59590.0 & 8.29 & 72566.0 & \\emph{missing} & \\emph{missing} & \\emph{missing} & $\\dots$ \\\\\n",
       "\t18 & 120\\_USA-road-d.BAY.gr & 10034.0 & 0.096 & 12219.0 & \\emph{missing} & \\emph{missing} & \\emph{missing} & $\\dots$ \\\\\n",
       "\t19 & 120\\_USA-road-d.COL.gr & 18930.0 & 0.072 & 25582.6 & \\emph{missing} & \\emph{missing} & \\emph{missing} & $\\dots$ \\\\\n",
       "\t20 & 120\\_USA-road-d.NY.gr & 18916.0 & 0.0839999 & 30613.1 & \\emph{missing} & \\emph{missing} & \\emph{missing} & $\\dots$ \\\\\n",
       "\t21 & 1400\\_USA-road-d.BAY.gr & 67712.0 & 10.294 & 79995.3 & \\emph{missing} & \\emph{missing} & \\emph{missing} & $\\dots$ \\\\\n",
       "\t22 & 140\\_USA-road-d.BAY.gr & 12169.0 & 0.148 & 15643.7 & \\emph{missing} & \\emph{missing} & \\emph{missing} & $\\dots$ \\\\\n",
       "\t23 & 140\\_USA-road-d.COL.gr & 18301.0 & 0.0710001 & 24651.0 & \\emph{missing} & \\emph{missing} & \\emph{missing} & $\\dots$ \\\\\n",
       "\t24 & 140\\_USA-road-d.NY.gr & 25498.0 & 0.108 & 33079.2 & \\emph{missing} & \\emph{missing} & \\emph{missing} & $\\dots$ \\\\\n",
       "\t$\\dots$ & $\\dots$ & $\\dots$ & $\\dots$ & $\\dots$ & $\\dots$ & $\\dots$ & $\\dots$ &  \\\\\n",
       "\\end{tabular}\n"
      ],
      "text/plain": [
       "\u001b[1m129×10 DataFrame\u001b[0m\n",
       "\u001b[1m Row \u001b[0m│\u001b[1m name                   \u001b[0m\u001b[1m stat_value \u001b[0m\u001b[1m time_stat   \u001b[0m\u001b[1m dual_val  \u001b[0m\u001b[1m pc_val    \u001b[0m\u001b[1m \u001b[0m ⋯\n",
       "     │\u001b[90m String31               \u001b[0m\u001b[90m Float64    \u001b[0m\u001b[90m Float64     \u001b[0m\u001b[90m Float64?  \u001b[0m\u001b[90m Float64?  \u001b[0m\u001b[90m \u001b[0m ⋯\n",
       "─────┼──────────────────────────────────────────────────────────────────────────\n",
       "   1 │ 20_USA-road-d.BAY.gr        9365.0    0.013        15332.6    15332.6   ⋯\n",
       "   2 │ 1000_USA-road-d.BAY.gr     40117.0    3.762        48250.0 \u001b[90m missing   \u001b[0m\u001b[90m \u001b[0m\n",
       "   3 │ 1000_USA-road-d.COL.gr     24068.0    5.764        29672.8 \u001b[90m missing   \u001b[0m\u001b[90m \u001b[0m\n",
       "   4 │ 1000_USA-road-d.NY.gr      36248.0    2.778        43329.0 \u001b[90m missing   \u001b[0m\u001b[90m \u001b[0m\n",
       "   5 │ 100_USA-road-d.BAY.gr       8818.0    0.085        10857.1 \u001b[90m missing   \u001b[0m\u001b[90m \u001b[0m ⋯\n",
       "   6 │ 100_USA-road-d.COL.gr      18930.0    0.0599999    25320.2 \u001b[90m missing   \u001b[0m\u001b[90m \u001b[0m\n",
       "   7 │ 100_USA-road-d.NY.gr       15274.0    0.0470002    33931.0 \u001b[90m missing   \u001b[0m\u001b[90m \u001b[0m\n",
       "   8 │ 1100_USA-road-d.COL.gr     34075.0    9.959        42766.5 \u001b[90m missing   \u001b[0m\u001b[90m \u001b[0m\n",
       "  ⋮  │           ⋮                 ⋮            ⋮           ⋮          ⋮       ⋱\n",
       " 123 │ 250_USA-road-d.NY.gr       29136.0    0.219        37057.4 \u001b[90m missing   \u001b[0m\u001b[90m \u001b[0m ⋯\n",
       " 124 │ 2500_USA-road-d.BAY.gr     62022.0   35.714     \u001b[90m missing   \u001b[0m\u001b[90m missing   \u001b[0m\u001b[90m \u001b[0m\n",
       " 125 │ 2500_USA-road-d.COL.gr     39696.0   74.772     \u001b[90m missing   \u001b[0m\u001b[90m missing   \u001b[0m\u001b[90m \u001b[0m\n",
       " 126 │ 2500_USA-road-d.NY.gr      60819.0  129.936     \u001b[90m missing   \u001b[0m\u001b[90m missing   \u001b[0m\u001b[90m \u001b[0m\n",
       " 127 │ 80_USA-road-d.BAY.gr        8818.0    0.072        10857.1 \u001b[90m missing   \u001b[0m\u001b[90m \u001b[0m ⋯\n",
       " 128 │ 80_USA-road-d.COL.gr       10892.0    0.0510001    14277.5 \u001b[90m missing   \u001b[0m\u001b[90m \u001b[0m\n",
       " 129 │ 80_USA-road-d.NY.gr        12244.0    0.0599999    31775.8 \u001b[90m missing   \u001b[0m\u001b[90m \u001b[0m\n",
       "\u001b[36m                                                  5 columns and 114 rows omitted\u001b[0m"
      ]
     },
     "metadata": {},
     "output_type": "display_data"
    }
   ],
   "source": [
    "stat_dual_bc=leftjoin(st_dual_pc,r_bc,on = :name)"
   ]
  },
  {
   "cell_type": "code",
   "execution_count": 23,
   "metadata": {},
   "outputs": [
    {
     "name": "stdout",
     "output_type": "stream",
     "text": [
      "\u001b[1m2×10 SubDataFrame\u001b[0m\n",
      "\u001b[1m Row \u001b[0m│\u001b[1m name                   \u001b[0m\u001b[1m stat_value \u001b[0m\u001b[1m time_stat \u001b[0m\u001b[1m dual_val \u001b[0m\u001b[1m pc_val   \u001b[0m\u001b[1m iter    \u001b[0m\u001b[1m time_pc  \u001b[0m\u001b[1m val_bc   \u001b[0m\u001b[1m status_bc \u001b[0m\u001b[1m time     \u001b[0m\n",
      "     │\u001b[90m String31               \u001b[0m\u001b[90m Float64    \u001b[0m\u001b[90m Float64   \u001b[0m\u001b[90m Float64? \u001b[0m\u001b[90m Float64? \u001b[0m\u001b[90m Int64?  \u001b[0m\u001b[90m Float64? \u001b[0m\u001b[90m Float64? \u001b[0m\u001b[90m String15? \u001b[0m\u001b[90m Float64? \u001b[0m\n",
      "─────┼─────────────────────────────────────────────────────────────────────────────────────────────────────────────────────\n",
      "   1 │ 1000_USA-road-d.BAY.gr     40117.0      3.762   48250.0 \u001b[90m  missing \u001b[0m\u001b[90m missing \u001b[0m\u001b[90m  missing \u001b[0m  40117.0  optimal      19.661\n",
      "   2 │ 1000_USA-road-d.BAY.gr     40117.0      3.762   48250.0 \u001b[90m  missing \u001b[0m\u001b[90m missing \u001b[0m\u001b[90m  missing \u001b[0m  48250.0  feasible     95.908\n",
      "\u001b[1m2×10 SubDataFrame\u001b[0m\n",
      "\u001b[1m Row \u001b[0m│\u001b[1m name                  \u001b[0m\u001b[1m stat_value \u001b[0m\u001b[1m time_stat \u001b[0m\u001b[1m dual_val \u001b[0m\u001b[1m pc_val   \u001b[0m\u001b[1m iter    \u001b[0m\u001b[1m time_pc  \u001b[0m\u001b[1m val_bc   \u001b[0m\u001b[1m status_bc \u001b[0m\u001b[1m time     \u001b[0m\n",
      "     │\u001b[90m String31              \u001b[0m\u001b[90m Float64    \u001b[0m\u001b[90m Float64   \u001b[0m\u001b[90m Float64? \u001b[0m\u001b[90m Float64? \u001b[0m\u001b[90m Int64?  \u001b[0m\u001b[90m Float64? \u001b[0m\u001b[90m Float64? \u001b[0m\u001b[90m String15? \u001b[0m\u001b[90m Float64? \u001b[0m\n",
      "─────┼────────────────────────────────────────────────────────────────────────────────────────────────────────────────────\n",
      "   1 │ 1000_USA-road-d.NY.gr     36248.0      2.778   43329.0 \u001b[90m  missing \u001b[0m\u001b[90m missing \u001b[0m\u001b[90m  missing \u001b[0m  36248.0  optimal      16.181\n",
      "   2 │ 1000_USA-road-d.NY.gr     36248.0      2.778   43329.0 \u001b[90m  missing \u001b[0m\u001b[90m missing \u001b[0m\u001b[90m  missing \u001b[0m  43329.0  feasible     91.117\n",
      "\u001b[1m2×10 SubDataFrame\u001b[0m\n",
      "\u001b[1m Row \u001b[0m│\u001b[1m name                  \u001b[0m\u001b[1m stat_value \u001b[0m\u001b[1m time_stat \u001b[0m\u001b[1m dual_val \u001b[0m\u001b[1m pc_val   \u001b[0m\u001b[1m iter    \u001b[0m\u001b[1m time_pc  \u001b[0m\u001b[1m val_bc   \u001b[0m\u001b[1m status_bc \u001b[0m\u001b[1m time     \u001b[0m\n",
      "     │\u001b[90m String31              \u001b[0m\u001b[90m Float64    \u001b[0m\u001b[90m Float64   \u001b[0m\u001b[90m Float64? \u001b[0m\u001b[90m Float64? \u001b[0m\u001b[90m Int64?  \u001b[0m\u001b[90m Float64? \u001b[0m\u001b[90m Float64? \u001b[0m\u001b[90m String15? \u001b[0m\u001b[90m Float64? \u001b[0m\n",
      "─────┼────────────────────────────────────────────────────────────────────────────────────────────────────────────────────\n",
      "   1 │ 100_USA-road-d.BAY.gr      8818.0      0.085   10857.1 \u001b[90m  missing \u001b[0m\u001b[90m missing \u001b[0m\u001b[90m  missing \u001b[0m   8818.0  optimal       0.134\n",
      "   2 │ 100_USA-road-d.BAY.gr      8818.0      0.085   10857.1 \u001b[90m  missing \u001b[0m\u001b[90m missing \u001b[0m\u001b[90m  missing \u001b[0m  10857.1  feasible     80.168\n",
      "\u001b[1m2×10 SubDataFrame\u001b[0m\n",
      "\u001b[1m Row \u001b[0m│\u001b[1m name                  \u001b[0m\u001b[1m stat_value \u001b[0m\u001b[1m time_stat \u001b[0m\u001b[1m dual_val \u001b[0m\u001b[1m pc_val   \u001b[0m\u001b[1m iter    \u001b[0m\u001b[1m time_pc  \u001b[0m\u001b[1m val_bc   \u001b[0m\u001b[1m status_bc \u001b[0m\u001b[1m time     \u001b[0m\n",
      "     │\u001b[90m String31              \u001b[0m\u001b[90m Float64    \u001b[0m\u001b[90m Float64   \u001b[0m\u001b[90m Float64? \u001b[0m\u001b[90m Float64? \u001b[0m\u001b[90m Int64?  \u001b[0m\u001b[90m Float64? \u001b[0m\u001b[90m Float64? \u001b[0m\u001b[90m String15? \u001b[0m\u001b[90m Float64? \u001b[0m\n",
      "─────┼────────────────────────────────────────────────────────────────────────────────────────────────────────────────────\n",
      "   1 │ 100_USA-road-d.COL.gr     18930.0  0.0599999   25320.2 \u001b[90m  missing \u001b[0m\u001b[90m missing \u001b[0m\u001b[90m  missing \u001b[0m  18930.0  optimal       0.13\n",
      "   2 │ 100_USA-road-d.COL.gr     18930.0  0.0599999   25320.2 \u001b[90m  missing \u001b[0m\u001b[90m missing \u001b[0m\u001b[90m  missing \u001b[0m  25320.2  feasible     80.207\n",
      "\u001b[1m2×10 SubDataFrame\u001b[0m\n",
      "\u001b[1m Row \u001b[0m│\u001b[1m name                 \u001b[0m\u001b[1m stat_value \u001b[0m\u001b[1m time_stat \u001b[0m\u001b[1m dual_val \u001b[0m\u001b[1m pc_val   \u001b[0m\u001b[1m iter    \u001b[0m\u001b[1m time_pc  \u001b[0m\u001b[1m val_bc   \u001b[0m\u001b[1m status_bc \u001b[0m\u001b[1m time     \u001b[0m\n",
      "     │\u001b[90m String31             \u001b[0m\u001b[90m Float64    \u001b[0m\u001b[90m Float64   \u001b[0m\u001b[90m Float64? \u001b[0m\u001b[90m Float64? \u001b[0m\u001b[90m Int64?  \u001b[0m\u001b[90m Float64? \u001b[0m\u001b[90m Float64? \u001b[0m\u001b[90m String15? \u001b[0m\u001b[90m Float64? \u001b[0m\n",
      "─────┼───────────────────────────────────────────────────────────────────────────────────────────────────────────────────\n",
      "   1 │ 100_USA-road-d.NY.gr     15274.0  0.0470002   33931.0 \u001b[90m  missing \u001b[0m\u001b[90m missing \u001b[0m\u001b[90m  missing \u001b[0m  15274.0  optimal       0.245\n",
      "   2 │ 100_USA-road-d.NY.gr     15274.0  0.0470002   33931.0 \u001b[90m  missing \u001b[0m\u001b[90m missing \u001b[0m\u001b[90m  missing \u001b[0m  20939.9  feasible     80.13\n",
      "\u001b[1m2×10 SubDataFrame\u001b[0m\n",
      "\u001b[1m Row \u001b[0m│\u001b[1m name                  \u001b[0m\u001b[1m stat_value \u001b[0m\u001b[1m time_stat \u001b[0m\u001b[1m dual_val \u001b[0m\u001b[1m pc_val   \u001b[0m\u001b[1m iter    \u001b[0m\u001b[1m time_pc  \u001b[0m\u001b[1m val_bc   \u001b[0m\u001b[1m status_bc \u001b[0m\u001b[1m time     \u001b[0m\n",
      "     │\u001b[90m String31              \u001b[0m\u001b[90m Float64    \u001b[0m\u001b[90m Float64   \u001b[0m\u001b[90m Float64? \u001b[0m\u001b[90m Float64? \u001b[0m\u001b[90m Int64?  \u001b[0m\u001b[90m Float64? \u001b[0m\u001b[90m Float64? \u001b[0m\u001b[90m String15? \u001b[0m\u001b[90m Float64? \u001b[0m\n",
      "─────┼────────────────────────────────────────────────────────────────────────────────────────────────────────────────────\n",
      "   1 │ 1100_USA-road-d.NY.gr     49351.0      6.309   70089.2 \u001b[90m  missing \u001b[0m\u001b[90m missing \u001b[0m\u001b[90m  missing \u001b[0m  57273.0  feasible    107.976\n",
      "   2 │ 1100_USA-road-d.NY.gr     49351.0      6.309   70089.2 \u001b[90m  missing \u001b[0m\u001b[90m missing \u001b[0m\u001b[90m  missing \u001b[0m  70089.2  feasible     96.49\n"
     ]
    }
   ],
   "source": [
    "gr=groupby(stat_dual_bc, :name)\n",
    "for group in gr\n",
    "    if size(group,1) > 1\n",
    "        println(group)\n",
    "    end\n",
    "end\n"
   ]
  },
  {
   "cell_type": "code",
   "execution_count": 36,
   "metadata": {},
   "outputs": [
    {
     "data": {
      "text/plain": [
       "129"
      ]
     },
     "metadata": {},
     "output_type": "display_data"
    }
   ],
   "source": [
    "size(stat_dual_bc,1)"
   ]
  },
  {
   "cell_type": "code",
   "execution_count": 34,
   "metadata": {},
   "outputs": [],
   "source": [
    "index_delete=findfirst((stat_dual_bc.name ==\"1100_USA-road-d.NY.gr\") & (stat_dual_bc.time==107.976))\n"
   ]
  },
  {
   "cell_type": "code",
   "execution_count": 35,
   "metadata": {},
   "outputs": [
    {
     "name": "stdout",
     "output_type": "stream",
     "text": [
      "nothing"
     ]
    }
   ],
   "source": [
    "print(index_delete)"
   ]
  },
  {
   "cell_type": "code",
   "execution_count": 37,
   "metadata": {},
   "outputs": [
    {
     "data": {
      "text/plain": [
       "12-element Vector{Int64}:\n",
       "  2\n",
       "  4\n",
       "  5\n",
       "  6\n",
       "  7\n",
       "  9\n",
       " 10\n",
       " 11\n",
       " 12\n",
       " 13\n",
       " 14\n",
       " 15"
      ]
     },
     "metadata": {},
     "output_type": "display_data"
    }
   ],
   "source": [
    "indexes_to_remove = filter(i -> length(unique(stat_dual_bc[stat_dual_bc.name .== stat_dual_bc[i, :name], :time])) > 1, 1:nrow(stat_dual_bc))"
   ]
  },
  {
   "cell_type": "code",
   "execution_count": 38,
   "metadata": {},
   "outputs": [
    {
     "data": {
      "text/html": [
       "<div><div style = \"float: left;\"><span>12×10 DataFrame</span></div><div style = \"clear: both;\"></div></div><div class = \"data-frame\" style = \"overflow-x: scroll;\"><table class = \"data-frame\" style = \"margin-bottom: 6px;\"><thead><tr class = \"header\"><th class = \"rowNumber\" style = \"font-weight: bold; text-align: right;\">Row</th><th style = \"text-align: left;\">name</th><th style = \"text-align: left;\">stat_value</th><th style = \"text-align: left;\">time_stat</th><th style = \"text-align: left;\">dual_val</th><th style = \"text-align: left;\">pc_val</th><th style = \"text-align: left;\">iter</th><th style = \"text-align: left;\">time_pc</th><th style = \"text-align: left;\">val_bc</th><th style = \"text-align: left;\">status_bc</th><th style = \"text-align: left;\">time</th></tr><tr class = \"subheader headerLastRow\"><th class = \"rowNumber\" style = \"font-weight: bold; text-align: right;\"></th><th title = \"String31\" style = \"text-align: left;\">String31</th><th title = \"Float64\" style = \"text-align: left;\">Float64</th><th title = \"Float64\" style = \"text-align: left;\">Float64</th><th title = \"Union{Missing, Float64}\" style = \"text-align: left;\">Float64?</th><th title = \"Union{Missing, Float64}\" style = \"text-align: left;\">Float64?</th><th title = \"Union{Missing, Int64}\" style = \"text-align: left;\">Int64?</th><th title = \"Union{Missing, Float64}\" style = \"text-align: left;\">Float64?</th><th title = \"Union{Missing, Float64}\" style = \"text-align: left;\">Float64?</th><th title = \"Union{Missing, String15}\" style = \"text-align: left;\">String15?</th><th title = \"Union{Missing, Float64}\" style = \"text-align: left;\">Float64?</th></tr></thead><tbody><tr><td class = \"rowNumber\" style = \"font-weight: bold; text-align: right;\">1</td><td style = \"text-align: left;\">1000_USA-road-d.BAY.gr</td><td style = \"text-align: right;\">40117.0</td><td style = \"text-align: right;\">3.762</td><td style = \"text-align: right;\">48250.0</td><td style = \"font-style: italic; text-align: right;\">missing</td><td style = \"font-style: italic; text-align: right;\">missing</td><td style = \"font-style: italic; text-align: right;\">missing</td><td style = \"text-align: right;\">40117.0</td><td style = \"text-align: left;\">optimal</td><td style = \"text-align: right;\">19.661</td></tr><tr><td class = \"rowNumber\" style = \"font-weight: bold; text-align: right;\">2</td><td style = \"text-align: left;\">1000_USA-road-d.NY.gr</td><td style = \"text-align: right;\">36248.0</td><td style = \"text-align: right;\">2.778</td><td style = \"text-align: right;\">43329.0</td><td style = \"font-style: italic; text-align: right;\">missing</td><td style = \"font-style: italic; text-align: right;\">missing</td><td style = \"font-style: italic; text-align: right;\">missing</td><td style = \"text-align: right;\">36248.0</td><td style = \"text-align: left;\">optimal</td><td style = \"text-align: right;\">16.181</td></tr><tr><td class = \"rowNumber\" style = \"font-weight: bold; text-align: right;\">3</td><td style = \"text-align: left;\">100_USA-road-d.BAY.gr</td><td style = \"text-align: right;\">8818.0</td><td style = \"text-align: right;\">0.085</td><td style = \"text-align: right;\">10857.1</td><td style = \"font-style: italic; text-align: right;\">missing</td><td style = \"font-style: italic; text-align: right;\">missing</td><td style = \"font-style: italic; text-align: right;\">missing</td><td style = \"text-align: right;\">8818.0</td><td style = \"text-align: left;\">optimal</td><td style = \"text-align: right;\">0.134</td></tr><tr><td class = \"rowNumber\" style = \"font-weight: bold; text-align: right;\">4</td><td style = \"text-align: left;\">100_USA-road-d.COL.gr</td><td style = \"text-align: right;\">18930.0</td><td style = \"text-align: right;\">0.0599999</td><td style = \"text-align: right;\">25320.2</td><td style = \"font-style: italic; text-align: right;\">missing</td><td style = \"font-style: italic; text-align: right;\">missing</td><td style = \"font-style: italic; text-align: right;\">missing</td><td style = \"text-align: right;\">18930.0</td><td style = \"text-align: left;\">optimal</td><td style = \"text-align: right;\">0.13</td></tr><tr><td class = \"rowNumber\" style = \"font-weight: bold; text-align: right;\">5</td><td style = \"text-align: left;\">100_USA-road-d.NY.gr</td><td style = \"text-align: right;\">15274.0</td><td style = \"text-align: right;\">0.0470002</td><td style = \"text-align: right;\">33931.0</td><td style = \"font-style: italic; text-align: right;\">missing</td><td style = \"font-style: italic; text-align: right;\">missing</td><td style = \"font-style: italic; text-align: right;\">missing</td><td style = \"text-align: right;\">15274.0</td><td style = \"text-align: left;\">optimal</td><td style = \"text-align: right;\">0.245</td></tr><tr><td class = \"rowNumber\" style = \"font-weight: bold; text-align: right;\">6</td><td style = \"text-align: left;\">1100_USA-road-d.NY.gr</td><td style = \"text-align: right;\">49351.0</td><td style = \"text-align: right;\">6.309</td><td style = \"text-align: right;\">70089.2</td><td style = \"font-style: italic; text-align: right;\">missing</td><td style = \"font-style: italic; text-align: right;\">missing</td><td style = \"font-style: italic; text-align: right;\">missing</td><td style = \"text-align: right;\">57273.0</td><td style = \"text-align: left;\">feasible</td><td style = \"text-align: right;\">107.976</td></tr><tr><td class = \"rowNumber\" style = \"font-weight: bold; text-align: right;\">7</td><td style = \"text-align: left;\">1000_USA-road-d.BAY.gr</td><td style = \"text-align: right;\">40117.0</td><td style = \"text-align: right;\">3.762</td><td style = \"text-align: right;\">48250.0</td><td style = \"font-style: italic; text-align: right;\">missing</td><td style = \"font-style: italic; text-align: right;\">missing</td><td style = \"font-style: italic; text-align: right;\">missing</td><td style = \"text-align: right;\">48250.0</td><td style = \"text-align: left;\">feasible</td><td style = \"text-align: right;\">95.908</td></tr><tr><td class = \"rowNumber\" style = \"font-weight: bold; text-align: right;\">8</td><td style = \"text-align: left;\">1000_USA-road-d.NY.gr</td><td style = \"text-align: right;\">36248.0</td><td style = \"text-align: right;\">2.778</td><td style = \"text-align: right;\">43329.0</td><td style = \"font-style: italic; text-align: right;\">missing</td><td style = \"font-style: italic; text-align: right;\">missing</td><td style = \"font-style: italic; text-align: right;\">missing</td><td style = \"text-align: right;\">43329.0</td><td style = \"text-align: left;\">feasible</td><td style = \"text-align: right;\">91.117</td></tr><tr><td class = \"rowNumber\" style = \"font-weight: bold; text-align: right;\">9</td><td style = \"text-align: left;\">100_USA-road-d.BAY.gr</td><td style = \"text-align: right;\">8818.0</td><td style = \"text-align: right;\">0.085</td><td style = \"text-align: right;\">10857.1</td><td style = \"font-style: italic; text-align: right;\">missing</td><td style = \"font-style: italic; text-align: right;\">missing</td><td style = \"font-style: italic; text-align: right;\">missing</td><td style = \"text-align: right;\">10857.1</td><td style = \"text-align: left;\">feasible</td><td style = \"text-align: right;\">80.168</td></tr><tr><td class = \"rowNumber\" style = \"font-weight: bold; text-align: right;\">10</td><td style = \"text-align: left;\">100_USA-road-d.COL.gr</td><td style = \"text-align: right;\">18930.0</td><td style = \"text-align: right;\">0.0599999</td><td style = \"text-align: right;\">25320.2</td><td style = \"font-style: italic; text-align: right;\">missing</td><td style = \"font-style: italic; text-align: right;\">missing</td><td style = \"font-style: italic; text-align: right;\">missing</td><td style = \"text-align: right;\">25320.2</td><td style = \"text-align: left;\">feasible</td><td style = \"text-align: right;\">80.207</td></tr><tr><td class = \"rowNumber\" style = \"font-weight: bold; text-align: right;\">11</td><td style = \"text-align: left;\">100_USA-road-d.NY.gr</td><td style = \"text-align: right;\">15274.0</td><td style = \"text-align: right;\">0.0470002</td><td style = \"text-align: right;\">33931.0</td><td style = \"font-style: italic; text-align: right;\">missing</td><td style = \"font-style: italic; text-align: right;\">missing</td><td style = \"font-style: italic; text-align: right;\">missing</td><td style = \"text-align: right;\">20939.9</td><td style = \"text-align: left;\">feasible</td><td style = \"text-align: right;\">80.13</td></tr><tr><td class = \"rowNumber\" style = \"font-weight: bold; text-align: right;\">12</td><td style = \"text-align: left;\">1100_USA-road-d.NY.gr</td><td style = \"text-align: right;\">49351.0</td><td style = \"text-align: right;\">6.309</td><td style = \"text-align: right;\">70089.2</td><td style = \"font-style: italic; text-align: right;\">missing</td><td style = \"font-style: italic; text-align: right;\">missing</td><td style = \"font-style: italic; text-align: right;\">missing</td><td style = \"text-align: right;\">70089.2</td><td style = \"text-align: left;\">feasible</td><td style = \"text-align: right;\">96.49</td></tr></tbody></table></div>"
      ],
      "text/latex": [
       "\\begin{tabular}{r|cccccccc}\n",
       "\t& name & stat\\_value & time\\_stat & dual\\_val & pc\\_val & iter & time\\_pc & \\\\\n",
       "\t\\hline\n",
       "\t& String31 & Float64 & Float64 & Float64? & Float64? & Int64? & Float64? & \\\\\n",
       "\t\\hline\n",
       "\t1 & 1000\\_USA-road-d.BAY.gr & 40117.0 & 3.762 & 48250.0 & \\emph{missing} & \\emph{missing} & \\emph{missing} & $\\dots$ \\\\\n",
       "\t2 & 1000\\_USA-road-d.NY.gr & 36248.0 & 2.778 & 43329.0 & \\emph{missing} & \\emph{missing} & \\emph{missing} & $\\dots$ \\\\\n",
       "\t3 & 100\\_USA-road-d.BAY.gr & 8818.0 & 0.085 & 10857.1 & \\emph{missing} & \\emph{missing} & \\emph{missing} & $\\dots$ \\\\\n",
       "\t4 & 100\\_USA-road-d.COL.gr & 18930.0 & 0.0599999 & 25320.2 & \\emph{missing} & \\emph{missing} & \\emph{missing} & $\\dots$ \\\\\n",
       "\t5 & 100\\_USA-road-d.NY.gr & 15274.0 & 0.0470002 & 33931.0 & \\emph{missing} & \\emph{missing} & \\emph{missing} & $\\dots$ \\\\\n",
       "\t6 & 1100\\_USA-road-d.NY.gr & 49351.0 & 6.309 & 70089.2 & \\emph{missing} & \\emph{missing} & \\emph{missing} & $\\dots$ \\\\\n",
       "\t7 & 1000\\_USA-road-d.BAY.gr & 40117.0 & 3.762 & 48250.0 & \\emph{missing} & \\emph{missing} & \\emph{missing} & $\\dots$ \\\\\n",
       "\t8 & 1000\\_USA-road-d.NY.gr & 36248.0 & 2.778 & 43329.0 & \\emph{missing} & \\emph{missing} & \\emph{missing} & $\\dots$ \\\\\n",
       "\t9 & 100\\_USA-road-d.BAY.gr & 8818.0 & 0.085 & 10857.1 & \\emph{missing} & \\emph{missing} & \\emph{missing} & $\\dots$ \\\\\n",
       "\t10 & 100\\_USA-road-d.COL.gr & 18930.0 & 0.0599999 & 25320.2 & \\emph{missing} & \\emph{missing} & \\emph{missing} & $\\dots$ \\\\\n",
       "\t11 & 100\\_USA-road-d.NY.gr & 15274.0 & 0.0470002 & 33931.0 & \\emph{missing} & \\emph{missing} & \\emph{missing} & $\\dots$ \\\\\n",
       "\t12 & 1100\\_USA-road-d.NY.gr & 49351.0 & 6.309 & 70089.2 & \\emph{missing} & \\emph{missing} & \\emph{missing} & $\\dots$ \\\\\n",
       "\\end{tabular}\n"
      ],
      "text/plain": [
       "\u001b[1m12×10 DataFrame\u001b[0m\n",
       "\u001b[1m Row \u001b[0m│\u001b[1m name                   \u001b[0m\u001b[1m stat_value \u001b[0m\u001b[1m time_stat \u001b[0m\u001b[1m dual_val \u001b[0m\u001b[1m pc_val   \u001b[0m\u001b[1m iter\u001b[0m ⋯\n",
       "     │\u001b[90m String31               \u001b[0m\u001b[90m Float64    \u001b[0m\u001b[90m Float64   \u001b[0m\u001b[90m Float64? \u001b[0m\u001b[90m Float64? \u001b[0m\u001b[90m Int6\u001b[0m ⋯\n",
       "─────┼──────────────────────────────────────────────────────────────────────────\n",
       "   1 │ 1000_USA-road-d.BAY.gr     40117.0  3.762       48250.0 \u001b[90m  missing \u001b[0m\u001b[90m miss\u001b[0m ⋯\n",
       "   2 │ 1000_USA-road-d.NY.gr      36248.0  2.778       43329.0 \u001b[90m  missing \u001b[0m\u001b[90m miss\u001b[0m\n",
       "   3 │ 100_USA-road-d.BAY.gr       8818.0  0.085       10857.1 \u001b[90m  missing \u001b[0m\u001b[90m miss\u001b[0m\n",
       "   4 │ 100_USA-road-d.COL.gr      18930.0  0.0599999   25320.2 \u001b[90m  missing \u001b[0m\u001b[90m miss\u001b[0m\n",
       "   5 │ 100_USA-road-d.NY.gr       15274.0  0.0470002   33931.0 \u001b[90m  missing \u001b[0m\u001b[90m miss\u001b[0m ⋯\n",
       "   6 │ 1100_USA-road-d.NY.gr      49351.0  6.309       70089.2 \u001b[90m  missing \u001b[0m\u001b[90m miss\u001b[0m\n",
       "   7 │ 1000_USA-road-d.BAY.gr     40117.0  3.762       48250.0 \u001b[90m  missing \u001b[0m\u001b[90m miss\u001b[0m\n",
       "   8 │ 1000_USA-road-d.NY.gr      36248.0  2.778       43329.0 \u001b[90m  missing \u001b[0m\u001b[90m miss\u001b[0m\n",
       "   9 │ 100_USA-road-d.BAY.gr       8818.0  0.085       10857.1 \u001b[90m  missing \u001b[0m\u001b[90m miss\u001b[0m ⋯\n",
       "  10 │ 100_USA-road-d.COL.gr      18930.0  0.0599999   25320.2 \u001b[90m  missing \u001b[0m\u001b[90m miss\u001b[0m\n",
       "  11 │ 100_USA-road-d.NY.gr       15274.0  0.0470002   33931.0 \u001b[90m  missing \u001b[0m\u001b[90m miss\u001b[0m\n",
       "  12 │ 1100_USA-road-d.NY.gr      49351.0  6.309       70089.2 \u001b[90m  missing \u001b[0m\u001b[90m miss\u001b[0m\n",
       "\u001b[36m                                                               5 columns omitted\u001b[0m"
      ]
     },
     "metadata": {},
     "output_type": "display_data"
    }
   ],
   "source": [
    "stat_dual_bc[indexes_to_remove,:]"
   ]
  },
  {
   "cell_type": "code",
   "execution_count": 41,
   "metadata": {},
   "outputs": [
    {
     "data": {
      "text/html": [
       "<div><div style = \"float: left;\"><span>123×10 DataFrame</span></div><div style = \"float: right;\"><span style = \"font-style: italic;\">98 rows omitted</span></div><div style = \"clear: both;\"></div></div><div class = \"data-frame\" style = \"overflow-x: scroll;\"><table class = \"data-frame\" style = \"margin-bottom: 6px;\"><thead><tr class = \"header\"><th class = \"rowNumber\" style = \"font-weight: bold; text-align: right;\">Row</th><th style = \"text-align: left;\">name</th><th style = \"text-align: left;\">stat_value</th><th style = \"text-align: left;\">time_stat</th><th style = \"text-align: left;\">dual_val</th><th style = \"text-align: left;\">pc_val</th><th style = \"text-align: left;\">iter</th><th style = \"text-align: left;\">time_pc</th><th style = \"text-align: left;\">val_bc</th><th style = \"text-align: left;\">status_bc</th><th style = \"text-align: left;\">time</th></tr><tr class = \"subheader headerLastRow\"><th class = \"rowNumber\" style = \"font-weight: bold; text-align: right;\"></th><th title = \"String31\" style = \"text-align: left;\">String31</th><th title = \"Float64\" style = \"text-align: left;\">Float64</th><th title = \"Float64\" style = \"text-align: left;\">Float64</th><th title = \"Union{Missing, Float64}\" style = \"text-align: left;\">Float64?</th><th title = \"Union{Missing, Float64}\" style = \"text-align: left;\">Float64?</th><th title = \"Union{Missing, Int64}\" style = \"text-align: left;\">Int64?</th><th title = \"Union{Missing, Float64}\" style = \"text-align: left;\">Float64?</th><th title = \"Union{Missing, Float64}\" style = \"text-align: left;\">Float64?</th><th title = \"Union{Missing, String15}\" style = \"text-align: left;\">String15?</th><th title = \"Union{Missing, Float64}\" style = \"text-align: left;\">Float64?</th></tr></thead><tbody><tr><td class = \"rowNumber\" style = \"font-weight: bold; text-align: right;\">1</td><td style = \"text-align: left;\">20_USA-road-d.BAY.gr</td><td style = \"text-align: right;\">9365.0</td><td style = \"text-align: right;\">0.013</td><td style = \"text-align: right;\">15332.6</td><td style = \"text-align: right;\">15332.6</td><td style = \"text-align: right;\">45</td><td style = \"text-align: right;\">7.495</td><td style = \"text-align: right;\">9365.0</td><td style = \"text-align: left;\">optimal</td><td style = \"text-align: right;\">0.0370002</td></tr><tr><td class = \"rowNumber\" style = \"font-weight: bold; text-align: right;\">2</td><td style = \"text-align: left;\">1000_USA-road-d.COL.gr</td><td style = \"text-align: right;\">24068.0</td><td style = \"text-align: right;\">5.764</td><td style = \"text-align: right;\">29672.8</td><td style = \"font-style: italic; text-align: right;\">missing</td><td style = \"font-style: italic; text-align: right;\">missing</td><td style = \"font-style: italic; text-align: right;\">missing</td><td style = \"text-align: right;\">24068.0</td><td style = \"text-align: left;\">optimal</td><td style = \"text-align: right;\">17.625</td></tr><tr><td class = \"rowNumber\" style = \"font-weight: bold; text-align: right;\">3</td><td style = \"text-align: left;\">1100_USA-road-d.COL.gr</td><td style = \"text-align: right;\">34075.0</td><td style = \"text-align: right;\">9.959</td><td style = \"text-align: right;\">42766.5</td><td style = \"font-style: italic; text-align: right;\">missing</td><td style = \"font-style: italic; text-align: right;\">missing</td><td style = \"font-style: italic; text-align: right;\">missing</td><td style = \"text-align: right;\">32664.0</td><td style = \"text-align: left;\">optimal</td><td style = \"text-align: right;\">49.66</td></tr><tr><td class = \"rowNumber\" style = \"font-weight: bold; text-align: right;\">4</td><td style = \"text-align: left;\">1000_USA-road-d.BAY.gr</td><td style = \"text-align: right;\">40117.0</td><td style = \"text-align: right;\">3.762</td><td style = \"text-align: right;\">48250.0</td><td style = \"font-style: italic; text-align: right;\">missing</td><td style = \"font-style: italic; text-align: right;\">missing</td><td style = \"font-style: italic; text-align: right;\">missing</td><td style = \"text-align: right;\">48250.0</td><td style = \"text-align: left;\">feasible</td><td style = \"text-align: right;\">95.908</td></tr><tr><td class = \"rowNumber\" style = \"font-weight: bold; text-align: right;\">5</td><td style = \"text-align: left;\">1000_USA-road-d.NY.gr</td><td style = \"text-align: right;\">36248.0</td><td style = \"text-align: right;\">2.778</td><td style = \"text-align: right;\">43329.0</td><td style = \"font-style: italic; text-align: right;\">missing</td><td style = \"font-style: italic; text-align: right;\">missing</td><td style = \"font-style: italic; text-align: right;\">missing</td><td style = \"text-align: right;\">43329.0</td><td style = \"text-align: left;\">feasible</td><td style = \"text-align: right;\">91.117</td></tr><tr><td class = \"rowNumber\" style = \"font-weight: bold; text-align: right;\">6</td><td style = \"text-align: left;\">100_USA-road-d.BAY.gr</td><td style = \"text-align: right;\">8818.0</td><td style = \"text-align: right;\">0.085</td><td style = \"text-align: right;\">10857.1</td><td style = \"font-style: italic; text-align: right;\">missing</td><td style = \"font-style: italic; text-align: right;\">missing</td><td style = \"font-style: italic; text-align: right;\">missing</td><td style = \"text-align: right;\">10857.1</td><td style = \"text-align: left;\">feasible</td><td style = \"text-align: right;\">80.168</td></tr><tr><td class = \"rowNumber\" style = \"font-weight: bold; text-align: right;\">7</td><td style = \"text-align: left;\">100_USA-road-d.COL.gr</td><td style = \"text-align: right;\">18930.0</td><td style = \"text-align: right;\">0.0599999</td><td style = \"text-align: right;\">25320.2</td><td style = \"font-style: italic; text-align: right;\">missing</td><td style = \"font-style: italic; text-align: right;\">missing</td><td style = \"font-style: italic; text-align: right;\">missing</td><td style = \"text-align: right;\">25320.2</td><td style = \"text-align: left;\">feasible</td><td style = \"text-align: right;\">80.207</td></tr><tr><td class = \"rowNumber\" style = \"font-weight: bold; text-align: right;\">8</td><td style = \"text-align: left;\">100_USA-road-d.NY.gr</td><td style = \"text-align: right;\">15274.0</td><td style = \"text-align: right;\">0.0470002</td><td style = \"text-align: right;\">33931.0</td><td style = \"font-style: italic; text-align: right;\">missing</td><td style = \"font-style: italic; text-align: right;\">missing</td><td style = \"font-style: italic; text-align: right;\">missing</td><td style = \"text-align: right;\">20939.9</td><td style = \"text-align: left;\">feasible</td><td style = \"text-align: right;\">80.13</td></tr><tr><td class = \"rowNumber\" style = \"font-weight: bold; text-align: right;\">9</td><td style = \"text-align: left;\">1100_USA-road-d.NY.gr</td><td style = \"text-align: right;\">49351.0</td><td style = \"text-align: right;\">6.309</td><td style = \"text-align: right;\">70089.2</td><td style = \"font-style: italic; text-align: right;\">missing</td><td style = \"font-style: italic; text-align: right;\">missing</td><td style = \"font-style: italic; text-align: right;\">missing</td><td style = \"text-align: right;\">70089.2</td><td style = \"text-align: left;\">feasible</td><td style = \"text-align: right;\">96.49</td></tr><tr><td class = \"rowNumber\" style = \"font-weight: bold; text-align: right;\">10</td><td style = \"text-align: left;\">1200_USA-road-d.COL.gr</td><td style = \"text-align: right;\">34075.0</td><td style = \"text-align: right;\">13.165</td><td style = \"text-align: right;\">42766.5</td><td style = \"font-style: italic; text-align: right;\">missing</td><td style = \"font-style: italic; text-align: right;\">missing</td><td style = \"font-style: italic; text-align: right;\">missing</td><td style = \"text-align: right;\">42766.5</td><td style = \"text-align: left;\">feasible</td><td style = \"text-align: right;\">116.225</td></tr><tr><td class = \"rowNumber\" style = \"font-weight: bold; text-align: right;\">11</td><td style = \"text-align: left;\">1200_USA-road-d.NY.gr</td><td style = \"text-align: right;\">59590.0</td><td style = \"text-align: right;\">8.29</td><td style = \"text-align: right;\">72566.0</td><td style = \"font-style: italic; text-align: right;\">missing</td><td style = \"font-style: italic; text-align: right;\">missing</td><td style = \"font-style: italic; text-align: right;\">missing</td><td style = \"text-align: right;\">72566.0</td><td style = \"text-align: left;\">feasible</td><td style = \"text-align: right;\">102.602</td></tr><tr><td class = \"rowNumber\" style = \"font-weight: bold; text-align: right;\">12</td><td style = \"text-align: left;\">120_USA-road-d.BAY.gr</td><td style = \"text-align: right;\">10034.0</td><td style = \"text-align: right;\">0.096</td><td style = \"text-align: right;\">12219.0</td><td style = \"font-style: italic; text-align: right;\">missing</td><td style = \"font-style: italic; text-align: right;\">missing</td><td style = \"font-style: italic; text-align: right;\">missing</td><td style = \"text-align: right;\">12219.0</td><td style = \"text-align: left;\">feasible</td><td style = \"text-align: right;\">80.164</td></tr><tr><td class = \"rowNumber\" style = \"font-weight: bold; text-align: right;\">13</td><td style = \"text-align: left;\">120_USA-road-d.COL.gr</td><td style = \"text-align: right;\">18930.0</td><td style = \"text-align: right;\">0.072</td><td style = \"text-align: right;\">25582.6</td><td style = \"font-style: italic; text-align: right;\">missing</td><td style = \"font-style: italic; text-align: right;\">missing</td><td style = \"font-style: italic; text-align: right;\">missing</td><td style = \"text-align: right;\">25320.1</td><td style = \"text-align: left;\">feasible</td><td style = \"text-align: right;\">80.248</td></tr><tr><td style = \"text-align: right;\">&vellip;</td><td style = \"text-align: right;\">&vellip;</td><td style = \"text-align: right;\">&vellip;</td><td style = \"text-align: right;\">&vellip;</td><td style = \"text-align: right;\">&vellip;</td><td style = \"text-align: right;\">&vellip;</td><td style = \"text-align: right;\">&vellip;</td><td style = \"text-align: right;\">&vellip;</td><td style = \"text-align: right;\">&vellip;</td><td style = \"text-align: right;\">&vellip;</td><td style = \"text-align: right;\">&vellip;</td></tr><tr><td class = \"rowNumber\" style = \"font-weight: bold; text-align: right;\">112</td><td style = \"text-align: left;\">2400_USA-road-d.BAY.gr</td><td style = \"text-align: right;\">65317.0</td><td style = \"text-align: right;\">30.15</td><td style = \"font-style: italic; text-align: right;\">missing</td><td style = \"font-style: italic; text-align: right;\">missing</td><td style = \"font-style: italic; text-align: right;\">missing</td><td style = \"font-style: italic; text-align: right;\">missing</td><td style = \"text-align: right;\">-1.0</td><td style = \"text-align: left;\">not find</td><td style = \"text-align: right;\">170.589</td></tr><tr><td class = \"rowNumber\" style = \"font-weight: bold; text-align: right;\">113</td><td style = \"text-align: left;\">2400_USA-road-d.COL.gr</td><td style = \"text-align: right;\">39443.0</td><td style = \"text-align: right;\">100.29</td><td style = \"font-style: italic; text-align: right;\">missing</td><td style = \"font-style: italic; text-align: right;\">missing</td><td style = \"font-style: italic; text-align: right;\">missing</td><td style = \"font-style: italic; text-align: right;\">missing</td><td style = \"text-align: right;\">-1.0</td><td style = \"text-align: left;\">not find</td><td style = \"text-align: right;\">194.835</td></tr><tr><td class = \"rowNumber\" style = \"font-weight: bold; text-align: right;\">114</td><td style = \"text-align: left;\">2400_USA-road-d.NY.gr</td><td style = \"text-align: right;\">60819.0</td><td style = \"text-align: right;\">151.315</td><td style = \"font-style: italic; text-align: right;\">missing</td><td style = \"font-style: italic; text-align: right;\">missing</td><td style = \"font-style: italic; text-align: right;\">missing</td><td style = \"font-style: italic; text-align: right;\">missing</td><td style = \"text-align: right;\">-1.0</td><td style = \"text-align: left;\">not find</td><td style = \"text-align: right;\">155.255</td></tr><tr><td class = \"rowNumber\" style = \"font-weight: bold; text-align: right;\">115</td><td style = \"text-align: left;\">250_USA-road-d.BAY.gr</td><td style = \"text-align: right;\">14247.0</td><td style = \"text-align: right;\">0.369</td><td style = \"text-align: right;\">19248.0</td><td style = \"font-style: italic; text-align: right;\">missing</td><td style = \"font-style: italic; text-align: right;\">missing</td><td style = \"font-style: italic; text-align: right;\">missing</td><td style = \"text-align: right;\">19248.0</td><td style = \"text-align: left;\">feasible</td><td style = \"text-align: right;\">80.731</td></tr><tr><td class = \"rowNumber\" style = \"font-weight: bold; text-align: right;\">116</td><td style = \"text-align: left;\">250_USA-road-d.COL.gr</td><td style = \"text-align: right;\">24880.0</td><td style = \"text-align: right;\">0.755</td><td style = \"text-align: right;\">32794.3</td><td style = \"font-style: italic; text-align: right;\">missing</td><td style = \"font-style: italic; text-align: right;\">missing</td><td style = \"font-style: italic; text-align: right;\">missing</td><td style = \"text-align: right;\">32794.3</td><td style = \"text-align: left;\">feasible</td><td style = \"text-align: right;\">80.514</td></tr><tr><td class = \"rowNumber\" style = \"font-weight: bold; text-align: right;\">117</td><td style = \"text-align: left;\">250_USA-road-d.NY.gr</td><td style = \"text-align: right;\">29136.0</td><td style = \"text-align: right;\">0.219</td><td style = \"text-align: right;\">37057.4</td><td style = \"font-style: italic; text-align: right;\">missing</td><td style = \"font-style: italic; text-align: right;\">missing</td><td style = \"font-style: italic; text-align: right;\">missing</td><td style = \"text-align: right;\">37057.4</td><td style = \"text-align: left;\">feasible</td><td style = \"text-align: right;\">80.543</td></tr><tr><td class = \"rowNumber\" style = \"font-weight: bold; text-align: right;\">118</td><td style = \"text-align: left;\">2500_USA-road-d.BAY.gr</td><td style = \"text-align: right;\">62022.0</td><td style = \"text-align: right;\">35.714</td><td style = \"font-style: italic; text-align: right;\">missing</td><td style = \"font-style: italic; text-align: right;\">missing</td><td style = \"font-style: italic; text-align: right;\">missing</td><td style = \"font-style: italic; text-align: right;\">missing</td><td style = \"text-align: right;\">-1.0</td><td style = \"text-align: left;\">not find</td><td style = \"text-align: right;\">154.787</td></tr><tr><td class = \"rowNumber\" style = \"font-weight: bold; text-align: right;\">119</td><td style = \"text-align: left;\">2500_USA-road-d.COL.gr</td><td style = \"text-align: right;\">39696.0</td><td style = \"text-align: right;\">74.772</td><td style = \"font-style: italic; text-align: right;\">missing</td><td style = \"font-style: italic; text-align: right;\">missing</td><td style = \"font-style: italic; text-align: right;\">missing</td><td style = \"font-style: italic; text-align: right;\">missing</td><td style = \"text-align: right;\">47977.9</td><td style = \"text-align: left;\">feasible</td><td style = \"text-align: right;\">197.9</td></tr><tr><td class = \"rowNumber\" style = \"font-weight: bold; text-align: right;\">120</td><td style = \"text-align: left;\">2500_USA-road-d.NY.gr</td><td style = \"text-align: right;\">60819.0</td><td style = \"text-align: right;\">129.936</td><td style = \"font-style: italic; text-align: right;\">missing</td><td style = \"font-style: italic; text-align: right;\">missing</td><td style = \"font-style: italic; text-align: right;\">missing</td><td style = \"font-style: italic; text-align: right;\">missing</td><td style = \"text-align: right;\">-1.0</td><td style = \"text-align: left;\">not find</td><td style = \"text-align: right;\">157.276</td></tr><tr><td class = \"rowNumber\" style = \"font-weight: bold; text-align: right;\">121</td><td style = \"text-align: left;\">80_USA-road-d.BAY.gr</td><td style = \"text-align: right;\">8818.0</td><td style = \"text-align: right;\">0.072</td><td style = \"text-align: right;\">10857.1</td><td style = \"font-style: italic; text-align: right;\">missing</td><td style = \"font-style: italic; text-align: right;\">missing</td><td style = \"font-style: italic; text-align: right;\">missing</td><td style = \"font-style: italic; text-align: right;\">missing</td><td style = \"font-style: italic; text-align: left;\">missing</td><td style = \"font-style: italic; text-align: right;\">missing</td></tr><tr><td class = \"rowNumber\" style = \"font-weight: bold; text-align: right;\">122</td><td style = \"text-align: left;\">80_USA-road-d.COL.gr</td><td style = \"text-align: right;\">10892.0</td><td style = \"text-align: right;\">0.0510001</td><td style = \"text-align: right;\">14277.5</td><td style = \"font-style: italic; text-align: right;\">missing</td><td style = \"font-style: italic; text-align: right;\">missing</td><td style = \"font-style: italic; text-align: right;\">missing</td><td style = \"font-style: italic; text-align: right;\">missing</td><td style = \"font-style: italic; text-align: left;\">missing</td><td style = \"font-style: italic; text-align: right;\">missing</td></tr><tr><td class = \"rowNumber\" style = \"font-weight: bold; text-align: right;\">123</td><td style = \"text-align: left;\">80_USA-road-d.NY.gr</td><td style = \"text-align: right;\">12244.0</td><td style = \"text-align: right;\">0.0599999</td><td style = \"text-align: right;\">31775.8</td><td style = \"font-style: italic; text-align: right;\">missing</td><td style = \"font-style: italic; text-align: right;\">missing</td><td style = \"font-style: italic; text-align: right;\">missing</td><td style = \"font-style: italic; text-align: right;\">missing</td><td style = \"font-style: italic; text-align: left;\">missing</td><td style = \"font-style: italic; text-align: right;\">missing</td></tr></tbody></table></div>"
      ],
      "text/latex": [
       "\\begin{tabular}{r|cccccccc}\n",
       "\t& name & stat\\_value & time\\_stat & dual\\_val & pc\\_val & iter & time\\_pc & \\\\\n",
       "\t\\hline\n",
       "\t& String31 & Float64 & Float64 & Float64? & Float64? & Int64? & Float64? & \\\\\n",
       "\t\\hline\n",
       "\t1 & 20\\_USA-road-d.BAY.gr & 9365.0 & 0.013 & 15332.6 & 15332.6 & 45 & 7.495 & $\\dots$ \\\\\n",
       "\t2 & 1000\\_USA-road-d.COL.gr & 24068.0 & 5.764 & 29672.8 & \\emph{missing} & \\emph{missing} & \\emph{missing} & $\\dots$ \\\\\n",
       "\t3 & 1100\\_USA-road-d.COL.gr & 34075.0 & 9.959 & 42766.5 & \\emph{missing} & \\emph{missing} & \\emph{missing} & $\\dots$ \\\\\n",
       "\t4 & 1000\\_USA-road-d.BAY.gr & 40117.0 & 3.762 & 48250.0 & \\emph{missing} & \\emph{missing} & \\emph{missing} & $\\dots$ \\\\\n",
       "\t5 & 1000\\_USA-road-d.NY.gr & 36248.0 & 2.778 & 43329.0 & \\emph{missing} & \\emph{missing} & \\emph{missing} & $\\dots$ \\\\\n",
       "\t6 & 100\\_USA-road-d.BAY.gr & 8818.0 & 0.085 & 10857.1 & \\emph{missing} & \\emph{missing} & \\emph{missing} & $\\dots$ \\\\\n",
       "\t7 & 100\\_USA-road-d.COL.gr & 18930.0 & 0.0599999 & 25320.2 & \\emph{missing} & \\emph{missing} & \\emph{missing} & $\\dots$ \\\\\n",
       "\t8 & 100\\_USA-road-d.NY.gr & 15274.0 & 0.0470002 & 33931.0 & \\emph{missing} & \\emph{missing} & \\emph{missing} & $\\dots$ \\\\\n",
       "\t9 & 1100\\_USA-road-d.NY.gr & 49351.0 & 6.309 & 70089.2 & \\emph{missing} & \\emph{missing} & \\emph{missing} & $\\dots$ \\\\\n",
       "\t10 & 1200\\_USA-road-d.COL.gr & 34075.0 & 13.165 & 42766.5 & \\emph{missing} & \\emph{missing} & \\emph{missing} & $\\dots$ \\\\\n",
       "\t11 & 1200\\_USA-road-d.NY.gr & 59590.0 & 8.29 & 72566.0 & \\emph{missing} & \\emph{missing} & \\emph{missing} & $\\dots$ \\\\\n",
       "\t12 & 120\\_USA-road-d.BAY.gr & 10034.0 & 0.096 & 12219.0 & \\emph{missing} & \\emph{missing} & \\emph{missing} & $\\dots$ \\\\\n",
       "\t13 & 120\\_USA-road-d.COL.gr & 18930.0 & 0.072 & 25582.6 & \\emph{missing} & \\emph{missing} & \\emph{missing} & $\\dots$ \\\\\n",
       "\t14 & 120\\_USA-road-d.NY.gr & 18916.0 & 0.0839999 & 30613.1 & \\emph{missing} & \\emph{missing} & \\emph{missing} & $\\dots$ \\\\\n",
       "\t15 & 1400\\_USA-road-d.BAY.gr & 67712.0 & 10.294 & 79995.3 & \\emph{missing} & \\emph{missing} & \\emph{missing} & $\\dots$ \\\\\n",
       "\t16 & 140\\_USA-road-d.BAY.gr & 12169.0 & 0.148 & 15643.7 & \\emph{missing} & \\emph{missing} & \\emph{missing} & $\\dots$ \\\\\n",
       "\t17 & 140\\_USA-road-d.COL.gr & 18301.0 & 0.0710001 & 24651.0 & \\emph{missing} & \\emph{missing} & \\emph{missing} & $\\dots$ \\\\\n",
       "\t18 & 140\\_USA-road-d.NY.gr & 25498.0 & 0.108 & 33079.2 & \\emph{missing} & \\emph{missing} & \\emph{missing} & $\\dots$ \\\\\n",
       "\t19 & 1500\\_USA-road-d.NY.gr & 53912.0 & 37.359 & \\emph{missing} & \\emph{missing} & \\emph{missing} & \\emph{missing} & $\\dots$ \\\\\n",
       "\t20 & 20\\_USA-road-d.COL.gr & 5357.0 & 0.00999999 & 7076.52 & \\emph{missing} & \\emph{missing} & \\emph{missing} & $\\dots$ \\\\\n",
       "\t21 & 20\\_USA-road-d.NY.gr & 6848.0 & 0.00899982 & 9454.47 & 9454.47 & 15 & 1.049 & $\\dots$ \\\\\n",
       "\t22 & 40\\_USA-road-d.BAY.gr & 7856.0 & 4.401 & 12664.3 & 12664.3 & 57 & 12.319 & $\\dots$ \\\\\n",
       "\t23 & 40\\_USA-road-d.COL.gr & 10084.0 & 0.0190001 & 15059.0 & 15059.0 & 336 & 174.027 & $\\dots$ \\\\\n",
       "\t24 & 40\\_USA-road-d.NY.gr & 12410.0 & 0.0250001 & 17330.1 & 17330.1 & 126 & 45.354 & $\\dots$ \\\\\n",
       "\t$\\dots$ & $\\dots$ & $\\dots$ & $\\dots$ & $\\dots$ & $\\dots$ & $\\dots$ & $\\dots$ &  \\\\\n",
       "\\end{tabular}\n"
      ],
      "text/plain": [
       "\u001b[1m123×10 DataFrame\u001b[0m\n",
       "\u001b[1m Row \u001b[0m│\u001b[1m name                   \u001b[0m\u001b[1m stat_value \u001b[0m\u001b[1m time_stat   \u001b[0m\u001b[1m dual_val  \u001b[0m\u001b[1m pc_val    \u001b[0m\u001b[1m \u001b[0m ⋯\n",
       "     │\u001b[90m String31               \u001b[0m\u001b[90m Float64    \u001b[0m\u001b[90m Float64     \u001b[0m\u001b[90m Float64?  \u001b[0m\u001b[90m Float64?  \u001b[0m\u001b[90m \u001b[0m ⋯\n",
       "─────┼──────────────────────────────────────────────────────────────────────────\n",
       "   1 │ 20_USA-road-d.BAY.gr        9365.0    0.013        15332.6    15332.6   ⋯\n",
       "   2 │ 1000_USA-road-d.COL.gr     24068.0    5.764        29672.8 \u001b[90m missing   \u001b[0m\u001b[90m \u001b[0m\n",
       "   3 │ 1100_USA-road-d.COL.gr     34075.0    9.959        42766.5 \u001b[90m missing   \u001b[0m\u001b[90m \u001b[0m\n",
       "   4 │ 1000_USA-road-d.BAY.gr     40117.0    3.762        48250.0 \u001b[90m missing   \u001b[0m\u001b[90m \u001b[0m\n",
       "   5 │ 1000_USA-road-d.NY.gr      36248.0    2.778        43329.0 \u001b[90m missing   \u001b[0m\u001b[90m \u001b[0m ⋯\n",
       "   6 │ 100_USA-road-d.BAY.gr       8818.0    0.085        10857.1 \u001b[90m missing   \u001b[0m\u001b[90m \u001b[0m\n",
       "   7 │ 100_USA-road-d.COL.gr      18930.0    0.0599999    25320.2 \u001b[90m missing   \u001b[0m\u001b[90m \u001b[0m\n",
       "   8 │ 100_USA-road-d.NY.gr       15274.0    0.0470002    33931.0 \u001b[90m missing   \u001b[0m\u001b[90m \u001b[0m\n",
       "  ⋮  │           ⋮                 ⋮            ⋮           ⋮          ⋮       ⋱\n",
       " 117 │ 250_USA-road-d.NY.gr       29136.0    0.219        37057.4 \u001b[90m missing   \u001b[0m\u001b[90m \u001b[0m ⋯\n",
       " 118 │ 2500_USA-road-d.BAY.gr     62022.0   35.714     \u001b[90m missing   \u001b[0m\u001b[90m missing   \u001b[0m\u001b[90m \u001b[0m\n",
       " 119 │ 2500_USA-road-d.COL.gr     39696.0   74.772     \u001b[90m missing   \u001b[0m\u001b[90m missing   \u001b[0m\u001b[90m \u001b[0m\n",
       " 120 │ 2500_USA-road-d.NY.gr      60819.0  129.936     \u001b[90m missing   \u001b[0m\u001b[90m missing   \u001b[0m\u001b[90m \u001b[0m\n",
       " 121 │ 80_USA-road-d.BAY.gr        8818.0    0.072        10857.1 \u001b[90m missing   \u001b[0m\u001b[90m \u001b[0m ⋯\n",
       " 122 │ 80_USA-road-d.COL.gr       10892.0    0.0510001    14277.5 \u001b[90m missing   \u001b[0m\u001b[90m \u001b[0m\n",
       " 123 │ 80_USA-road-d.NY.gr        12244.0    0.0599999    31775.8 \u001b[90m missing   \u001b[0m\u001b[90m \u001b[0m\n",
       "\u001b[36m                                                  5 columns and 108 rows omitted\u001b[0m"
      ]
     },
     "metadata": {},
     "output_type": "display_data"
    }
   ],
   "source": [
    "df=stat_dual_bc[Not([2,9,5,6,7,4]),:]"
   ]
  },
  {
   "cell_type": "code",
   "execution_count": 43,
   "metadata": {},
   "outputs": [
    {
     "data": {
      "text/html": [
       "<div><div style = \"float: left;\"><span>5×4 DataFrame</span></div><div style = \"clear: both;\"></div></div><div class = \"data-frame\" style = \"overflow-x: scroll;\"><table class = \"data-frame\" style = \"margin-bottom: 6px;\"><thead><tr class = \"header\"><th class = \"rowNumber\" style = \"font-weight: bold; text-align: right;\">Row</th><th style = \"text-align: left;\">name</th><th style = \"text-align: left;\">pc_val</th><th style = \"text-align: left;\">iter</th><th style = \"text-align: left;\">time_pc</th></tr><tr class = \"subheader headerLastRow\"><th class = \"rowNumber\" style = \"font-weight: bold; text-align: right;\"></th><th title = \"String31\" style = \"text-align: left;\">String31</th><th title = \"Float64\" style = \"text-align: left;\">Float64</th><th title = \"Int64\" style = \"text-align: left;\">Int64</th><th title = \"Float64\" style = \"text-align: left;\">Float64</th></tr></thead><tbody><tr><td class = \"rowNumber\" style = \"font-weight: bold; text-align: right;\">1</td><td style = \"text-align: left;\">1000_USA-road-d.BAY.gr</td><td style = \"text-align: right;\">45025.7</td><td style = \"text-align: right;\">18</td><td style = \"text-align: right;\">191.344</td></tr><tr><td class = \"rowNumber\" style = \"font-weight: bold; text-align: right;\">2</td><td style = \"text-align: left;\">1000_USA-road-d.COL.gr</td><td style = \"text-align: right;\">24119.2</td><td style = \"text-align: right;\">14</td><td style = \"text-align: right;\">192.392</td></tr><tr><td class = \"rowNumber\" style = \"font-weight: bold; text-align: right;\">3</td><td style = \"text-align: left;\">1000_USA-road-d.NY.gr</td><td style = \"text-align: right;\">37840.7</td><td style = \"text-align: right;\">13</td><td style = \"text-align: right;\">189.916</td></tr><tr><td class = \"rowNumber\" style = \"font-weight: bold; text-align: right;\">4</td><td style = \"text-align: left;\">100_USA-road-d.BAY.gr</td><td style = \"text-align: right;\">9884.89</td><td style = \"text-align: right;\">83</td><td style = \"text-align: right;\">194.116</td></tr><tr><td class = \"rowNumber\" style = \"font-weight: bold; text-align: right;\">5</td><td style = \"text-align: left;\">100_USA-road-d.COL.gr</td><td style = \"text-align: right;\">24397.5</td><td style = \"text-align: right;\">108</td><td style = \"text-align: right;\">180.222</td></tr></tbody></table></div>"
      ],
      "text/latex": [
       "\\begin{tabular}{r|cccc}\n",
       "\t& name & pc\\_val & iter & time\\_pc\\\\\n",
       "\t\\hline\n",
       "\t& String31 & Float64 & Int64 & Float64\\\\\n",
       "\t\\hline\n",
       "\t1 & 1000\\_USA-road-d.BAY.gr & 45025.7 & 18 & 191.344 \\\\\n",
       "\t2 & 1000\\_USA-road-d.COL.gr & 24119.2 & 14 & 192.392 \\\\\n",
       "\t3 & 1000\\_USA-road-d.NY.gr & 37840.7 & 13 & 189.916 \\\\\n",
       "\t4 & 100\\_USA-road-d.BAY.gr & 9884.89 & 83 & 194.116 \\\\\n",
       "\t5 & 100\\_USA-road-d.COL.gr & 24397.5 & 108 & 180.222 \\\\\n",
       "\\end{tabular}\n"
      ],
      "text/plain": [
       "\u001b[1m5×4 DataFrame\u001b[0m\n",
       "\u001b[1m Row \u001b[0m│\u001b[1m name                   \u001b[0m\u001b[1m pc_val   \u001b[0m\u001b[1m iter  \u001b[0m\u001b[1m time_pc \u001b[0m\n",
       "     │\u001b[90m String31               \u001b[0m\u001b[90m Float64  \u001b[0m\u001b[90m Int64 \u001b[0m\u001b[90m Float64 \u001b[0m\n",
       "─────┼──────────────────────────────────────────────────\n",
       "   1 │ 1000_USA-road-d.BAY.gr  45025.7      18  191.344\n",
       "   2 │ 1000_USA-road-d.COL.gr  24119.2      14  192.392\n",
       "   3 │ 1000_USA-road-d.NY.gr   37840.7      13  189.916\n",
       "   4 │ 100_USA-road-d.BAY.gr    9884.89     83  194.116\n",
       "   5 │ 100_USA-road-d.COL.gr   24397.5     108  180.222"
      ]
     },
     "metadata": {},
     "output_type": "display_data"
    }
   ],
   "source": [
    "r_pc=DataFrame(CSV.File(\"result_PC.csv\",header=true))\n",
    "r_pc[1:5,:]"
   ]
  },
  {
   "cell_type": "code",
   "execution_count": 49,
   "metadata": {},
   "outputs": [
    {
     "ename": "MethodError",
     "evalue": "MethodError: no method matching merge!(::DataFrame, ::DataFrame; on::Symbol)\n\nClosest candidates are:\n  merge!(!Matched::Union{Function, Type}, ::Any...) got unsupported keyword argument \"on\"\n   @ Base abstractdict.jl:289\n",
     "output_type": "error",
     "traceback": [
      "MethodError: no method matching merge!(::DataFrame, ::DataFrame; on::Symbol)\n",
      "\n",
      "Closest candidates are:\n",
      "  merge!(!Matched::Union{Function, Type}, ::Any...) got unsupported keyword argument \"on\"\n",
      "   @ Base abstractdict.jl:289\n",
      "\n",
      "\n",
      "Stacktrace:\n",
      " [1] top-level scope\n",
      "   @ c:\\Users\\Boss\\Documents\\Telecom Paris\\MPRO\\PROJ\\statique_courtChemin.ipynb:2"
     ]
    }
   ],
   "source": [
    "df_2=df\n",
    "\n",
    "df_2.pc_val="
   ]
  },
  {
   "cell_type": "code",
   "execution_count": null,
   "metadata": {},
   "outputs": [],
   "source": []
  }
 ],
 "metadata": {
  "kernelspec": {
   "display_name": "Julia 1.9.3",
   "language": "julia",
   "name": "julia-1.9"
  },
  "language_info": {
   "file_extension": ".jl",
   "mimetype": "application/julia",
   "name": "julia",
   "version": "1.9.3"
  },
  "orig_nbformat": 4
 },
 "nbformat": 4,
 "nbformat_minor": 2
}
