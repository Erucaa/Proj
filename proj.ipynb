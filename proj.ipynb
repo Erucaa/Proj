{
 "cells": [
  {
   "cell_type": "code",
   "execution_count": 1,
   "metadata": {},
   "outputs": [],
   "source": [
    "using JuMP;\n",
    "using CPLEX;"
   ]
  },
  {
   "cell_type": "code",
   "execution_count": 2,
   "metadata": {},
   "outputs": [
    {
     "data": {
      "text/plain": [
       "extraire_array (generic function with 1 method)"
      ]
     },
     "metadata": {},
     "output_type": "display_data"
    }
   ],
   "source": [
    "function extraire_array(str)\n",
    "    matches = match(r\"\\[([\\d,\\s]+)\\]\", str)\n",
    "# Если нашли совпадение, извлекаем числа и преобразуем их в массив\n",
    "    if matches !== nothing\n",
    "        p_values = parse.(Int64, split(matches.captures[1], \",\"))\n",
    "        return p_values;\n",
    "    end\n",
    "end"
   ]
  },
  {
   "cell_type": "code",
   "execution_count": 3,
   "metadata": {},
   "outputs": [
    {
     "data": {
      "text/plain": [
       "dataFiles (generic function with 1 method)"
      ]
     },
     "metadata": {},
     "output_type": "display_data"
    }
   ],
   "source": [
    "function dataFiles(dirName::String) #ecrit tous les noms des fichoer qu ont .gr \n",
    "    names=[]\n",
    "    for file in readdir(dirName)\n",
    "        if occursin(\".gr\",file)\n",
    "            push!(names,file)\n",
    "        end\n",
    "    end\n",
    "    return names\n",
    "end\n"
   ]
  },
  {
   "cell_type": "code",
   "execution_count": 4,
   "metadata": {},
   "outputs": [
    {
     "data": {
      "text/plain": [
       "readfile (generic function with 1 method)"
      ]
     },
     "metadata": {},
     "output_type": "display_data"
    }
   ],
   "source": [
    "function readfile(namefile::String)\n",
    "\n",
    "    n=0;\n",
    "    s=0;\n",
    "    t=0;\n",
    "    S=0;\n",
    "    d1=0;\n",
    "    d2=0;\n",
    "    p=[];\n",
    "    ph=[];\n",
    "    flag = false;\n",
    "    AdjMat=[];\n",
    "    N=Dict{Int,Vector{Int}}()\n",
    "\n",
    "    d=[];\n",
    "    D=[];\n",
    "\n",
    "    if isfile(namefile)\n",
    "        file=open(namefile,\"r\")\n",
    "        data=readlines(file);\n",
    "        for line in data\n",
    "            str=split(line,\" \")\n",
    "            if (flag) ## on lit matrice d'adjeccance\n",
    "                str[end]=chop(str[4])\n",
    "                numbers = parse.(Int64,str[1:3]);\n",
    "                d[numbers[1],numbers[2]]=numbers[3];\n",
    "                AdjMat[numbers[1],numbers[2]]=1;\n",
    "                push!(get!(N,numbers[1],[]),numbers[2])\n",
    "                D[numbers[1],numbers[2]]=parse(Float64,str[4]);\n",
    "            end\n",
    "            if (str[1]==\"n\")\n",
    "                n=parse(Int64,str[3]);\n",
    "                d=zeros(Int64,n,n);\n",
    "                D=zeros(Float64,n,n);\n",
    "                AdjMat=zeros(Int64,n,n);\n",
    "            end\n",
    "\n",
    "            if (str[1]==\"s\")\n",
    "                s=parse(Int64,str[3]);\n",
    "            end\n",
    "            \n",
    "            if (str[1]==\"t\")\n",
    "                t=parse(Int64,str[3]);\n",
    "            end\n",
    "            if (str[1]==\"S\")\n",
    "                S=parse(Int64,str[3])\n",
    "            end\n",
    "\n",
    "            if (str[1]==\"d1\" )\n",
    "                d1=parse(Int64,str[3]);\n",
    "            end\n",
    "            if (str[1]==\"d2\")\n",
    "                d2=parse(Int64,str[3]);\n",
    "            end\n",
    "            \n",
    "            if (str[1]==\"p\")\n",
    "                p=extraire_array(join(str[3:end], \" \"))\n",
    "            end\n",
    "\n",
    "            if (str[1]==\"ph\")\n",
    "                ph=extraire_array(join(str[3:end], \" \"))\n",
    "            end\n",
    "\n",
    "            if (str[1]==\"Mat\")\n",
    "                flag= true;\n",
    "            end\n",
    "        end\n",
    "    end\n",
    "    return(n,s,t,S,d1,d2,p,ph,d,D,AdjMat)\n",
    "end"
   ]
  },
  {
   "cell_type": "code",
   "execution_count": null,
   "metadata": {},
   "outputs": [],
   "source": [
    "name = \"20_USA-road-d.NY.gr\""
   ]
  },
  {
   "cell_type": "code",
   "execution_count": null,
   "metadata": {},
   "outputs": [],
   "source": [
    "# parametres a definir n, s, t, S, d1,d2, p, ph\n",
    "n,s,t,S,d1,d2,p,ph,d,D,AdjMat=readfile(name)"
   ]
  },
  {
   "cell_type": "code",
   "execution_count": null,
   "metadata": {},
   "outputs": [],
   "source": [
    "# variable de base: x_ij, y_i \n",
    "\n",
    "@variable(m, x[1:n,1:n], Bin)\n",
    "@variable(m, y[1:n],Bin)\n",
    "\n",
    "\n",
    "# Contraint de base\n",
    "@constraint(m,[i in 1:n, j in 1:n], x[i,j]<= y[j])\n",
    "@constraint(m,[i in 1:n, j in 1:n], x[i,j]<= y[i])\n",
    "@constraint(m,[i in 1:n, j in 1:n], x[i,j]<=AdjMat[i,j])\n",
    "@constraint(m,sum(x[s,j] for j in 1:n)- sum(x[j,s] for j in 1:n) ==1)\n",
    "@constraint(m,sum(x[t,j] for j in 1:n)- sum(x[j,t] for j in 1:n) == -1)\n",
    "\n",
    "for i in 1:n\n",
    "    if i != s && i != t\n",
    "        @constraint(m, sum(x[i, j] for j in 1:n) - sum(x[j, i] for j in 1:n) == 0)\n",
    "    end\n",
    "end\n",
    "\n",
    "## Variable par dualisation\n",
    "\n",
    "@variable(m, a >=0)\n",
    "@variable(m, b[1:n] >=0)\n",
    "@variable(m, g>=0)\n",
    "@variable(m, l[1:n,1:n] >=0)\n",
    "\n",
    "#constraint dualisation\n",
    "\n",
    "@constraint(m, [i in 1:n], a + b[i] >= y[i] * ph[i])\n",
    "@constraint(m, [i in 1:n, j in 1:n], l[i,j]+g>= x[i,j] * d[i,j])\n",
    "@constraint(m, sum(y[i]*p[i] + b[i]*2 for i in 1:n) + a*d2 <= S)\n",
    "\n",
    "# obkectif function:\n",
    "@objective(m, Min, sum(x[i,j]*d[i,j]+l[i,j]*D[i,j] for i in 1:n, j in 1:n) + g*d1 );"
   ]
  },
  {
   "cell_type": "code",
   "execution_count": null,
   "metadata": {},
   "outputs": [],
   "source": [
    "# Résolution d’un modèle\n",
    "optimize!(m)\n",
    "\n",
    "# Récupération du status de la résolution\n",
    "feasibleSolutionFound = primal_status(m) == MOI.FEASIBLE_POINT\n",
    "isOptimal = termination_status(m) == MOI.OPTIMAL\n",
    "if feasibleSolutionFound\n",
    "    println(\"Probleme resolu:\")\n",
    "    #Valeur objectif\n",
    "    println(\"Valeur de l'objectif : \",Jumodel_BC.objective_value(m))\n",
    "    # Récupération des valeurs d’une variable\n",
    "    vy = Jumodel_BC.value.(y)\n",
    "    vg= Jumodel_BC.value(g)\n",
    "    va = Jumodel_BC.value(a)\n",
    "    vb=JuMP.value.(b)\n",
    "    vX=JuMP.value.(x[:,:])\n",
    "    vL=JuMP.value.(l[:,:])\n",
    "   # print(\"y: \")\n",
    "    #println(vy)\n",
    "   # print(\"gamma: \")\n",
    "    #println(vg)\n",
    "    #print(\"alpha: \")\n",
    "    #println(va)\n",
    "end\n",
    "\n"
   ]
  },
  {
   "cell_type": "code",
   "execution_count": null,
   "metadata": {},
   "outputs": [],
   "source": []
  },
  {
   "cell_type": "code",
   "execution_count": 24,
   "metadata": {},
   "outputs": [
    {
     "data": {
      "text/plain": [
       "DualModel (generic function with 1 method)"
      ]
     },
     "metadata": {},
     "output_type": "display_data"
    }
   ],
   "source": [
    "## Resoulution par modele de prof:\n",
    "\n",
    "function DualModel(n,s,t,S,d1,d2,p,ph,d,D,AdjMat)\n",
    "    \n",
    "    prof=Model(CPLEX.Optimizer)\n",
    "    set_optimizer_attribute(prof, \"CPX_PARAM_SCRIND\", 0)\n",
    "    set_optimizer_attribute(prof, \"CPX_PARAM_TILIM\", 300)\n",
    "    # variable de base: w_ij, q_i \n",
    "\n",
    "    @variable(prof,x[1:n,1:n], Bin)\n",
    "    @variable(prof, y[1:n],Bin)\n",
    "\n",
    "    # Contraint de base\n",
    "    @constraint(prof,[i in 1:n;i!=t], y[i]==sum(x[i,j] for j in 1:n if AdjMat[i,j]==1))\n",
    "    @constraint(prof, y[t]==sum(x[i,t] for i in 1:n if AdjMat[i,t]==1))\n",
    "    @constraint(prof,sum(x[s,j] for j in 1:n if AdjMat[s,j]==1)\n",
    "        - sum(x[j,s] for j in 1:n if AdjMat[j,s]==1) ==1)\n",
    "    @constraint(prof,sum(x[t,j] for j in 1:n if AdjMat[t,j]==1)\n",
    "        - sum(x[j,t] for j in 1:n if AdjMat[j,t]==1) == -1)\n",
    "\n",
    "    @constraint(prof, [i in 1:n;i!=s && i!=t], sum(x[i, j] for j in 1:n if AdjMat[i,j]==1) \n",
    "            - sum(x[j, i] for j in 1:n if AdjMat[j,i]==1) == 0)\n",
    "\n",
    "\n",
    "    ## Variable par dualisation\n",
    "\n",
    "    @variable(prof, a>=0)\n",
    "    @variable(prof, b[1:n] >=0) # b\n",
    "    @variable(prof, g>=0)\n",
    "    @variable(prof, l[1:n,1:n] >=0) #l_ij\n",
    "\n",
    "    #constraint dualisation\n",
    "\n",
    "    @constraint(prof, [i in 1:n], a+ b[i] >= y[i]*ph[i])\n",
    "    @constraint(prof, [i in 1:n, j in 1:n; AdjMat[i,j]==1], l[i,j]+g>= x[i,j] * d[i,j])\n",
    "    @constraint(prof, sum(y[i]*p[i] + b[i]*2 for i in 1:n) + a*d2 <= S)\n",
    "\n",
    "    # obkectif function:\n",
    "    @objective(prof, Min, sum(x[i,j]*d[i,j]+l[i,j]*D[i,j] for i in 1:n, j in 1:n if AdjMat[i,j]==1) + g*d1 );\n",
    "\n",
    "    optimize!(prof)\n",
    "\n",
    "    # Récupération du status de la résolution\n",
    "    feasibleSolutionFound = primal_status(prof) == MOI.FEASIBLE_POINT\n",
    "    isOptimal = termination_status(prof) == MOI.OPTIMAL\n",
    "    if feasibleSolutionFound\n",
    "        println(\"Probleme resolu:\")\n",
    "        #Valeur objectif\n",
    "        if (isOptimal)\n",
    "            return JuMP.objective_value(prof),\"opt\";\n",
    "        else\n",
    "            return JuMP.objective_value(prof),\"feas\";\n",
    "        end\n",
    "    else\n",
    "        return -1,\"notfound\"\n",
    "    end\n",
    "\n",
    "end\n"
   ]
  },
  {
   "cell_type": "code",
   "execution_count": 25,
   "metadata": {},
   "outputs": [
    {
     "name": "stdout",
     "output_type": "stream",
     "text": [
      "1400_USA-road-d.COL.gr\n"
     ]
    },
    {
     "name": "stdout",
     "output_type": "stream",
     "text": [
      "Probleme resolu:\n",
      "1500_USA-road-d.COL.gr"
     ]
    },
    {
     "name": "stdout",
     "output_type": "stream",
     "text": [
      "\n",
      "Probleme resolu:\n",
      "1600_USA-road-d.COL.gr\n"
     ]
    },
    {
     "name": "stdout",
     "output_type": "stream",
     "text": [
      "Probleme resolu:\n",
      "1700_USA-road-d.COL.gr"
     ]
    },
    {
     "name": "stdout",
     "output_type": "stream",
     "text": [
      "\n",
      "Probleme resolu:\n"
     ]
    },
    {
     "name": "stdout",
     "output_type": "stream",
     "text": [
      "1800_USA-road-d.COL.gr\n",
      "1900_USA-road-d.COL.gr\n"
     ]
    },
    {
     "name": "stdout",
     "output_type": "stream",
     "text": [
      "2000_USA-road-d.COL.gr\n"
     ]
    },
    {
     "name": "stdout",
     "output_type": "stream",
     "text": [
      "Probleme resolu:\n",
      "2100_USA-road-d.COL.gr"
     ]
    },
    {
     "name": "stdout",
     "output_type": "stream",
     "text": [
      "\n",
      "2100_USA-road-d.NY.gr"
     ]
    },
    {
     "name": "stdout",
     "output_type": "stream",
     "text": [
      "\n",
      "Probleme resolu:\n",
      "2200_USA-road-d.COL.gr\n",
      "2200_USA-road-d.NY.gr"
     ]
    },
    {
     "name": "stdout",
     "output_type": "stream",
     "text": [
      "\n"
     ]
    },
    {
     "name": "stdout",
     "output_type": "stream",
     "text": [
      "Probleme resolu:\n",
      "2300_USA-road-d.BAY.gr\n"
     ]
    },
    {
     "name": "stdout",
     "output_type": "stream",
     "text": [
      "Probleme resolu:\n",
      "2300_USA-road-d.COL.gr"
     ]
    },
    {
     "name": "stdout",
     "output_type": "stream",
     "text": [
      "\n",
      "2300_USA-road-d.NY.gr\n"
     ]
    },
    {
     "name": "stdout",
     "output_type": "stream",
     "text": [
      "Probleme resolu:\n",
      "2400_USA-road-d.BAY.gr\n",
      "Probleme resolu:"
     ]
    },
    {
     "name": "stdout",
     "output_type": "stream",
     "text": [
      "\n",
      "2400_USA-road-d.COL.gr"
     ]
    },
    {
     "name": "stdout",
     "output_type": "stream",
     "text": [
      "\n",
      "2400_USA-road-d.NY.gr\n"
     ]
    },
    {
     "name": "stdout",
     "output_type": "stream",
     "text": [
      "2500_USA-road-d.BAY.gr\n",
      "Probleme resolu:"
     ]
    },
    {
     "name": "stdout",
     "output_type": "stream",
     "text": [
      "\n",
      "2500_USA-road-d.COL.gr\n"
     ]
    },
    {
     "name": "stdout",
     "output_type": "stream",
     "text": [
      "2500_USA-road-d.NY.gr\n"
     ]
    }
   ],
   "source": [
    "file3=\"result_dual.csv\"\n",
    "files = [\n",
    "    \"1400_USA-road-d.COL.gr\",\n",
    "    \"1500_USA-road-d.COL.gr\",\n",
    "    \"1600_USA-road-d.COL.gr\",\n",
    "    \"1700_USA-road-d.COL.gr\",\n",
    "    \"1800_USA-road-d.COL.gr\",\n",
    "    \"1900_USA-road-d.COL.gr\",\n",
    "    \"2000_USA-road-d.COL.gr\",\n",
    "    \"2100_USA-road-d.COL.gr\",\n",
    "    \"2100_USA-road-d.NY.gr\",\n",
    "    \"2200_USA-road-d.COL.gr\",\n",
    "    \"2200_USA-road-d.NY.gr\",\n",
    "    \"2300_USA-road-d.BAY.gr\",\n",
    "    \"2300_USA-road-d.COL.gr\",\n",
    "    \"2300_USA-road-d.NY.gr\",\n",
    "    \"2400_USA-road-d.BAY.gr\",\n",
    "    \"2400_USA-road-d.COL.gr\",\n",
    "    \"2400_USA-road-d.NY.gr\",\n",
    "    \"2500_USA-road-d.BAY.gr\",\n",
    "    \"2500_USA-road-d.COL.gr\",\n",
    "    \"2500_USA-road-d.NY.gr\"\n",
    "]\n",
    "\n",
    "for name in files\n",
    "    println(name)\n",
    "    fout=open(file3,\"a\")\n",
    "    # parametres a definir n, s, t, S, d1,d2, p, ph\n",
    "    n,s,t,S,d1,d2,p,ph,d,D,AdjMat=readfile(\"Data_project\\\\data\\\\processed\\\\\"*name)\n",
    "    #println(n)\n",
    "    start=time()\n",
    "    v_dual,status=DualModel(n,s,t,S,d1,d2,p,ph,d,D,AdjMat)\n",
    "    println(fout,name,\",\",v_dual,\",\",status,\",\",time()-start)\n",
    "    close(fout)\n",
    "end"
   ]
  },
  {
   "attachments": {},
   "cell_type": "markdown",
   "metadata": {},
   "source": [
    "### Plans coupant:\n",
    "On resout Master Probleme, apres Sous-probleme1 , sous-probleme2, et on verifie la condition (9) et (10) (par rapport au rapport theorique). Si on trouve qu'au moins un des conditions ne sont pas verifier, on ajoute des coupes. Jusqu'a resodre tout le probleme.\n",
    "\n"
   ]
  },
  {
   "cell_type": "code",
   "execution_count": 6,
   "metadata": {},
   "outputs": [
    {
     "data": {
      "text/plain": [
       "MP (generic function with 1 method)"
      ]
     },
     "metadata": {},
     "output_type": "display_data"
    }
   ],
   "source": [
    "#Master Probleme\n",
    "\n",
    "\n",
    "\n",
    "function MP(n,s,t,S,d1,d2,p,ph,d,D,AdjMat)#return modele\n",
    "    mp=Model(CPLEX.Optimizer)\n",
    "\n",
    "    set_optimizer_attribute(mp, \"CPX_PARAM_TILIM\", 100)\n",
    "    set_optimizer_attribute(mp, \"CPX_PARAM_SCRIND\", 0)\n",
    "\n",
    "    @variable(mp,x[1:n ,1:n], Bin)\n",
    "    @variable(mp,y[1:n], Bin)\n",
    "    @variable(mp,z>=0)\n",
    "\n",
    "    # Contraint de base\n",
    "    @constraint(mp,[j in 1:n; j!=t], y[j]==sum( x[i,j] for i in 1:n if AdjMat[i,j]==1))\n",
    "    @constraint(mp,y[t]==sum(x[j,t] for j in 1:n if AdjMat[j,t]==1))\n",
    "    @constraint(mp,sum(x[s,j] for j in 1:n if AdjMat[s,j]==1) - sum(x[j,s] for j in 1:n if AdjMat[j,s]==1) ==1)\n",
    "    @constraint(mp,sum(x[t,j] for j in 1:n if AdjMat[t,j]==1) - sum(x[j,t] for j in 1:n if AdjMat[j,t]==1) == -1)\n",
    "\n",
    "    @constraint(mp, [i in 1:n;i != s && i != t], sum(x[i,j] for j in 1:n if AdjMat[i,j]== 1)\n",
    "         - sum(x[j, i] for j in 1:n if AdjMat[j,i]==1) == 0)\n",
    "      \n",
    "\n",
    "    #Contrainte de Master Probleme\n",
    "    @constraint(mp, sum(x[i,j]*d[i,j] for i in 1:n, j in 1:n if AdjMat[i,j]==1)<=z)\n",
    "    @constraint(mp, sum(y[i]*p[i] for i in 1:n)<=S)\n",
    "\n",
    "    # objectif function\n",
    "    @objective(mp,Min,z)\n",
    "    \n",
    "    optimize!(mp)\n",
    "\n",
    "    #println(\"Value:\", JuMP.objective_value(mp))\n",
    "    # Récupération du status de la résolution\n",
    "    return mp;\n",
    "    \n",
    "end\n",
    "\n",
    "\n"
   ]
  },
  {
   "cell_type": "code",
   "execution_count": 7,
   "metadata": {},
   "outputs": [
    {
     "data": {
      "text/plain": [
       "SP1 (generic function with 1 method)"
      ]
     },
     "metadata": {},
     "output_type": "display_data"
    }
   ],
   "source": [
    "#return (obj_value, delta1, flag) - flag=1 si on a trouver la solution ot, 0 sinon\n",
    "function SP1(x, n,s,t,S,d1,d2,p,ph,d,D,AdjMat)\n",
    "\n",
    "    m1=Model(CPLEX.Optimizer)\n",
    "    set_optimizer_attribute(m1, \"CPX_PARAM_TILIM\", 30)\n",
    "    set_optimizer_attribute(m1, \"CPX_PARAM_SCRIND\", 0)\n",
    "    #variable delta_ij\n",
    "    @variable(m1,delta1[i in 1:n, j in 1:n;AdjMat[i,j]==1]>=0)\n",
    "\n",
    "    #Contraintes\n",
    "    @constraint(m1, [i in 1:n, j in 1:n; AdjMat[i,j]==1], delta1[i,j]<=D[i,j] )\n",
    "    @constraint(m1,sum(delta1[i,j] for i in 1:n, j in 1:n if AdjMat[i,j]==1)<=d1)\n",
    "\n",
    "    #Objectif\n",
    "    @objective(m1,Max,sum(x[i,j]*d[i,j]*(1+delta1[i,j]) for i in 1:n, j in 1:n if AdjMat[i,j]==1))\n",
    "\n",
    "    optimize!(m1)\n",
    "\n",
    "    # Récupération du status de la résolution\n",
    "    feasibleSolutionFound = primal_status(m1) == MOI.FEASIBLE_POINT\n",
    "    isOptimal = termination_status(m1) == MOI.OPTIMAL\n",
    "    if feasibleSolutionFound \n",
    "        #println(\"Sous-Probleme1 resolu:\")\n",
    "        #Valeur objectif\n",
    "        #println(\"Valeur de l'objectif : \",JuMP.objective_value(m1))\n",
    "        return (JuMP.objective_value(m1),JuMP.value.(delta1[:,:]),1)\n",
    "    else\n",
    "        return (-1,-1,0)\n",
    "    end\n",
    "\n",
    "end"
   ]
  },
  {
   "cell_type": "code",
   "execution_count": 8,
   "metadata": {},
   "outputs": [
    {
     "data": {
      "text/plain": [
       "SP2 (generic function with 1 method)"
      ]
     },
     "metadata": {},
     "output_type": "display_data"
    }
   ],
   "source": [
    "function SP2(y, n,s,t,S,d1,d2,p,ph,d,D,AdjMat)# return (objective_value, delta2, flag)\n",
    "\n",
    "    m2=Model(CPLEX.Optimizer)\n",
    "    set_optimizer_attribute(m2, \"CPX_PARAM_TILIM\", 10)\n",
    "    set_optimizer_attribute(m2, \"CPX_PARAM_SCRIND\", 0)\n",
    "    #variable delta_ij\n",
    "    @variable(m2,delta2[i in 1:n]>=0)\n",
    "\n",
    "    #Contraintes\n",
    "    @constraint(m2, [i in 1:n], delta2[i]<=2);\n",
    "    @constraint(m2,sum(delta2[i] for i in 1:n)<=d2)\n",
    "\n",
    "    #Objectif\n",
    "    @objective(m2,Max,sum(y[i]*(p[i]+delta2[i]*ph[i]) for i in 1:n));\n",
    "\n",
    "    optimize!(m2)\n",
    "\n",
    "    # Récupération du status de la résolution\n",
    "    feasibleSolutionFound = primal_status(m2) == MOI.FEASIBLE_POINT\n",
    "    isOptimal = termination_status(m2) == MOI.OPTIMAL\n",
    "    if feasibleSolutionFound\n",
    "        #println(\"Sous-Probleme1 resolu:\")\n",
    "        #Valeur objectif\n",
    "        #println(\"Valeur de l'objectif : \",JuMP.objective_value(m2))\n",
    "        return (JuMP.objective_value(m2),JuMP.value.(delta2),1)\n",
    "    else\n",
    "        return (-1,[],0)\n",
    "    end\n",
    "    \n",
    "end"
   ]
  },
  {
   "cell_type": "code",
   "execution_count": 9,
   "metadata": {},
   "outputs": [
    {
     "data": {
      "text/plain": [
       "add_plan_coupant2! (generic function with 1 method)"
      ]
     },
     "metadata": {},
     "output_type": "display_data"
    }
   ],
   "source": [
    "function add_plan_coupant1!(model,_dlt1,n,s,t,S,d1,d2,p,ph,d,D,AdjMat)\n",
    "   @constraint(model,model[:z] >= sum(d[i,j]*(_dlt1[i,j]+1)*(model[:x])[i,j] for i in 1:n, j in 1:n if AdjMat[i,j]==1))\n",
    "    \n",
    "end\n",
    "\n",
    "function add_plan_coupant2!(model,_dlt2,n,s,t,S,d1,d2,p,ph,d,D,AdjMat)\n",
    "    @constraint(model, S>= sum((model[:y])[i]*(_dlt2[i]*ph[i]+p[i]) for i in 1:n ))\n",
    "    \n",
    "end"
   ]
  },
  {
   "cell_type": "code",
   "execution_count": 10,
   "metadata": {},
   "outputs": [
    {
     "name": "stdout",
     "output_type": "stream",
     "text": [
      "100 sec\n"
     ]
    },
    {
     "name": "stdout",
     "output_type": "stream",
     "text": [
      "1000_USA-road-d.BAY.gr\n"
     ]
    }
   ],
   "source": [
    "# While not find solution - ajoute plans coupants\n",
    "filesNames=dataFiles(\"Data_project\\\\data\\\\processed\\\\\")\n",
    "\n",
    "# filesNames=[\n",
    "#     \"1100_USA-road-d.BAY.gr\",\n",
    "#     \"1200_USA-road-d.BAY.gr\",\n",
    "#     \"1300_USA-road-d.BAY.gr\",\n",
    "#     \"1300_USA-road-d.COL.gr\",\n",
    "#     \"1500_USA-road-d.BAY.gr\",\n",
    "#     \"1600_USA-road-d.BAY.gr\",\n",
    "#     \"1700_USA-road-d.BAY.gr\",\n",
    "#     \"1800_USA-road-d.BAY.gr\",\n",
    "#     \"1800_USA-road-d.COL.gr\",\n",
    "#     \"1900_USA-road-d.BAY.gr\",\n",
    "#     \"1900_USA-road-d.COL.gr\",\n",
    "#     \"2000_USA-road-d.BAY.gr\",\n",
    "#     \"2000_USA-road-d.NY.gr\",\n",
    "#     \"2100_USA-road-d.BAY.gr\",\n",
    "#     \"2100_USA-road-d.COL.gr\",\n",
    "#     \"2100_USA-road-d.NY.gr\",\n",
    "#     \"2200_USA-road-d.BAY.gr\",\n",
    "#     \"2200_USA-road-d.NY.gr\",\n",
    "#     \"2300_USA-road-d.BAY.gr\",\n",
    "#     \"2300_USA-road-d.NY.gr\",\n",
    "#     \"2400_USA-road-d.BAY.gr\",\n",
    "#     \"2400_USA-road-d.COL.gr\",\n",
    "#     \"2400_USA-road-d.NY.gr\",\n",
    "#     \"2500_USA-road-d.BAY.gr\",\n",
    "#     \"2500_USA-road-d.NY.gr\"\n",
    "# ]\n",
    "resoudre=0\n",
    "println(\"100 sec\")\n",
    "for name in filesNames\n",
    "    println(name)\n",
    "    #counter \n",
    "    k=0;\n",
    "    # parametres a definir n, s, t, S, d1,d2, p, ph\n",
    "    n,s,t,S,d1,d2,p,ph,d,D,AdjMat=readfile(\"Data_project\\\\data\\\\processed\\\\\"*name)\n",
    "    #println(n)\n",
    "    mp=MP(n,s,t,S,d1,d2,p,ph,d,D,AdjMat)\n",
    "    start=time()\n",
    "    value_mp=0\n",
    "\n",
    "    while true\n",
    "        \n",
    "        #Solve Master problem\n",
    "        #println(k)\n",
    "        optimize!(mp)\n",
    "        \n",
    "        feasibleSolutionFound = primal_status(mp) == MOI.FEASIBLE_POINT\n",
    "        isOptimal = termination_status(mp) == MOI.OPTIMAL\n",
    "\n",
    "        if time()-start >=100 || k>300\n",
    "            println(\"Time expired\")\n",
    "            if feasibleSolutionFound\n",
    "                if isOptimal\n",
    "                    resoudre=resoudre+1\n",
    "                    println(name*\",\",value_mp,\",\",k,\",\",time()-start,\"opt\")\n",
    "                else\n",
    "                    println(name*\",\",value_mp,\",\",k,\",\",time()-start,\"feas\")\n",
    "                end\n",
    "            else\n",
    "                println(name*\",\",-1,\",\",k,\",\",time()-start,\"nor found\")\n",
    "            end\n",
    "\n",
    "            break\n",
    "        end\n",
    "\n",
    "        if feasibleSolutionFound\n",
    "            #println(\"Probleme resolu:\")\n",
    "            #Valeur objectif\n",
    "            #println(\"Valeur de l'objectif : \",JuMP.objective_value(mp))\n",
    "            value_mp=JuMP.objective_value(mp);\n",
    "            z_,x_,y_=value_mp, JuMP.value.(mp[:x][:,:]),JuMP.value.(mp[:y]);\n",
    "        \n",
    "\n",
    "        \n",
    "            # Solve Sous-probleme 1\n",
    "            z_1,delta1,flag1=SP1(x_, n,s,t,S,d1,d2,p,ph,d,D,AdjMat);\n",
    "\n",
    "            z_2,delta2,flag2=SP2(y_, n,s,t,S,d1,d2,p,ph,d,D,AdjMat);\n",
    "\n",
    "            if flag1!=1 || flag2!=1\n",
    "                println(\"Don't know what to do\")\n",
    "            end\n",
    "\n",
    "            # on ajoute epsilon 1e-5\n",
    "            if (abs(z_1-z_)<=1e-5) && (z_2-1e-5<= S) \n",
    "                println(\"Solution optimal trouver: nb iterations \", k)\n",
    "                println(\"Valeur opt: \" ,z_);\n",
    "                break; \n",
    "            else\n",
    "                k+=1;\n",
    "                if z_1!=z_ \n",
    "                    #println(\"Add plan coupans de type 1\")\n",
    "                    add_plan_coupant1!(mp,delta1,n,s,t,S,d1,d2,p,ph,d,D,AdjMat)\n",
    "                end\n",
    "                if (z_2> S)\n",
    "                    #println(\"Add plan coupans de type 2\")\n",
    "                    add_plan_coupant2!(mp,delta2,n,s,t,S,d1,d2,p,ph,d,D,AdjMat)\n",
    "                end\n",
    "            end\n",
    "        end\n",
    "\n",
    "        \n",
    "    end\n",
    "\n",
    "\n",
    "end\n",
    " "
   ]
  },
  {
   "cell_type": "code",
   "execution_count": null,
   "metadata": {},
   "outputs": [],
   "source": []
  },
  {
   "attachments": {},
   "cell_type": "markdown",
   "metadata": {},
   "source": [
    "## Callback; Branch and Cut "
   ]
  },
  {
   "cell_type": "code",
   "execution_count": 8,
   "metadata": {},
   "outputs": [
    {
     "data": {
      "text/plain": [
       "isIntegerPoint (generic function with 1 method)"
      ]
     },
     "metadata": {},
     "output_type": "display_data"
    }
   ],
   "source": []
  },
  {
   "cell_type": "code",
   "execution_count": 8,
   "metadata": {},
   "outputs": [
    {
     "name": "stdout",
     "output_type": "stream",
     "text": [
      "1100_USA-road-d.BAY.gr"
     ]
    },
    {
     "name": "stdout",
     "output_type": "stream",
     "text": [
      "\n",
      "1200_USA-road-d.BAY.gr\n"
     ]
    },
    {
     "name": "stdout",
     "output_type": "stream",
     "text": [
      "1300_USA-road-d.BAY.gr"
     ]
    },
    {
     "name": "stdout",
     "output_type": "stream",
     "text": [
      "\n",
      "1300_USA-road-d.COL.gr\n"
     ]
    },
    {
     "name": "stdout",
     "output_type": "stream",
     "text": [
      "1500_USA-road-d.BAY.gr\n"
     ]
    },
    {
     "name": "stdout",
     "output_type": "stream",
     "text": [
      "1600_USA-road-d.BAY.gr\n"
     ]
    },
    {
     "name": "stdout",
     "output_type": "stream",
     "text": [
      "1700_USA-road-d.BAY.gr"
     ]
    },
    {
     "name": "stdout",
     "output_type": "stream",
     "text": [
      "\n"
     ]
    },
    {
     "name": "stdout",
     "output_type": "stream",
     "text": [
      "1800_USA-road-d.BAY.gr\n",
      "1800_USA-road-d.COL.gr\n"
     ]
    }
   ],
   "source": [
    "# On précise que le modèle doit utiliser notre fonction de callback\n",
    "\n",
    "files = [\n",
    "    \"1100_USA-road-d.BAY.gr\",\n",
    "    \"1200_USA-road-d.BAY.gr\",\n",
    "    \"1300_USA-road-d.BAY.gr\",\n",
    "    \"1300_USA-road-d.COL.gr\",\n",
    "    \"1500_USA-road-d.BAY.gr\",\n",
    "    \"1600_USA-road-d.BAY.gr\",\n",
    "    \"1700_USA-road-d.BAY.gr\",\n",
    "    \"1800_USA-road-d.BAY.gr\",\n",
    "    \"1800_USA-road-d.COL.gr\",\n",
    "    \"1900_USA-road-d.BAY.gr\",\n",
    "    \"1900_USA-road-d.COL.gr\",\n",
    "    \"2000_USA-road-d.BAY.gr\",\n",
    "    \"2000_USA-road-d.NY.gr\",\n",
    "    \"2100_USA-road-d.BAY.gr\",\n",
    "    \"2100_USA-road-d.COL.gr\",\n",
    "    \"2100_USA-road-d.NY.gr\",\n",
    "    \"2200_USA-road-d.BAY.gr\",\n",
    "    \"2200_USA-road-d.NY.gr\",\n",
    "    \"2300_USA-road-d.BAY.gr\",\n",
    "    \"2300_USA-road-d.NY.gr\",\n",
    "    \"2400_USA-road-d.BAY.gr\",\n",
    "    \"2400_USA-road-d.COL.gr\",\n",
    "    \"2400_USA-road-d.NY.gr\",\n",
    "    \"2500_USA-road-d.BAY.gr\",\n",
    "    \"2500_USA-road-d.NY.gr\"\n",
    "]\n",
    "\n",
    "for name in files\n",
    "    foutBC=open(\"result_BC_2.csv\",\"a\")\n",
    "    println(name)\n",
    "    start=time()\n",
    "    n,s,t,S,d1,d2,p,ph,d,D,AdjMat=readfile(\"Data_project\\\\data\\\\processed\\\\\"*name)\n",
    "\n",
    "    model_BC=Model(CPLEX.Optimizer)\n",
    "    MOI.set(model_BC, MOI.NumberOfThreads(), 1)\n",
    "    set_optimizer_attribute(model_BC, \"CPX_PARAM_TILIM\", 500)\n",
    "    set_optimizer_attribute(model_BC, \"CPX_PARAM_SCRIND\", 0)\n",
    "\n",
    "\n",
    "    function mon_callback(cb_data::CPLEX.CallbackContext, context_id::Clong)\n",
    "         # On teste d’abord si c’est l’obtention d’une solution entière\n",
    "         # qui a entraîné l’appel du callback\n",
    "         # (cette fonction isIntegerPoint est définie ci-dessous mais son\n",
    "         # contenu n’est pas très important)\n",
    "     \n",
    "         if isIntegerPoint(cb_data, context_id)\n",
    "             # Cette ligne doit être appelée avant de pouvoir récupérer la\n",
    "             # solution entière ayant entraîné l’appel du callback\n",
    "             CPLEX.load_callback_variable_primal(cb_data, context_id)\n",
    "             # On récupère la valeur de x\n",
    "             x_val = callback_value.(cb_data, model_BC[:x][:,:])\n",
    "             z_val = callback_value(cb_data, z)\n",
    "             y_val = callback_value.(cb_data, model_BC[:y])\n",
    "     \n",
    "             z_1,delta1,flag1=SP1(x_val, n,s,t,S,d1,d2,p,ph,d,D,AdjMat);\n",
    "     \n",
    "             z_2,delta2,flag2=SP2(y_val, n,s,t,S,d1,d2,p,ph,d,D,AdjMat);\n",
    "     \n",
    "             if flag1!=1 || flag2!=1\n",
    "                 println(\"Don't know what to do\")\n",
    "             end\n",
    "     \n",
    "             # on ajoute epsilon 1e-5\n",
    "                 if abs(z_1-z_val)> 1e-5\n",
    "                     cstr = @build_constraint(model_BC[:z] >= sum(d[i,j]*(delta1[i,j]+1)*(model_BC[:x])[i,j] for i in 1:n, j in 1:n if AdjMat[i,j]==1))\n",
    "                     MOI.submit(model_BC, MOI.LazyConstraint(cb_data), cstr)\n",
    "         \n",
    "                     #println(\"Add constraint type 1\")\n",
    "                 end\n",
    "                 if (z_2> S+1e-5)\n",
    "                     cstr=@build_constraint(S>= sum((model_BC[:y])[i]*(delta2[i]*ph[i]+p[i]) for i in 1:n))\n",
    "                     MOI.submit(model_BC,MOI.LazyConstraint(cb_data),cstr)\n",
    "     \n",
    "                    # println(\"Add constraint type 2\")\n",
    "                 end\n",
    "             \n",
    "         end\n",
    "     end\n",
    "     \n",
    "     # Fonction permettant de déterminer si c’est l’obtention d’une\n",
    "     # solution entière qui a entraîné l’appel d’un callback\n",
    "     # (il n’est pas nécessaire d’en comprendre le fonctionnement)1\n",
    "         function isIntegerPoint(cb_data::CPLEX.CallbackContext, context_id::Clong)\n",
    "         # context_id == CPX_CALLBACKCONTEXT_CANDIDATE si le callback est\n",
    "         # appelé dans un des deux cas suivants :\n",
    "         # cas 1 - une solution entière a été obtenue; ou\n",
    "         # cas 2 - une relaxation non bornée a été obtenue\n",
    "         if context_id != CPX_CALLBACKCONTEXT_CANDIDATE\n",
    "             return false\n",
    "         end\n",
    "         # Pour déterminer si on est dans le cas 1 ou 2, on essaie de récupérer la\n",
    "         # solution entière courante\n",
    "         ispoint_p = Ref{Cint}()\n",
    "         ret = CPXcallbackcandidateispoint(cb_data, ispoint_p)\n",
    "         # S’il n’y a pas de solution entière\n",
    "         if ret != 0 || ispoint_p[] == 0\n",
    "             return false\n",
    "         else\n",
    "             return true\n",
    "         end\n",
    "     end\n",
    "             \n",
    "\n",
    "    @variable(model_BC,x[1:n ,1:n], Bin)\n",
    "    @variable(model_BC,y[1:n], Bin)\n",
    "    @variable(model_BC,z>=0)\n",
    "\n",
    "    # Contraint de base\n",
    "    @constraint(model_BC,[j in 1:n; j!=t], y[j]==sum( x[i,j] for i in 1:n if AdjMat[i,j]==1))\n",
    "    @constraint(model_BC,y[t]==sum(x[j,t] for j in 1:n if AdjMat[j,t]==1))\n",
    "    @constraint(model_BC,sum(x[s,j] for j in 1:n if AdjMat[s,j]==1) - sum(x[j,s] for j in 1:n if AdjMat[j,s]==1) ==1)\n",
    "    @constraint(model_BC,sum(x[t,j] for j in 1:n if AdjMat[t,j]==1) - sum(x[j,t] for j in 1:n if AdjMat[j,t]==1) == -1)\n",
    "\n",
    "    @constraint(model_BC, [i in 1:n;i != s && i != t],sum(x[i,j] for j in 1:n if AdjMat[i,j]== 1)\n",
    "         - sum(x[j, i] for j in 1:n if AdjMat[j,i]==1) == 0)\n",
    "    \n",
    "\n",
    "    #Contrainte de Master Probleme\n",
    "    @constraint(model_BC, sum(x[i,j]*d[i,j] for i in 1:n, j in 1:n if AdjMat[i,j]==1)<=z)\n",
    "    @constraint(model_BC, sum(y[i]*p[i] for i in 1:n)<=S)\n",
    "\n",
    "    # objectif function\n",
    "    @objective(model_BC,Min,z)\n",
    "\n",
    "    MOI.set(model_BC, CPLEX.CallbackFunction(), mon_callback)\n",
    "    optimize!(model_BC)\n",
    "\n",
    "    feasibleSolutionFound = primal_status(model_BC) == MOI.FEASIBLE_POINT\n",
    "    isOptimal = termination_status(model_BC) == MOI.OPTIMAL\n",
    "    if feasibleSolutionFound\n",
    "         print(foutBC,name,\",\")\n",
    "         if isOptimal\n",
    "              print(foutBC,JuMP.objective_value(model_BC),\",optimal,\")\n",
    "         #Valeur objectif\n",
    "         else\n",
    "              print(foutBC,JuMP.objective_value(model_BC),\",feasible,\")\n",
    "         end\n",
    "   else\n",
    "       print(foutBC,name,\",-1,not find,\")\n",
    "    end\n",
    "    println(foutBC,time()-start)\n",
    "    close(foutBC)\n",
    "end"
   ]
  },
  {
   "attachments": {},
   "cell_type": "markdown",
   "metadata": {},
   "source": [
    "## Heuristique\n",
    "\n",
    "On va procéder de la façon suivante:\n",
    "on commence en s, apres on regarde tout les voisin possible , au debut on choisi tels i dans le N(s), qui satisfait: y_i*p_i<=S; comme ca on forme un ensemble C(s); pour chaque v in C(s) on calcule solution de la relaxation en imposent s-i comme le premier arete. Ainsi de suite, jusqu’a arriver en t"
   ]
  },
  {
   "cell_type": "markdown",
   "metadata": {},
   "source": []
  },
  {
   "cell_type": "code",
   "execution_count": null,
   "metadata": {},
   "outputs": [],
   "source": [
    "function heuristique()\n",
    "\n",
    "    C_i=[]# voisin de i qui satisfait y_i*p_i<=S\n",
    "    Eval_candidat=Dict{Int, Float64}()\n",
    "    sommets_vu=[]\n",
    "\n",
    "    # Remplir C_i\n",
    "    for v in N(s)\n",
    "        if p[v]<=S\n",
    "            push!(C_i,v)\n",
    "            # on resou la relax ou on impose v==1\n",
    "            setvalue.(model[:x][s, v], 1)\n",
    "            setvalue.(model[:y][v],1)\n",
    "\n",
    "            optimize!(model)\n",
    "\n",
    "            if termination_status(model)==MOI.OPTIMAL\n",
    "                Eval_candidat[v]=objective_value(model)\n",
    "            end\n",
    "        end\n",
    "    end\n",
    "\n",
    "    sort!(collect(Eval_candidat),by= x->x[2])\n",
    "\n",
    "    push!(sommets_vu,keys(first(Eval_candidat)))\n",
    "    empty!(Eval_candidat)\n",
    "\n",
    "    while()\n",
    "\n",
    "\n",
    "\n",
    "end"
   ]
  },
  {
   "cell_type": "code",
   "execution_count": 13,
   "metadata": {},
   "outputs": [
    {
     "name": "stdout",
     "output_type": "stream",
     "text": [
      "Probleme resolu:\n"
     ]
    },
    {
     "name": "stdout",
     "output_type": "stream",
     "text": [
      "Valeur de l'objectif : 9365.0"
     ]
    },
    {
     "name": "stdout",
     "output_type": "stream",
     "text": [
      "\n",
      "[12, 13, 15, 17, 19]"
     ]
    },
    {
     "name": "stdout",
     "output_type": "stream",
     "text": [
      "\n",
      "[-0.0, -0.0, -0.0, -0.0, -0.0, -0.0, -0.0, -0.0, -0.0, -0.0, -0.0, 1.0, 1.0, -0.0, 1.0, -0.0, 1.0, -0.0, 1.0, -0.0]\n"
     ]
    },
    {
     "ename": "ErrorException",
     "evalue": "`Base.size` is not implemented for `SparseAxisArray` because although it is a subtype of `AbstractArray`, it is conceptually closer to a dictionary with `N`-dimensional keys. If you encounter this error and you didn't call `size` explicitly, it is because you called a method that is unsupported for `SparseAxisArray`s. Consult the JuMP documentation for a list of supported operations.",
     "output_type": "error",
     "traceback": [
      "`Base.size` is not implemented for `SparseAxisArray` because although it is a subtype of `AbstractArray`, it is conceptually closer to a dictionary with `N`-dimensional keys. If you encounter this error and you didn't call `size` explicitly, it is because you called a method that is unsupported for `SparseAxisArray`s. Consult the JuMP documentation for a list of supported operations.\n",
      "\n",
      "Stacktrace:\n",
      " [1] error(s::String)\n",
      "   @ Base .\\error.jl:35\n",
      " [2] size(#unused#::JuMP.Containers.SparseAxisArray{Bool, 1, Tuple{Int64}})\n",
      "   @ JuMP.Containers C:\\Users\\Boss\\.julia\\packages\\JuMP\\ToPd2\\src\\Containers\\SparseAxisArray.jl:58\n",
      " [3] axes\n",
      "   @ .\\abstractarray.jl:98 [inlined]\n",
      " [4] LinearIndices(A::JuMP.Containers.SparseAxisArray{Bool, 1, Tuple{Int64}})\n",
      "   @ Base .\\indices.jl:486\n",
      " [5] keys(a::JuMP.Containers.SparseAxisArray{Bool, 1, Tuple{Int64}})\n",
      "   @ Base .\\abstractarray.jl:162\n",
      " [6] _findall(f::Function, A::JuMP.Containers.SparseAxisArray{Bool, 1, Tuple{Int64}})\n",
      "   @ Base .\\array.jl:2408\n",
      " [7] findall(A::JuMP.Containers.SparseAxisArray{Bool, 1, Tuple{Int64}})\n",
      "   @ Base .\\array.jl:2440\n",
      " [8] top-level scope\n",
      "   @ c:\\Users\\Boss\\Documents\\Telecom Paris\\MPRO\\PROJ\\proj.ipynb:59"
     ]
    }
   ],
   "source": [
    "name=\"20_USA-road-d.BAY.gr\"\n",
    "n,s,t,S,d1,d2,p,ph,d,D,AdjMat=readfile(\"Data_project\\\\data\\\\processed\\\\\"*name)\n",
    "    #println(n)\n",
    "\n",
    "model=Model(CPLEX.Optimizer)\n",
    "set_optimizer_attribute(model, \"CPX_PARAM_SCRIND\", 0)    \n",
    "#Variables\n",
    "@variable(model,x[i in 1:n,j in 1:n;AdjMat[i,j]==1],Bin)\n",
    "@variable(model,y[1:n],Bin)\n",
    "\n",
    "#Constraintes\n",
    "@constraint(model,sum(p[i]*y[i] for i in 1:n)<=S)\n",
    "@constraint(model,[i in 1:n;i!=t], y[i]==sum(x[i,j] for j in 1:n if AdjMat[i,j]==1))\n",
    "@constraint(model,y[t]==sum(x[i,t] for i in 1:n if AdjMat[i,t]==1))\n",
    "@constraint(model,[i in 1:n;i!=s&&i!=t], \n",
    "        sum(x[j,i] for j in 1:n if AdjMat[j,i]==1) - sum(x[i,j] for j in 1:n if AdjMat[i,j]==1)==0)\n",
    "@constraint(model,sum(x[s,j] for j in 1:n if AdjMat[s,j]==1) - sum(x[j,s] for j in 1:n if AdjMat[j,s]==1)==1)\n",
    "@constraint(model,sum(x[t,j] for j in 1:n if AdjMat[t,j]==1) - sum(x[j,t] for j in 1:n if AdjMat[j,t]==1)==-1)\n",
    "\n",
    "#objectif\n",
    "@objective(model,Min,sum(d[i,j]*x[i,j] for i in 1:n,j in 1:n if AdjMat[i,j]==1))\n",
    "\n",
    "optimize!(model)\n",
    "\n",
    "# Récupération du status de la résolution\n",
    "feasibleSolutionFound = primal_status(model) == MOI.FEASIBLE_POINT\n",
    "    isOptimal = termination_status(model) == MOI.OPTIMAL\n",
    "    if feasibleSolutionFound\n",
    "        println(\"Probleme resolu:\")\n",
    "        #Valeur objectif\n",
    "        if isOptimal \n",
    "            println(\"Valeur de l'objectif : \",JuMP.objective_value(model))\n",
    "            stat_solution_y=JuMP.value.(y)\n",
    "            stat_solution_x=JuMP.value.(x[:,:])\n",
    "        end\n",
    "    end\n",
    "\n",
    "\n",
    "best_find=JuMP.objective_value(model)\n",
    "vu_somets=[]\n",
    "uses_sommet=findall(stat_solution_y .==1)\n",
    "non_vu_somets=uses_sommet\n",
    "println(non_vu_somets)\n",
    "\n",
    "println(stat_solution_y)\n",
    "sol_opt_x=stat_solution_x\n",
    "sol_opt_y=stat_solution_y;\n",
    "\n",
    "start=time()\n",
    "\n",
    "while true\n",
    "\n",
    "    if time()-start >500\n",
    "        break\n",
    "    end\n",
    "\n",
    "    newSommet=false\n",
    "    v=rand(non_vu_somets)\n",
    "    pres_v = findall(stat_solution_x[:,v] .==1)\n",
    "    \n",
    "    suc_v=  findall(stat_solution_x[v,:] .==1)\n",
    "    deleteat!(non_vu_somets,v)\n",
    "    sommet=-1;\n",
    "    \n",
    "    for u in N[pres_v] \n",
    "        if suc_v in N[u]\n",
    "            # esseyon resoudre pour ce chemin avec u:\n",
    "\n",
    "            sol_new_y=sol_opt_y\n",
    "            sol_new_y[v]=0;\n",
    "            sol_new_y[u]=1;\n",
    "            sol_new_x=sol_opt_x;\n",
    "            sol_new_x[pres_v,v]=0\n",
    "            sol_new_x[v,suc_v]=0\n",
    "            sol_new_x[u,suc_v]=1\n",
    "            sol_new_x[pres_v,u]=1\n",
    "            mh=Model()\n",
    "            set_optimizer_attribute(mh, \"CPX_PARAM_TILIM\", 200)\n",
    "            set_optimizer_attribute(mh, \"CPX_PARAM_SCRIND\", 0)\n",
    "            \n",
    "            # variable de base: w_ij, q_i \n",
    "\n",
    "            @variable(mh,x[1:n,1:n],Bin)\n",
    "            @variable(mh, y[1:n],Bin)\n",
    "\n",
    "\n",
    "\n",
    "            # Contraint de base\n",
    "            @constraint(mh,[j in 1:n;j!=t], y[j]==sum(x[j,i] for i in 1:n if AdjMat[j,i]==1))\n",
    "            @constraint(mh, y[t]==sum(w[i,t] for i in 1:n if AdjMat[i,t]==1))\n",
    "            @constraint(mh,sum(x[s,j] for j in 1:n if AdjMat[s,j]==1)- sum(x[j,s] for j in 1:n if AdjMat[j,s]==1) ==1)\n",
    "            @constraint(mh,sum(x[t,j] for j in 1:n if AdjMat[t,j]==1)- sum(x[j,t] for j in 1:n if AdjMat[j,t]==1) == -1)\n",
    "\n",
    "            @constraint(mh,[i in 1:n;i != s && i != t], sum(x[i, j] for j in 1:n if AdjMat[i,j]==1)\n",
    "                    - sum(x[j, i] for j in 1:n if AdjMat[j,i]==1) == 0)\n",
    "            \n",
    "\n",
    "            ## Variable par dualisation\n",
    "\n",
    "            @variable(mh, t2>=0)\n",
    "            @variable(mh, b[1:n] >=0) # z'_v\n",
    "            @variable(mh, t1>=0)\n",
    "            @variable(mh, z[1:n,1:n] >=0) #z_ij\n",
    "\n",
    "            #constraint dualisation\n",
    "\n",
    "            @constraint(mh, [i in 1:n], t2 + b[i] >= y[i] * ph[i])\n",
    "            @constraint(mh, [i in 1:n, j in 1:n; AdjMat[i,j]==1], z[i,j]+t1>= x[i,j] * d[i,j])\n",
    "            @constraint(mh, sum(y[i]*p[i] + b[i]*2 for i in 1:n) + t2*d2 <= S)\n",
    "\n",
    "            # obkectif function:\n",
    "            @objective(mh, Min, sum(x[i,j]*d[i,j]+z[i,j]*D[i,j] for i in 1:n, j in 1:n if AdjMat[i,j]==1) + t1*d1 );\n",
    "\n",
    "            JuMP.fix(x,sol_new_x)\n",
    "            JuMP.fix(y,sol_new_y)\n",
    "\n",
    "            optimize!(mh)\n",
    "\n",
    "            feasibleSolutionFound = primal_status(mh) == MOI.FEASIBLE_POINT\n",
    "            isOptimal = termination_status(mh) == MOI.OPTIMAL\n",
    "\n",
    "            if feasibleSolutionFound\n",
    "                if isOptimal && JuMP.objective_value(mh)<best_find\n",
    "                    best_find=val(sol_new)\n",
    "                    sol_opt=sol_new\n",
    "                    newSommet=true\n",
    "                    sommet=u;\n",
    "                    break\n",
    "                else JuMP.objective_value(mh)<best_find\n",
    "                        best_find=val(sol_new)\n",
    "                        sol_opt=sol_new\n",
    "                        newSommet=true\n",
    "                        sommet=u;\n",
    "                        break\n",
    "                end\n",
    "            end\n",
    "        end\n",
    "\n",
    "    end\n",
    "\n",
    "    if newSommet==true \n",
    "        push!(non_vu_somets,sommet)\n",
    "    end\n",
    "\n",
    "end\n",
    "\n",
    "\n",
    "\n"
   ]
  },
  {
   "cell_type": "code",
   "execution_count": 7,
   "metadata": {},
   "outputs": [
    {
     "data": {
      "text/plain": [
       "1×3 Matrix{Int64}:\n",
       " 0  1  0"
      ]
     },
     "metadata": {},
     "output_type": "display_data"
    }
   ],
   "source": [
    "A=[0 1 0; 0 0 1; 0 0 0]\n",
    "\n",
    "A[findall(A[:,2] .==1),:]\n"
   ]
  },
  {
   "cell_type": "code",
   "execution_count": null,
   "metadata": {},
   "outputs": [],
   "source": []
  }
 ],
 "metadata": {
  "kernelspec": {
   "display_name": "Julia 1.9.3",
   "language": "julia",
   "name": "julia-1.9"
  },
  "language_info": {
   "file_extension": ".jl",
   "mimetype": "application/julia",
   "name": "julia",
   "version": "1.9.3"
  },
  "orig_nbformat": 4
 },
 "nbformat": 4,
 "nbformat_minor": 2
}
